{
 "cells": [
  {
   "cell_type": "code",
   "execution_count": 1,
   "id": "1857ec28",
   "metadata": {
    "_cell_guid": "b1076dfc-b9ad-4769-8c92-a6c4dae69d19",
    "_uuid": "8f2839f25d086af736a60e9eeb907d3b93b6e0e5",
    "execution": {
     "iopub.execute_input": "2024-05-13T12:40:23.256254Z",
     "iopub.status.busy": "2024-05-13T12:40:23.255687Z",
     "iopub.status.idle": "2024-05-13T12:40:26.638717Z",
     "shell.execute_reply": "2024-05-13T12:40:26.637109Z"
    },
    "papermill": {
     "duration": 3.393812,
     "end_time": "2024-05-13T12:40:26.642430",
     "exception": false,
     "start_time": "2024-05-13T12:40:23.248618",
     "status": "completed"
    },
    "tags": []
   },
   "outputs": [],
   "source": [
    "import pandas as pd\n",
    "import polars as pl\n",
    "import numpy as np\n",
    "import matplotlib.pyplot as plt\n",
    "from sklearn.model_selection import StratifiedKFold, StratifiedGroupKFold, GroupKFold\n",
    "import seaborn as sns\n",
    "import warnings\n",
    "\n",
    "warnings.simplefilter('ignore')"
   ]
  },
  {
   "cell_type": "code",
   "execution_count": 2,
   "id": "7e7e3550",
   "metadata": {
    "execution": {
     "iopub.execute_input": "2024-05-13T12:40:26.654296Z",
     "iopub.status.busy": "2024-05-13T12:40:26.653666Z",
     "iopub.status.idle": "2024-05-13T12:40:28.329311Z",
     "shell.execute_reply": "2024-05-13T12:40:28.328296Z"
    },
    "papermill": {
     "duration": 1.68467,
     "end_time": "2024-05-13T12:40:28.331942",
     "exception": false,
     "start_time": "2024-05-13T12:40:26.647272",
     "status": "completed"
    },
    "tags": []
   },
   "outputs": [],
   "source": [
    "train_df = pl.read_csv('/kaggle/input/learning-agency-lab-automated-essay-scoring-2/train.csv')\n",
    "persuade_df = pl.read_csv('/kaggle/input/persuade-data/persuade_2.0_human_scores_demo_id_github.csv')\n",
    "persuade_df = persuade_df.select(['essay_id_comp', 'full_text', 'prompt_name', 'holistic_essay_score',]).rename({'essay_id_comp': 'essay_id', 'holistic_essay_score': 'score'})"
   ]
  },
  {
   "cell_type": "code",
   "execution_count": 3,
   "id": "4373be95",
   "metadata": {
    "execution": {
     "iopub.execute_input": "2024-05-13T12:40:28.342296Z",
     "iopub.status.busy": "2024-05-13T12:40:28.341904Z",
     "iopub.status.idle": "2024-05-13T12:40:28.348408Z",
     "shell.execute_reply": "2024-05-13T12:40:28.347481Z"
    },
    "papermill": {
     "duration": 0.014136,
     "end_time": "2024-05-13T12:40:28.350301",
     "exception": false,
     "start_time": "2024-05-13T12:40:28.336165",
     "status": "completed"
    },
    "tags": []
   },
   "outputs": [],
   "source": [
    "p_drop_list = [\n",
    "    'AA994A6CAF65',\n",
    "    '288639E7060E',\n",
    "    '98054C89C0F9',\n",
    "    '3EB727C8562F',\n",
    "    '9B23715DFB32',\n",
    "    '0F1B167D414E',\n",
    "    'CDD78907A391',\n",
    "    '97C1CFD04E4B',\n",
    "    '756D1A1C92B8',\n",
    "    'BA13728424E7',\n",
    "    \n",
    "    \n",
    "] # \"3.25E+11\"\n",
    "\n",
    "same_hook = [\n",
    "    'E620DC04735F',\n",
    "    'CDF90A57A956',\n",
    "    '860CB3A4935E',\n",
    "    '7742D58270C9',\n",
    "    'E856D94C6B6B',\n",
    "    '887ABF4584C2',\n",
    "    '45A33DB5C7F7',\n",
    "    '9741343661EE',\n",
    "    'F1860C4149BF',\n",
    "    '381E6F5B0009',\n",
    "    '1A135C4E302F',\n",
    "    '571F81ED5EC3',\n",
    "    '6FCAA7BE2809',\n",
    "    '80DD6E906303'\n",
    "]\n",
    "\n",
    "same_hook2 = [\n",
    "     'DE50DF03FAD8',\n",
    "     '6F101B276EB1',\n",
    "     '2C44C3912AC9',\n",
    "     '27E057AD3D7D',\n",
    "     'F054050F442F',\n",
    "     '3D8260196DC0',\n",
    "     'D0D7E09A5578',\n",
    "     '3453B0EC32D3',\n",
    "     'E3ED7398948E',\n",
    "     '4B1EE53F33D4',\n",
    "     '518650734A2D',\n",
    "     'FE72572BE11A'\n",
    "]\n",
    "p_drop_list = p_drop_list + same_hook + same_hook2\n",
    "train_drop_list = ['e9be80d', '6017fea', 'e9be80d']"
   ]
  },
  {
   "cell_type": "code",
   "execution_count": 4,
   "id": "067c3d05",
   "metadata": {
    "execution": {
     "iopub.execute_input": "2024-05-13T12:40:28.360315Z",
     "iopub.status.busy": "2024-05-13T12:40:28.359139Z",
     "iopub.status.idle": "2024-05-13T12:40:28.408240Z",
     "shell.execute_reply": "2024-05-13T12:40:28.406836Z"
    },
    "papermill": {
     "duration": 0.056461,
     "end_time": "2024-05-13T12:40:28.410719",
     "exception": false,
     "start_time": "2024-05-13T12:40:28.354258",
     "status": "completed"
    },
    "tags": []
   },
   "outputs": [],
   "source": [
    "train_df = train_df.filter(~pl.col('essay_id').is_in(train_drop_list))\n",
    "persuade_df = persuade_df.filter(~pl.col('essay_id').is_in(p_drop_list))"
   ]
  },
  {
   "cell_type": "code",
   "execution_count": 5,
   "id": "e7f0217b",
   "metadata": {
    "execution": {
     "iopub.execute_input": "2024-05-13T12:40:28.421126Z",
     "iopub.status.busy": "2024-05-13T12:40:28.419353Z",
     "iopub.status.idle": "2024-05-13T12:40:28.480258Z",
     "shell.execute_reply": "2024-05-13T12:40:28.478469Z"
    },
    "papermill": {
     "duration": 0.068348,
     "end_time": "2024-05-13T12:40:28.482857",
     "exception": false,
     "start_time": "2024-05-13T12:40:28.414509",
     "status": "completed"
    },
    "tags": []
   },
   "outputs": [
    {
     "data": {
      "text/html": [
       "<div><style>\n",
       ".dataframe > thead > tr,\n",
       ".dataframe > tbody > tr {\n",
       "  text-align: right;\n",
       "  white-space: pre-wrap;\n",
       "}\n",
       "</style>\n",
       "<small>shape: (12_871, 4)</small><table border=\"1\" class=\"dataframe\"><thead><tr><th>essay_id</th><th>full_text</th><th>prompt_name</th><th>score</th></tr><tr><td>str</td><td>str</td><td>str</td><td>i64</td></tr></thead><tbody><tr><td>&quot;d5b6859&quot;</td><td>&quot;Cars have been…</td><td>&quot;Car-free citie…</td><td>5</td></tr><tr><td>&quot;bb7cf0c&quot;</td><td>&quot;Have you ever …</td><td>&quot;Car-free citie…</td><td>2</td></tr><tr><td>&quot;6f4d54b&quot;</td><td>&quot;cars have many…</td><td>&quot;Car-free citie…</td><td>2</td></tr><tr><td>&quot;be705c4&quot;</td><td>&quot;There are many…</td><td>&quot;Car-free citie…</td><td>4</td></tr><tr><td>&quot;7a43765&quot;</td><td>&quot;Wouldnt it be …</td><td>&quot;Car-free citie…</td><td>4</td></tr><tr><td>&hellip;</td><td>&hellip;</td><td>&hellip;</td><td>&hellip;</td></tr><tr><td>&quot;01ec06b&quot;</td><td>&quot;Dear State Sen…</td><td>&quot;Does the elect…</td><td>3</td></tr><tr><td>&quot;86ae7bb&quot;</td><td>&quot;Dear state sen…</td><td>&quot;Does the elect…</td><td>3</td></tr><tr><td>&quot;a4801ba&quot;</td><td>&quot;I would like t…</td><td>&quot;Does the elect…</td><td>2</td></tr><tr><td>&quot;864ba12&quot;</td><td>&quot;Dear State Sen…</td><td>&quot;Does the elect…</td><td>4</td></tr><tr><td>&quot;ac8fa95&quot;</td><td>&quot;This goes out …</td><td>&quot;Does the elect…</td><td>2</td></tr></tbody></table></div>"
      ],
      "text/plain": [
       "shape: (12_871, 4)\n",
       "┌──────────┬───────────────────────────────────┬──────────────────────────────────┬───────┐\n",
       "│ essay_id ┆ full_text                         ┆ prompt_name                      ┆ score │\n",
       "│ ---      ┆ ---                               ┆ ---                              ┆ ---   │\n",
       "│ str      ┆ str                               ┆ str                              ┆ i64   │\n",
       "╞══════════╪═══════════════════════════════════╪══════════════════════════════════╪═══════╡\n",
       "│ d5b6859  ┆ Cars have been around for awhile… ┆ Car-free cities                  ┆ 5     │\n",
       "│ bb7cf0c  ┆ Have you ever thought what it wo… ┆ Car-free cities                  ┆ 2     │\n",
       "│ 6f4d54b  ┆ cars have many flaws nd and in t… ┆ Car-free cities                  ┆ 2     │\n",
       "│ be705c4  ┆ There are many advantages of lim… ┆ Car-free cities                  ┆ 4     │\n",
       "│ 7a43765  ┆ Wouldnt it be great to hear that… ┆ Car-free cities                  ┆ 4     │\n",
       "│ …        ┆ …                                 ┆ …                                ┆ …     │\n",
       "│ 01ec06b  ┆ Dear State Senator ,              ┆ Does the electoral college work? ┆ 3     │\n",
       "│          ┆                                   ┆                                  ┆       │\n",
       "│          ┆ The electo…                       ┆                                  ┆       │\n",
       "│ 86ae7bb  ┆ Dear state senator, as time move… ┆ Does the electoral college work? ┆ 3     │\n",
       "│ a4801ba  ┆ I would like to change the elect… ┆ Does the electoral college work? ┆ 2     │\n",
       "│ 864ba12  ┆ Dear State Senator,               ┆ Does the electoral college work? ┆ 4     │\n",
       "│          ┆                                   ┆                                  ┆       │\n",
       "│          ┆ What do you…                      ┆                                  ┆       │\n",
       "│ ac8fa95  ┆ This goes out to the senator of … ┆ Does the electoral college work? ┆ 2     │\n",
       "└──────────┴───────────────────────────────────┴──────────────────────────────────┴───────┘"
      ]
     },
     "execution_count": 5,
     "metadata": {},
     "output_type": "execute_result"
    }
   ],
   "source": [
    "overlapped = train_df.join(persuade_df, on=['full_text'], how='inner').select(['essay_id', 'full_text', 'prompt_name', 'score'])\n",
    "overlapped"
   ]
  },
  {
   "cell_type": "code",
   "execution_count": 6,
   "id": "f422727a",
   "metadata": {
    "execution": {
     "iopub.execute_input": "2024-05-13T12:40:28.492474Z",
     "iopub.status.busy": "2024-05-13T12:40:28.492068Z",
     "iopub.status.idle": "2024-05-13T12:40:28.521896Z",
     "shell.execute_reply": "2024-05-13T12:40:28.520313Z"
    },
    "papermill": {
     "duration": 0.038366,
     "end_time": "2024-05-13T12:40:28.525343",
     "exception": false,
     "start_time": "2024-05-13T12:40:28.486977",
     "status": "completed"
    },
    "tags": []
   },
   "outputs": [
    {
     "data": {
      "text/html": [
       "<div><style>\n",
       ".dataframe > thead > tr,\n",
       ".dataframe > tbody > tr {\n",
       "  text-align: right;\n",
       "  white-space: pre-wrap;\n",
       "}\n",
       "</style>\n",
       "<small>shape: (4_434, 3)</small><table border=\"1\" class=\"dataframe\"><thead><tr><th>essay_id</th><th>full_text</th><th>score</th></tr><tr><td>str</td><td>str</td><td>i64</td></tr></thead><tbody><tr><td>&quot;000fe60&quot;</td><td>&quot;I am a scienti…</td><td>3</td></tr><tr><td>&quot;001ab80&quot;</td><td>&quot;People always …</td><td>4</td></tr><tr><td>&quot;001bdc0&quot;</td><td>&quot;We all heard a…</td><td>4</td></tr><tr><td>&quot;0033037&quot;</td><td>&quot;The posibilty …</td><td>2</td></tr><tr><td>&quot;0065bd6&quot;</td><td>&quot;Driverless car…</td><td>3</td></tr><tr><td>&hellip;</td><td>&hellip;</td><td>&hellip;</td></tr><tr><td>&quot;ffbd0b4&quot;</td><td>&quot;Do you think y…</td><td>2</td></tr><tr><td>&quot;ffcb061&quot;</td><td>&quot;Becoming a Sea…</td><td>3</td></tr><tr><td>&quot;ffcb264&quot;</td><td>&quot;Using technolo…</td><td>2</td></tr><tr><td>&quot;ffd378d&quot;</td><td>&quot;the story &quot; Th…</td><td>2</td></tr><tr><td>&quot;fffed3e&quot;</td><td>&quot;Venus is worth…</td><td>2</td></tr></tbody></table></div>"
      ],
      "text/plain": [
       "shape: (4_434, 3)\n",
       "┌──────────┬───────────────────────────────────┬───────┐\n",
       "│ essay_id ┆ full_text                         ┆ score │\n",
       "│ ---      ┆ ---                               ┆ ---   │\n",
       "│ str      ┆ str                               ┆ i64   │\n",
       "╞══════════╪═══════════════════════════════════╪═══════╡\n",
       "│ 000fe60  ┆ I am a scientist at NASA that is… ┆ 3     │\n",
       "│ 001ab80  ┆ People always wish they had the … ┆ 4     │\n",
       "│ 001bdc0  ┆ We all heard about Venus, the pl… ┆ 4     │\n",
       "│ 0033037  ┆ The posibilty of a face reconizi… ┆ 2     │\n",
       "│ 0065bd6  ┆ Driverless cars should not exsis… ┆ 3     │\n",
       "│ …        ┆ …                                 ┆ …     │\n",
       "│ ffbd0b4  ┆ Do you think you could suvive in… ┆ 2     │\n",
       "│ ffcb061  ┆ Becoming a Seagoing Cowboy is a … ┆ 3     │\n",
       "│ ffcb264  ┆ Using technology is a good way t… ┆ 2     │\n",
       "│ ffd378d  ┆ the story \" The Challenge of Exp… ┆ 2     │\n",
       "│ fffed3e  ┆ Venus is worthy place to study b… ┆ 2     │\n",
       "└──────────┴───────────────────────────────────┴───────┘"
      ]
     },
     "execution_count": 6,
     "metadata": {},
     "output_type": "execute_result"
    }
   ],
   "source": [
    "non_overlapped = train_df.filter(~pl.col('full_text').is_in(overlapped['full_text']))\n",
    "non_overlapped"
   ]
  },
  {
   "cell_type": "code",
   "execution_count": 7,
   "id": "f052ff02",
   "metadata": {
    "execution": {
     "iopub.execute_input": "2024-05-13T12:40:28.536560Z",
     "iopub.status.busy": "2024-05-13T12:40:28.536173Z",
     "iopub.status.idle": "2024-05-13T12:40:28.542882Z",
     "shell.execute_reply": "2024-05-13T12:40:28.541633Z"
    },
    "papermill": {
     "duration": 0.015077,
     "end_time": "2024-05-13T12:40:28.545521",
     "exception": false,
     "start_time": "2024-05-13T12:40:28.530444",
     "status": "completed"
    },
    "tags": []
   },
   "outputs": [],
   "source": [
    "# non_overlapped.to_pandas().to_csv('nol_train_df.csv', index=False)\n",
    "# overlapped.to_pandas().to_csv('train_df_OL_with_prompt.csv', index=False)"
   ]
  },
  {
   "cell_type": "code",
   "execution_count": 8,
   "id": "b6a7a86b",
   "metadata": {
    "execution": {
     "iopub.execute_input": "2024-05-13T12:40:28.557146Z",
     "iopub.status.busy": "2024-05-13T12:40:28.556736Z",
     "iopub.status.idle": "2024-05-13T12:40:28.578350Z",
     "shell.execute_reply": "2024-05-13T12:40:28.576977Z"
    },
    "papermill": {
     "duration": 0.029992,
     "end_time": "2024-05-13T12:40:28.580960",
     "exception": false,
     "start_time": "2024-05-13T12:40:28.550968",
     "status": "completed"
    },
    "tags": []
   },
   "outputs": [
    {
     "data": {
      "text/html": [
       "<div><style>\n",
       ".dataframe > thead > tr,\n",
       ".dataframe > tbody > tr {\n",
       "  text-align: right;\n",
       "  white-space: pre-wrap;\n",
       "}\n",
       "</style>\n",
       "<small>shape: (4_434, 2)</small><table border=\"1\" class=\"dataframe\"><thead><tr><th>essay_id</th><th>class</th></tr><tr><td>str</td><td>i64</td></tr></thead><tbody><tr><td>&quot;000fe60&quot;</td><td>4</td></tr><tr><td>&quot;001ab80&quot;</td><td>5</td></tr><tr><td>&quot;001bdc0&quot;</td><td>2</td></tr><tr><td>&quot;0033037&quot;</td><td>3</td></tr><tr><td>&quot;0065bd6&quot;</td><td>5</td></tr><tr><td>&hellip;</td><td>&hellip;</td></tr><tr><td>&quot;ffbd0b4&quot;</td><td>2</td></tr><tr><td>&quot;ffcb061&quot;</td><td>1</td></tr><tr><td>&quot;ffcb264&quot;</td><td>3</td></tr><tr><td>&quot;ffd378d&quot;</td><td>2</td></tr><tr><td>&quot;fffed3e&quot;</td><td>2</td></tr></tbody></table></div>"
      ],
      "text/plain": [
       "shape: (4_434, 2)\n",
       "┌──────────┬───────┐\n",
       "│ essay_id ┆ class │\n",
       "│ ---      ┆ ---   │\n",
       "│ str      ┆ i64   │\n",
       "╞══════════╪═══════╡\n",
       "│ 000fe60  ┆ 4     │\n",
       "│ 001ab80  ┆ 5     │\n",
       "│ 001bdc0  ┆ 2     │\n",
       "│ 0033037  ┆ 3     │\n",
       "│ 0065bd6  ┆ 5     │\n",
       "│ …        ┆ …     │\n",
       "│ ffbd0b4  ┆ 2     │\n",
       "│ ffcb061  ┆ 1     │\n",
       "│ ffcb264  ┆ 3     │\n",
       "│ ffd378d  ┆ 2     │\n",
       "│ fffed3e  ┆ 2     │\n",
       "└──────────┴───────┘"
      ]
     },
     "execution_count": 8,
     "metadata": {},
     "output_type": "execute_result"
    }
   ],
   "source": [
    "predicted = pl.read_csv('/kaggle/input/lal-aes2-infer-prompt-name/train_df_with_pred_prompt.csv')\n",
    "predicted"
   ]
  },
  {
   "cell_type": "code",
   "execution_count": 9,
   "id": "912f48c4",
   "metadata": {
    "execution": {
     "iopub.execute_input": "2024-05-13T12:40:28.593060Z",
     "iopub.status.busy": "2024-05-13T12:40:28.592694Z",
     "iopub.status.idle": "2024-05-13T12:40:28.616421Z",
     "shell.execute_reply": "2024-05-13T12:40:28.614943Z"
    },
    "papermill": {
     "duration": 0.032919,
     "end_time": "2024-05-13T12:40:28.618990",
     "exception": false,
     "start_time": "2024-05-13T12:40:28.586071",
     "status": "completed"
    },
    "tags": []
   },
   "outputs": [],
   "source": [
    "labels_map = {\n",
    "    0: 'Car-free cities',\n",
    "    1: '\"A Cowboy Who Rode the Waves\"',\n",
    "    2: 'Exploring Venus',\n",
    "    3: 'Facial action coding system',\n",
    "    4: 'The Face on Mars',\n",
    "    5: 'Driverless cars',\n",
    "    6: 'Does the electoral college work?'\n",
    "}\n",
    "\n",
    "predicted = predicted.with_columns(prompt_name=pl.col('class').map_dict(labels_map, default=None))"
   ]
  },
  {
   "cell_type": "code",
   "execution_count": 10,
   "id": "7998a1aa",
   "metadata": {
    "execution": {
     "iopub.execute_input": "2024-05-13T12:40:28.630418Z",
     "iopub.status.busy": "2024-05-13T12:40:28.629942Z",
     "iopub.status.idle": "2024-05-13T12:40:28.645349Z",
     "shell.execute_reply": "2024-05-13T12:40:28.644148Z"
    },
    "papermill": {
     "duration": 0.023589,
     "end_time": "2024-05-13T12:40:28.647474",
     "exception": false,
     "start_time": "2024-05-13T12:40:28.623885",
     "status": "completed"
    },
    "tags": []
   },
   "outputs": [
    {
     "data": {
      "text/html": [
       "<div><style>\n",
       ".dataframe > thead > tr,\n",
       ".dataframe > tbody > tr {\n",
       "  text-align: right;\n",
       "  white-space: pre-wrap;\n",
       "}\n",
       "</style>\n",
       "<small>shape: (4_434, 4)</small><table border=\"1\" class=\"dataframe\"><thead><tr><th>essay_id</th><th>full_text</th><th>prompt_name</th><th>score</th></tr><tr><td>str</td><td>str</td><td>str</td><td>i64</td></tr></thead><tbody><tr><td>&quot;000fe60&quot;</td><td>&quot;I am a scienti…</td><td>&quot;The Face on Ma…</td><td>3</td></tr><tr><td>&quot;001ab80&quot;</td><td>&quot;People always …</td><td>&quot;Driverless car…</td><td>4</td></tr><tr><td>&quot;001bdc0&quot;</td><td>&quot;We all heard a…</td><td>&quot;Exploring Venu…</td><td>4</td></tr><tr><td>&quot;0033037&quot;</td><td>&quot;The posibilty …</td><td>&quot;Facial action …</td><td>2</td></tr><tr><td>&quot;0065bd6&quot;</td><td>&quot;Driverless car…</td><td>&quot;Driverless car…</td><td>3</td></tr><tr><td>&hellip;</td><td>&hellip;</td><td>&hellip;</td><td>&hellip;</td></tr><tr><td>&quot;ffbd0b4&quot;</td><td>&quot;Do you think y…</td><td>&quot;Exploring Venu…</td><td>2</td></tr><tr><td>&quot;ffcb061&quot;</td><td>&quot;Becoming a Sea…</td><td>&quot;&quot;A Cowboy Who …</td><td>3</td></tr><tr><td>&quot;ffcb264&quot;</td><td>&quot;Using technolo…</td><td>&quot;Facial action …</td><td>2</td></tr><tr><td>&quot;ffd378d&quot;</td><td>&quot;the story &quot; Th…</td><td>&quot;Exploring Venu…</td><td>2</td></tr><tr><td>&quot;fffed3e&quot;</td><td>&quot;Venus is worth…</td><td>&quot;Exploring Venu…</td><td>2</td></tr></tbody></table></div>"
      ],
      "text/plain": [
       "shape: (4_434, 4)\n",
       "┌──────────┬───────────────────────────────────┬───────────────────────────────┬───────┐\n",
       "│ essay_id ┆ full_text                         ┆ prompt_name                   ┆ score │\n",
       "│ ---      ┆ ---                               ┆ ---                           ┆ ---   │\n",
       "│ str      ┆ str                               ┆ str                           ┆ i64   │\n",
       "╞══════════╪═══════════════════════════════════╪═══════════════════════════════╪═══════╡\n",
       "│ 000fe60  ┆ I am a scientist at NASA that is… ┆ The Face on Mars              ┆ 3     │\n",
       "│ 001ab80  ┆ People always wish they had the … ┆ Driverless cars               ┆ 4     │\n",
       "│ 001bdc0  ┆ We all heard about Venus, the pl… ┆ Exploring Venus               ┆ 4     │\n",
       "│ 0033037  ┆ The posibilty of a face reconizi… ┆ Facial action coding system   ┆ 2     │\n",
       "│ 0065bd6  ┆ Driverless cars should not exsis… ┆ Driverless cars               ┆ 3     │\n",
       "│ …        ┆ …                                 ┆ …                             ┆ …     │\n",
       "│ ffbd0b4  ┆ Do you think you could suvive in… ┆ Exploring Venus               ┆ 2     │\n",
       "│ ffcb061  ┆ Becoming a Seagoing Cowboy is a … ┆ \"A Cowboy Who Rode the Waves\" ┆ 3     │\n",
       "│ ffcb264  ┆ Using technology is a good way t… ┆ Facial action coding system   ┆ 2     │\n",
       "│ ffd378d  ┆ the story \" The Challenge of Exp… ┆ Exploring Venus               ┆ 2     │\n",
       "│ fffed3e  ┆ Venus is worthy place to study b… ┆ Exploring Venus               ┆ 2     │\n",
       "└──────────┴───────────────────────────────────┴───────────────────────────────┴───────┘"
      ]
     },
     "execution_count": 10,
     "metadata": {},
     "output_type": "execute_result"
    }
   ],
   "source": [
    "non_overlapped_train_with_prompt = non_overlapped.join(predicted, on='essay_id').select(['essay_id', 'full_text', 'prompt_name', 'score'])\n",
    "non_overlapped_train_with_prompt"
   ]
  },
  {
   "cell_type": "code",
   "execution_count": 11,
   "id": "5c38fdc5",
   "metadata": {
    "execution": {
     "iopub.execute_input": "2024-05-13T12:40:28.659721Z",
     "iopub.status.busy": "2024-05-13T12:40:28.658877Z",
     "iopub.status.idle": "2024-05-13T12:40:28.680686Z",
     "shell.execute_reply": "2024-05-13T12:40:28.678510Z"
    },
    "papermill": {
     "duration": 0.031162,
     "end_time": "2024-05-13T12:40:28.683796",
     "exception": false,
     "start_time": "2024-05-13T12:40:28.652634",
     "status": "completed"
    },
    "tags": []
   },
   "outputs": [
    {
     "data": {
      "text/html": [
       "<div><style>\n",
       ".dataframe > thead > tr,\n",
       ".dataframe > tbody > tr {\n",
       "  text-align: right;\n",
       "  white-space: pre-wrap;\n",
       "}\n",
       "</style>\n",
       "<small>shape: (17_305, 5)</small><table border=\"1\" class=\"dataframe\"><thead><tr><th>essay_id</th><th>full_text</th><th>prompt_name</th><th>score</th><th>kaggle_only</th></tr><tr><td>str</td><td>str</td><td>str</td><td>i64</td><td>bool</td></tr></thead><tbody><tr><td>&quot;d5b6859&quot;</td><td>&quot;Cars have been…</td><td>&quot;Car-free citie…</td><td>5</td><td>false</td></tr><tr><td>&quot;bb7cf0c&quot;</td><td>&quot;Have you ever …</td><td>&quot;Car-free citie…</td><td>2</td><td>false</td></tr><tr><td>&quot;6f4d54b&quot;</td><td>&quot;cars have many…</td><td>&quot;Car-free citie…</td><td>2</td><td>false</td></tr><tr><td>&quot;be705c4&quot;</td><td>&quot;There are many…</td><td>&quot;Car-free citie…</td><td>4</td><td>false</td></tr><tr><td>&quot;7a43765&quot;</td><td>&quot;Wouldnt it be …</td><td>&quot;Car-free citie…</td><td>4</td><td>false</td></tr><tr><td>&hellip;</td><td>&hellip;</td><td>&hellip;</td><td>&hellip;</td><td>&hellip;</td></tr><tr><td>&quot;ffbd0b4&quot;</td><td>&quot;Do you think y…</td><td>&quot;Exploring Venu…</td><td>2</td><td>true</td></tr><tr><td>&quot;ffcb061&quot;</td><td>&quot;Becoming a Sea…</td><td>&quot;&quot;A Cowboy Who …</td><td>3</td><td>true</td></tr><tr><td>&quot;ffcb264&quot;</td><td>&quot;Using technolo…</td><td>&quot;Facial action …</td><td>2</td><td>true</td></tr><tr><td>&quot;ffd378d&quot;</td><td>&quot;the story &quot; Th…</td><td>&quot;Exploring Venu…</td><td>2</td><td>true</td></tr><tr><td>&quot;fffed3e&quot;</td><td>&quot;Venus is worth…</td><td>&quot;Exploring Venu…</td><td>2</td><td>true</td></tr></tbody></table></div>"
      ],
      "text/plain": [
       "shape: (17_305, 5)\n",
       "┌──────────┬─────────────────────────────────┬───────────────────────────────┬───────┬─────────────┐\n",
       "│ essay_id ┆ full_text                       ┆ prompt_name                   ┆ score ┆ kaggle_only │\n",
       "│ ---      ┆ ---                             ┆ ---                           ┆ ---   ┆ ---         │\n",
       "│ str      ┆ str                             ┆ str                           ┆ i64   ┆ bool        │\n",
       "╞══════════╪═════════════════════════════════╪═══════════════════════════════╪═══════╪═════════════╡\n",
       "│ d5b6859  ┆ Cars have been around for       ┆ Car-free cities               ┆ 5     ┆ false       │\n",
       "│          ┆ awhile…                         ┆                               ┆       ┆             │\n",
       "│ bb7cf0c  ┆ Have you ever thought what it   ┆ Car-free cities               ┆ 2     ┆ false       │\n",
       "│          ┆ wo…                             ┆                               ┆       ┆             │\n",
       "│ 6f4d54b  ┆ cars have many flaws nd and in  ┆ Car-free cities               ┆ 2     ┆ false       │\n",
       "│          ┆ t…                              ┆                               ┆       ┆             │\n",
       "│ be705c4  ┆ There are many advantages of    ┆ Car-free cities               ┆ 4     ┆ false       │\n",
       "│          ┆ lim…                            ┆                               ┆       ┆             │\n",
       "│ 7a43765  ┆ Wouldnt it be great to hear     ┆ Car-free cities               ┆ 4     ┆ false       │\n",
       "│          ┆ that…                           ┆                               ┆       ┆             │\n",
       "│ …        ┆ …                               ┆ …                             ┆ …     ┆ …           │\n",
       "│ ffbd0b4  ┆ Do you think you could suvive   ┆ Exploring Venus               ┆ 2     ┆ true        │\n",
       "│          ┆ in…                             ┆                               ┆       ┆             │\n",
       "│ ffcb061  ┆ Becoming a Seagoing Cowboy is a ┆ \"A Cowboy Who Rode the Waves\" ┆ 3     ┆ true        │\n",
       "│          ┆ …                               ┆                               ┆       ┆             │\n",
       "│ ffcb264  ┆ Using technology is a good way  ┆ Facial action coding system   ┆ 2     ┆ true        │\n",
       "│          ┆ t…                              ┆                               ┆       ┆             │\n",
       "│ ffd378d  ┆ the story \" The Challenge of    ┆ Exploring Venus               ┆ 2     ┆ true        │\n",
       "│          ┆ Exp…                            ┆                               ┆       ┆             │\n",
       "│ fffed3e  ┆ Venus is worthy place to study  ┆ Exploring Venus               ┆ 2     ┆ true        │\n",
       "│          ┆ b…                              ┆                               ┆       ┆             │\n",
       "└──────────┴─────────────────────────────────┴───────────────────────────────┴───────┴─────────────┘"
      ]
     },
     "execution_count": 11,
     "metadata": {},
     "output_type": "execute_result"
    }
   ],
   "source": [
    "train_df_with_prompt = pl.concat([overlapped.with_columns(kaggle_only=False), non_overlapped_train_with_prompt.with_columns(kaggle_only=True)])\n",
    "train_df_with_prompt"
   ]
  },
  {
   "cell_type": "code",
   "execution_count": 12,
   "id": "6f58f9f3",
   "metadata": {
    "execution": {
     "iopub.execute_input": "2024-05-13T12:40:28.695530Z",
     "iopub.status.busy": "2024-05-13T12:40:28.695128Z",
     "iopub.status.idle": "2024-05-13T12:40:28.765196Z",
     "shell.execute_reply": "2024-05-13T12:40:28.763731Z"
    },
    "papermill": {
     "duration": 0.078043,
     "end_time": "2024-05-13T12:40:28.767299",
     "exception": false,
     "start_time": "2024-05-13T12:40:28.689256",
     "status": "completed"
    },
    "tags": []
   },
   "outputs": [
    {
     "data": {
      "text/html": [
       "<div><style>\n",
       ".dataframe > thead > tr,\n",
       ".dataframe > tbody > tr {\n",
       "  text-align: right;\n",
       "  white-space: pre-wrap;\n",
       "}\n",
       "</style>\n",
       "<small>shape: (13_089, 4)</small><table border=\"1\" class=\"dataframe\"><thead><tr><th>essay_id</th><th>full_text</th><th>prompt_name</th><th>score</th></tr><tr><td>str</td><td>str</td><td>str</td><td>i64</td></tr></thead><tbody><tr><td>&quot;423A1CA112E2&quot;</td><td>&quot;Phones\n",
       "\n",
       "Modern…</td><td>&quot;Phones and dri…</td><td>3</td></tr><tr><td>&quot;BC75783F96E3&quot;</td><td>&quot;This essay wil…</td><td>&quot;Phones and dri…</td><td>4</td></tr><tr><td>&quot;74C8BC7417DE&quot;</td><td>&quot;Driving while …</td><td>&quot;Phones and dri…</td><td>2</td></tr><tr><td>&quot;A8445CABFECE&quot;</td><td>&quot;Phones &amp; Drivi…</td><td>&quot;Phones and dri…</td><td>3</td></tr><tr><td>&quot;6B4F7A0165B9&quot;</td><td>&quot;Cell Phone Ope…</td><td>&quot;Phones and dri…</td><td>4</td></tr><tr><td>&hellip;</td><td>&hellip;</td><td>&hellip;</td><td>&hellip;</td></tr><tr><td>&quot;18409261F5C2&quot;</td><td>&quot;80% of America…</td><td>&quot;Seeking multip…</td><td>5</td></tr><tr><td>&quot;D46BCB48440A&quot;</td><td>&quot;When people as…</td><td>&quot;Seeking multip…</td><td>4</td></tr><tr><td>&quot;0FB0700DAF44&quot;</td><td>&quot;During a group…</td><td>&quot;Seeking multip…</td><td>4</td></tr><tr><td>&quot;D72CB1C11673&quot;</td><td>&quot;Making choices…</td><td>&quot;Seeking multip…</td><td>4</td></tr><tr><td>&quot;DF920E0A7337&quot;</td><td>&quot;Have you ever …</td><td>&quot;Seeking multip…</td><td>4</td></tr></tbody></table></div>"
      ],
      "text/plain": [
       "shape: (13_089, 4)\n",
       "┌──────────────┬───────────────────────────────────┬───────────────────────────┬───────┐\n",
       "│ essay_id     ┆ full_text                         ┆ prompt_name               ┆ score │\n",
       "│ ---          ┆ ---                               ┆ ---                       ┆ ---   │\n",
       "│ str          ┆ str                               ┆ str                       ┆ i64   │\n",
       "╞══════════════╪═══════════════════════════════════╪═══════════════════════════╪═══════╡\n",
       "│ 423A1CA112E2 ┆ Phones                            ┆ Phones and driving        ┆ 3     │\n",
       "│              ┆                                   ┆                           ┆       │\n",
       "│              ┆ Modern humans today are …         ┆                           ┆       │\n",
       "│ BC75783F96E3 ┆ This essay will explain if drive… ┆ Phones and driving        ┆ 4     │\n",
       "│ 74C8BC7417DE ┆ Driving while the use of cellula… ┆ Phones and driving        ┆ 2     │\n",
       "│ A8445CABFECE ┆ Phones & Driving                  ┆ Phones and driving        ┆ 3     │\n",
       "│              ┆                                   ┆                           ┆       │\n",
       "│              ┆ Drivers should…                   ┆                           ┆       │\n",
       "│ 6B4F7A0165B9 ┆ Cell Phone Operation While Drivi… ┆ Phones and driving        ┆ 4     │\n",
       "│ …            ┆ …                                 ┆ …                         ┆ …     │\n",
       "│ 18409261F5C2 ┆ 80% of Americans believe seeking… ┆ Seeking multiple opinions ┆ 5     │\n",
       "│ D46BCB48440A ┆ When people ask for advice,they … ┆ Seeking multiple opinions ┆ 4     │\n",
       "│ 0FB0700DAF44 ┆ During a group project, have you… ┆ Seeking multiple opinions ┆ 4     │\n",
       "│ D72CB1C11673 ┆ Making choices in life can be ve… ┆ Seeking multiple opinions ┆ 4     │\n",
       "│ DF920E0A7337 ┆ Have you ever asked more than on… ┆ Seeking multiple opinions ┆ 4     │\n",
       "└──────────────┴───────────────────────────────────┴───────────────────────────┴───────┘"
      ]
     },
     "execution_count": 12,
     "metadata": {},
     "output_type": "execute_result"
    }
   ],
   "source": [
    "nol_persuade_df = persuade_df.join(train_df_with_prompt, on=['full_text', 'prompt_name', 'score'], how='anti')\n",
    "nol_persuade_df"
   ]
  },
  {
   "cell_type": "code",
   "execution_count": 13,
   "id": "a267061c",
   "metadata": {
    "execution": {
     "iopub.execute_input": "2024-05-13T12:40:28.780028Z",
     "iopub.status.busy": "2024-05-13T12:40:28.779604Z",
     "iopub.status.idle": "2024-05-13T12:40:31.246696Z",
     "shell.execute_reply": "2024-05-13T12:40:31.245654Z"
    },
    "papermill": {
     "duration": 2.476862,
     "end_time": "2024-05-13T12:40:31.249732",
     "exception": false,
     "start_time": "2024-05-13T12:40:28.772870",
     "status": "completed"
    },
    "tags": []
   },
   "outputs": [],
   "source": [
    "train_df_with_prompt.to_pandas().sort_values('essay_id').to_csv('train_df_with_prompt.csv', index=False)\n",
    "persuade_df.to_pandas().sort_values('essay_id').to_csv('cleaned_persaude.csv', index=False)\n",
    "nol_persuade_df.to_pandas().sort_values('essay_id').to_csv('nol_cleaned_persuade.csv', index=False)"
   ]
  },
  {
   "cell_type": "code",
   "execution_count": null,
   "id": "64eb465a",
   "metadata": {
    "papermill": {
     "duration": 0.006697,
     "end_time": "2024-05-13T12:40:31.263724",
     "exception": false,
     "start_time": "2024-05-13T12:40:31.257027",
     "status": "completed"
    },
    "tags": []
   },
   "outputs": [],
   "source": []
  }
 ],
 "metadata": {
  "kaggle": {
   "accelerator": "none",
   "dataSources": [
    {
     "databundleVersionId": 8059942,
     "sourceId": 71485,
     "sourceType": "competition"
    },
    {
     "datasetId": 4902589,
     "sourceId": 8260230,
     "sourceType": "datasetVersion"
    },
    {
     "sourceId": 175631076,
     "sourceType": "kernelVersion"
    }
   ],
   "dockerImageVersionId": 30698,
   "isGpuEnabled": false,
   "isInternetEnabled": true,
   "language": "python",
   "sourceType": "notebook"
  },
  "kernelspec": {
   "display_name": "Python 3",
   "language": "python",
   "name": "python3"
  },
  "language_info": {
   "codemirror_mode": {
    "name": "ipython",
    "version": 3
   },
   "file_extension": ".py",
   "mimetype": "text/x-python",
   "name": "python",
   "nbconvert_exporter": "python",
   "pygments_lexer": "ipython3",
   "version": "3.10.13"
  },
  "papermill": {
   "default_parameters": {},
   "duration": 11.615329,
   "end_time": "2024-05-13T12:40:32.095182",
   "environment_variables": {},
   "exception": null,
   "input_path": "__notebook__.ipynb",
   "output_path": "__notebook__.ipynb",
   "parameters": {},
   "start_time": "2024-05-13T12:40:20.479853",
   "version": "2.5.0"
  }
 },
 "nbformat": 4,
 "nbformat_minor": 5
}
