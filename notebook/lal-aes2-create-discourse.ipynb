{
 "cells": [
  {
   "cell_type": "code",
   "execution_count": 1,
   "id": "446620a5",
   "metadata": {
    "_cell_guid": "b1076dfc-b9ad-4769-8c92-a6c4dae69d19",
    "_uuid": "8f2839f25d086af736a60e9eeb907d3b93b6e0e5",
    "execution": {
     "iopub.execute_input": "2024-06-15T15:32:44.091392Z",
     "iopub.status.busy": "2024-06-15T15:32:44.090474Z",
     "iopub.status.idle": "2024-06-15T15:32:52.847819Z",
     "shell.execute_reply": "2024-06-15T15:32:52.846856Z"
    },
    "papermill": {
     "duration": 8.771284,
     "end_time": "2024-06-15T15:32:52.850385",
     "exception": false,
     "start_time": "2024-06-15T15:32:44.079101",
     "status": "completed"
    },
    "tags": []
   },
   "outputs": [],
   "source": [
    "import numpy as np\n",
    "import pandas as pd\n",
    "import polars as pl\n",
    "from sklearn.metrics import confusion_matrix, ConfusionMatrixDisplay, f1_score, roc_auc_score, recall_score, precision_score\n",
    "import torch\n",
    "from transformers import AutoTokenizer\n",
    "from nltk.tokenize import sent_tokenize"
   ]
  },
  {
   "cell_type": "code",
   "execution_count": 2,
   "id": "746141f3",
   "metadata": {
    "execution": {
     "iopub.execute_input": "2024-06-15T15:32:52.869020Z",
     "iopub.status.busy": "2024-06-15T15:32:52.868501Z",
     "iopub.status.idle": "2024-06-15T15:32:52.881047Z",
     "shell.execute_reply": "2024-06-15T15:32:52.880121Z"
    },
    "papermill": {
     "duration": 0.023655,
     "end_time": "2024-06-15T15:32:52.883034",
     "exception": false,
     "start_time": "2024-06-15T15:32:52.859379",
     "status": "completed"
    },
    "tags": []
   },
   "outputs": [],
   "source": [
    "train_dropped = ['e9be80d', '6017fea']\n",
    "# dt_map_8 = {\n",
    "#     'Unannotated': 0,\n",
    "#     'Lead': 1,\n",
    "#     'Position': 2,\n",
    "#     'Claim': 3,\n",
    "#     'Evidence': 4,\n",
    "#     'Concluding Statement': 5,\n",
    "#     'Counterclaim': 6,\n",
    "#     'Rebuttal': 7,\n",
    "#     'Repeated': -1\n",
    "# }\n",
    "dt_map = {\n",
    "    'Lead': 0,\n",
    "    'Position': 1,\n",
    "    'Claim': 2,\n",
    "    'Evidence': 3,\n",
    "    'Concluding Statement': 4,\n",
    "    'Counterclaim': 5,\n",
    "    'Rebuttal': 6,\n",
    "    'Repeated': -1\n",
    "}\n",
    "\n",
    "token_map = {\n",
    "    128000: '',\n",
    "    128001: '',\n",
    "    128002: '[UNANNOTATED]',\n",
    "    128003: '[LEAD]',\n",
    "    128004: '[POSITION]',\n",
    "    128005: '[CLAIM]',\n",
    "    128006: '[EVIDENCE]',\n",
    "    128007: '[CONCLUDE]',\n",
    "    128008: '[COUNTER]',\n",
    "    128009: '[REBUTTAL]',\n",
    "    -1: '',\n",
    "}\n",
    "\n",
    "\n",
    "rev_dt_map = {v: k for k, v in dt_map.items()}\n",
    "\n",
    "count_dt = {\n",
    "    0: '\\[(LEAD)\\]',\n",
    "    1: '\\[(POSITION)\\]',\n",
    "    2: '\\[(CLAIM)\\]',\n",
    "    3: '\\[(EVIDENCE)\\]',\n",
    "    4: '\\[(CONCLUDE)\\]',\n",
    "    5: '\\[(COUNTER)\\]',\n",
    "    6: '\\[(REBUTTAL)\\]',\n",
    "}\n",
    "\n",
    "token_dt_map = {\n",
    "    'Unannotated': '[UNANNOTATED]',\n",
    "    'Lead': '[LEAD]',\n",
    "    'Position': '[POSITION]',\n",
    "    'Claim': '[CLAIM]',\n",
    "    'Evidence': '[EVIDENCE]',\n",
    "    'Concluding Statement': '[CONCLUDE]',\n",
    "    'Counterclaim': '[COUNTER]',\n",
    "    'Rebuttal': '[REBUTTAL]',\n",
    "    'Repeated': '',\n",
    "}\n",
    "selected_cols = ['essay_id', 'full_text', 'prompt_name', 'score', 'kaggle_only']\n",
    "\n",
    "pat_1 = '\\[(UNANNOTATED|LEAD|POSITION|CLAIM|EVIDENCE|CONCLUDE|COUNTER|REBUTTAL)\\]\\n\\n'\n",
    "pat_2 = '\\n\\n[${1}]'\n",
    "\n",
    "pat_3 = '\\[(SEP)\\]\\.'\n",
    "pat_4 = '.[${1}]'\n",
    "\n",
    "mlm_pat_1 = '\\[(UNANNOTATED|LEAD|POSITION|CLAIM|EVIDENCE|CONCLUDE|COUNTER|REBUTTAL)\\]'\n",
    "mlm_pat_2 = '[MASK]'\n",
    "\n",
    "mlm_pat_3 = '\\[(MASK)\\]\\[PARAGRAPH\\]'\n",
    "mlm_pat_4 = '[PARAGRAPH][${1}]'\n",
    "\n",
    "mlm_pat_3_2 = '\\[(MASK)\\]\\n\\n'\n",
    "mlm_pat_4_2 = '\\n\\n[${1}]'"
   ]
  },
  {
   "cell_type": "markdown",
   "id": "baec64d7",
   "metadata": {
    "papermill": {
     "duration": 0.008254,
     "end_time": "2024-06-15T15:32:52.899425",
     "exception": false,
     "start_time": "2024-06-15T15:32:52.891171",
     "status": "completed"
    },
    "tags": []
   },
   "source": [
    "# create discourse training dataset"
   ]
  },
  {
   "cell_type": "code",
   "execution_count": 3,
   "id": "659e0bdb",
   "metadata": {
    "execution": {
     "iopub.execute_input": "2024-06-15T15:32:52.917731Z",
     "iopub.status.busy": "2024-06-15T15:32:52.917355Z",
     "iopub.status.idle": "2024-06-15T15:33:09.383386Z",
     "shell.execute_reply": "2024-06-15T15:33:09.382341Z"
    },
    "papermill": {
     "duration": 16.47846,
     "end_time": "2024-06-15T15:33:09.386175",
     "exception": false,
     "start_time": "2024-06-15T15:32:52.907715",
     "status": "completed"
    },
    "tags": []
   },
   "outputs": [],
   "source": [
    "tp_df = pl.read_csv('/kaggle/input/lal-aes2-create-prompt-data/train_df_with_prompt.csv')\n",
    "t_df = pl.read_csv('/kaggle/input/learning-agency-lab-automated-essay-scoring-2/train.csv')\n",
    "p1_df = pl.read_csv('/kaggle/input/persuade-data/persuade_data/persuade_corpus_1.0.csv')\n",
    "p2_df = pl.read_csv('/kaggle/input/persuade-data/persuade_data/persuade_2.0_human_scores_demo_id_github.csv')"
   ]
  },
  {
   "cell_type": "code",
   "execution_count": 4,
   "id": "24ef4ba1",
   "metadata": {
    "execution": {
     "iopub.execute_input": "2024-06-15T15:33:09.405697Z",
     "iopub.status.busy": "2024-06-15T15:33:09.405301Z",
     "iopub.status.idle": "2024-06-15T15:33:10.200279Z",
     "shell.execute_reply": "2024-06-15T15:33:10.199231Z"
    },
    "papermill": {
     "duration": 0.806685,
     "end_time": "2024-06-15T15:33:10.202400",
     "exception": false,
     "start_time": "2024-06-15T15:33:09.395715",
     "status": "completed"
    },
    "tags": []
   },
   "outputs": [
    {
     "data": {
      "text/html": [
       "<style type=\"text/css\">\n",
       "#T_a0e03_row0_col0, #T_a0e03_row0_col2, #T_a0e03_row0_col3, #T_a0e03_row0_col4, #T_a0e03_row0_col5, #T_a0e03_row0_col6, #T_a0e03_row0_col7, #T_a0e03_row0_col8, #T_a0e03_row0_col9 {\n",
       "  background-color: #fff7fb;\n",
       "  color: #000000;\n",
       "}\n",
       "#T_a0e03_row1_col0 {\n",
       "  background-color: #dbdaeb;\n",
       "  color: #000000;\n",
       "}\n",
       "#T_a0e03_row1_col2 {\n",
       "  background-color: #dad9ea;\n",
       "  color: #000000;\n",
       "}\n",
       "#T_a0e03_row1_col3 {\n",
       "  background-color: #5ea0ca;\n",
       "  color: #f1f1f1;\n",
       "}\n",
       "#T_a0e03_row1_col4 {\n",
       "  background-color: #034369;\n",
       "  color: #f1f1f1;\n",
       "}\n",
       "#T_a0e03_row1_col5 {\n",
       "  background-color: #a1bbda;\n",
       "  color: #000000;\n",
       "}\n",
       "#T_a0e03_row1_col6, #T_a0e03_row3_col9 {\n",
       "  background-color: #c2cbe2;\n",
       "  color: #000000;\n",
       "}\n",
       "#T_a0e03_row1_col7 {\n",
       "  background-color: #4c99c5;\n",
       "  color: #f1f1f1;\n",
       "}\n",
       "#T_a0e03_row1_col8 {\n",
       "  background-color: #eae6f1;\n",
       "  color: #000000;\n",
       "}\n",
       "#T_a0e03_row1_col9 {\n",
       "  background-color: #f1ebf5;\n",
       "  color: #000000;\n",
       "}\n",
       "#T_a0e03_row2_col0 {\n",
       "  background-color: #9cb9d9;\n",
       "  color: #000000;\n",
       "}\n",
       "#T_a0e03_row2_col2 {\n",
       "  background-color: #81aed2;\n",
       "  color: #f1f1f1;\n",
       "}\n",
       "#T_a0e03_row2_col3 {\n",
       "  background-color: #0568a3;\n",
       "  color: #f1f1f1;\n",
       "}\n",
       "#T_a0e03_row2_col4, #T_a0e03_row3_col4 {\n",
       "  background-color: #023f64;\n",
       "  color: #f1f1f1;\n",
       "}\n",
       "#T_a0e03_row2_col5 {\n",
       "  background-color: #2685bb;\n",
       "  color: #f1f1f1;\n",
       "}\n",
       "#T_a0e03_row2_col6 {\n",
       "  background-color: #3790c0;\n",
       "  color: #f1f1f1;\n",
       "}\n",
       "#T_a0e03_row2_col7 {\n",
       "  background-color: #045f95;\n",
       "  color: #f1f1f1;\n",
       "}\n",
       "#T_a0e03_row2_col8 {\n",
       "  background-color: #d2d3e7;\n",
       "  color: #000000;\n",
       "}\n",
       "#T_a0e03_row2_col9 {\n",
       "  background-color: #dfddec;\n",
       "  color: #000000;\n",
       "}\n",
       "#T_a0e03_row3_col0 {\n",
       "  background-color: #4295c3;\n",
       "  color: #f1f1f1;\n",
       "}\n",
       "#T_a0e03_row3_col2 {\n",
       "  background-color: #197db7;\n",
       "  color: #f1f1f1;\n",
       "}\n",
       "#T_a0e03_row3_col3, #T_a0e03_row4_col3, #T_a0e03_row5_col0, #T_a0e03_row5_col2, #T_a0e03_row5_col4, #T_a0e03_row5_col5, #T_a0e03_row5_col6, #T_a0e03_row5_col7, #T_a0e03_row5_col8, #T_a0e03_row5_col9 {\n",
       "  background-color: #023858;\n",
       "  color: #f1f1f1;\n",
       "}\n",
       "#T_a0e03_row3_col5 {\n",
       "  background-color: #045a8d;\n",
       "  color: #f1f1f1;\n",
       "}\n",
       "#T_a0e03_row3_col6 {\n",
       "  background-color: #056caa;\n",
       "  color: #f1f1f1;\n",
       "}\n",
       "#T_a0e03_row3_col7 {\n",
       "  background-color: #034b76;\n",
       "  color: #f1f1f1;\n",
       "}\n",
       "#T_a0e03_row3_col8 {\n",
       "  background-color: #b9c6e0;\n",
       "  color: #000000;\n",
       "}\n",
       "#T_a0e03_row4_col0 {\n",
       "  background-color: #0567a2;\n",
       "  color: #f1f1f1;\n",
       "}\n",
       "#T_a0e03_row4_col2 {\n",
       "  background-color: #045483;\n",
       "  color: #f1f1f1;\n",
       "}\n",
       "#T_a0e03_row4_col4 {\n",
       "  background-color: #023e62;\n",
       "  color: #f1f1f1;\n",
       "}\n",
       "#T_a0e03_row4_col5 {\n",
       "  background-color: #03446a;\n",
       "  color: #f1f1f1;\n",
       "}\n",
       "#T_a0e03_row4_col6 {\n",
       "  background-color: #045c90;\n",
       "  color: #f1f1f1;\n",
       "}\n",
       "#T_a0e03_row4_col7 {\n",
       "  background-color: #034267;\n",
       "  color: #f1f1f1;\n",
       "}\n",
       "#T_a0e03_row4_col8 {\n",
       "  background-color: #5c9fc9;\n",
       "  color: #f1f1f1;\n",
       "}\n",
       "#T_a0e03_row4_col9 {\n",
       "  background-color: #6da6cd;\n",
       "  color: #f1f1f1;\n",
       "}\n",
       "#T_a0e03_row5_col3 {\n",
       "  background-color: #04588a;\n",
       "  color: #f1f1f1;\n",
       "}\n",
       "</style>\n",
       "<table id=\"T_a0e03\">\n",
       "  <thead>\n",
       "    <tr>\n",
       "      <th class=\"blank level0\" >&nbsp;</th>\n",
       "      <th id=\"T_a0e03_level0_col0\" class=\"col_heading level0 col0\" >score</th>\n",
       "      <th id=\"T_a0e03_level0_col1\" class=\"col_heading level0 col1\" >full_text</th>\n",
       "      <th id=\"T_a0e03_level0_col2\" class=\"col_heading level0 col2\" >Lead</th>\n",
       "      <th id=\"T_a0e03_level0_col3\" class=\"col_heading level0 col3\" >Unannotated</th>\n",
       "      <th id=\"T_a0e03_level0_col4\" class=\"col_heading level0 col4\" >Position</th>\n",
       "      <th id=\"T_a0e03_level0_col5\" class=\"col_heading level0 col5\" >Claim</th>\n",
       "      <th id=\"T_a0e03_level0_col6\" class=\"col_heading level0 col6\" >Evidence</th>\n",
       "      <th id=\"T_a0e03_level0_col7\" class=\"col_heading level0 col7\" >Concluding Statement</th>\n",
       "      <th id=\"T_a0e03_level0_col8\" class=\"col_heading level0 col8\" >Counterclaim</th>\n",
       "      <th id=\"T_a0e03_level0_col9\" class=\"col_heading level0 col9\" >Rebuttal</th>\n",
       "      <th id=\"T_a0e03_level0_col10\" class=\"col_heading level0 col10\" >essay_id</th>\n",
       "    </tr>\n",
       "  </thead>\n",
       "  <tbody>\n",
       "    <tr>\n",
       "      <th id=\"T_a0e03_level0_row0\" class=\"row_heading level0 row0\" >0</th>\n",
       "      <td id=\"T_a0e03_row0_col0\" class=\"data row0 col0\" >1</td>\n",
       "      <td id=\"T_a0e03_row0_col1\" class=\"data row0 col1\" >None</td>\n",
       "      <td id=\"T_a0e03_row0_col2\" class=\"data row0 col2\" >0.312169</td>\n",
       "      <td id=\"T_a0e03_row0_col3\" class=\"data row0 col3\" >0.515344</td>\n",
       "      <td id=\"T_a0e03_row0_col4\" class=\"data row0 col4\" >0.612698</td>\n",
       "      <td id=\"T_a0e03_row0_col5\" class=\"data row0 col5\" >0.675132</td>\n",
       "      <td id=\"T_a0e03_row0_col6\" class=\"data row0 col6\" >1.601058</td>\n",
       "      <td id=\"T_a0e03_row0_col7\" class=\"data row0 col7\" >0.344974</td>\n",
       "      <td id=\"T_a0e03_row0_col8\" class=\"data row0 col8\" >0.065608</td>\n",
       "      <td id=\"T_a0e03_row0_col9\" class=\"data row0 col9\" >0.022222</td>\n",
       "      <td id=\"T_a0e03_row0_col10\" class=\"data row0 col10\" >None</td>\n",
       "    </tr>\n",
       "    <tr>\n",
       "      <th id=\"T_a0e03_level0_row1\" class=\"row_heading level0 row1\" >1</th>\n",
       "      <td id=\"T_a0e03_row1_col0\" class=\"data row1 col0\" >2</td>\n",
       "      <td id=\"T_a0e03_row1_col1\" class=\"data row1 col1\" >None</td>\n",
       "      <td id=\"T_a0e03_row1_col2\" class=\"data row1 col2\" >0.423491</td>\n",
       "      <td id=\"T_a0e03_row1_col3\" class=\"data row1 col3\" >1.100754</td>\n",
       "      <td id=\"T_a0e03_row1_col4\" class=\"data row1 col4\" >0.997037</td>\n",
       "      <td id=\"T_a0e03_row1_col5\" class=\"data row1 col5\" >2.054688</td>\n",
       "      <td id=\"T_a0e03_row1_col6\" class=\"data row1 col6\" >2.255388</td>\n",
       "      <td id=\"T_a0e03_row1_col7\" class=\"data row1 col7\" >0.734375</td>\n",
       "      <td id=\"T_a0e03_row1_col8\" class=\"data row1 col8\" >0.207974</td>\n",
       "      <td id=\"T_a0e03_row1_col9\" class=\"data row1 col9\" >0.116110</td>\n",
       "      <td id=\"T_a0e03_row1_col10\" class=\"data row1 col10\" >None</td>\n",
       "    </tr>\n",
       "    <tr>\n",
       "      <th id=\"T_a0e03_level0_row2\" class=\"row_heading level0 row2\" >2</th>\n",
       "      <td id=\"T_a0e03_row2_col0\" class=\"data row2 col0\" >3</td>\n",
       "      <td id=\"T_a0e03_row2_col1\" class=\"data row2 col1\" >None</td>\n",
       "      <td id=\"T_a0e03_row2_col2\" class=\"data row2 col2\" >0.566529</td>\n",
       "      <td id=\"T_a0e03_row2_col3\" class=\"data row2 col3\" >1.370306</td>\n",
       "      <td id=\"T_a0e03_row2_col4\" class=\"data row2 col4\" >1.003039</td>\n",
       "      <td id=\"T_a0e03_row2_col5\" class=\"data row2 col5\" >3.051226</td>\n",
       "      <td id=\"T_a0e03_row2_col6\" class=\"data row2 col6\" >2.997395</td>\n",
       "      <td id=\"T_a0e03_row2_col7\" class=\"data row2 col7\" >0.912090</td>\n",
       "      <td id=\"T_a0e03_row2_col8\" class=\"data row2 col8\" >0.316258</td>\n",
       "      <td id=\"T_a0e03_row2_col9\" class=\"data row2 col9\" >0.215759</td>\n",
       "      <td id=\"T_a0e03_row2_col10\" class=\"data row2 col10\" >None</td>\n",
       "    </tr>\n",
       "    <tr>\n",
       "      <th id=\"T_a0e03_level0_row3\" class=\"row_heading level0 row3\" >3</th>\n",
       "      <td id=\"T_a0e03_row3_col0\" class=\"data row3 col0\" >4</td>\n",
       "      <td id=\"T_a0e03_row3_col1\" class=\"data row3 col1\" >None</td>\n",
       "      <td id=\"T_a0e03_row3_col2\" class=\"data row3 col2\" >0.692425</td>\n",
       "      <td id=\"T_a0e03_row3_col3\" class=\"data row3 col3\" >1.588123</td>\n",
       "      <td id=\"T_a0e03_row3_col4\" class=\"data row3 col4\" >1.002665</td>\n",
       "      <td id=\"T_a0e03_row3_col5\" class=\"data row3 col5\" >3.778455</td>\n",
       "      <td id=\"T_a0e03_row3_col6\" class=\"data row3 col6\" >3.323944</td>\n",
       "      <td id=\"T_a0e03_row3_col7\" class=\"data row3 col7\" >0.966121</td>\n",
       "      <td id=\"T_a0e03_row3_col8\" class=\"data row3 col8\" >0.398934</td>\n",
       "      <td id=\"T_a0e03_row3_col9\" class=\"data row3 col9\" >0.323944</td>\n",
       "      <td id=\"T_a0e03_row3_col10\" class=\"data row3 col10\" >None</td>\n",
       "    </tr>\n",
       "    <tr>\n",
       "      <th id=\"T_a0e03_level0_row4\" class=\"row_heading level0 row4\" >4</th>\n",
       "      <td id=\"T_a0e03_row4_col0\" class=\"data row4 col0\" >5</td>\n",
       "      <td id=\"T_a0e03_row4_col1\" class=\"data row4 col1\" >None</td>\n",
       "      <td id=\"T_a0e03_row4_col2\" class=\"data row4 col2\" >0.802145</td>\n",
       "      <td id=\"T_a0e03_row4_col3\" class=\"data row4 col3\" >1.589988</td>\n",
       "      <td id=\"T_a0e03_row4_col4\" class=\"data row4 col4\" >1.004768</td>\n",
       "      <td id=\"T_a0e03_row4_col5\" class=\"data row4 col5\" >4.070322</td>\n",
       "      <td id=\"T_a0e03_row4_col6\" class=\"data row4 col6\" >3.526818</td>\n",
       "      <td id=\"T_a0e03_row4_col7\" class=\"data row4 col7\" >0.990465</td>\n",
       "      <td id=\"T_a0e03_row4_col8\" class=\"data row4 col8\" >0.638856</td>\n",
       "      <td id=\"T_a0e03_row4_col9\" class=\"data row4 col9\" >0.551847</td>\n",
       "      <td id=\"T_a0e03_row4_col10\" class=\"data row4 col10\" >None</td>\n",
       "    </tr>\n",
       "    <tr>\n",
       "      <th id=\"T_a0e03_level0_row5\" class=\"row_heading level0 row5\" >5</th>\n",
       "      <td id=\"T_a0e03_row5_col0\" class=\"data row5 col0\" >6</td>\n",
       "      <td id=\"T_a0e03_row5_col1\" class=\"data row5 col1\" >None</td>\n",
       "      <td id=\"T_a0e03_row5_col2\" class=\"data row5 col2\" >0.858156</td>\n",
       "      <td id=\"T_a0e03_row5_col3\" class=\"data row5 col3\" >1.460993</td>\n",
       "      <td id=\"T_a0e03_row5_col4\" class=\"data row5 col4\" >1.014184</td>\n",
       "      <td id=\"T_a0e03_row5_col5\" class=\"data row5 col5\" >4.234043</td>\n",
       "      <td id=\"T_a0e03_row5_col6\" class=\"data row5 col6\" >3.836879</td>\n",
       "      <td id=\"T_a0e03_row5_col7\" class=\"data row5 col7\" >1.014184</td>\n",
       "      <td id=\"T_a0e03_row5_col8\" class=\"data row5 col8\" >1.113475</td>\n",
       "      <td id=\"T_a0e03_row5_col9\" class=\"data row5 col9\" >1.056738</td>\n",
       "      <td id=\"T_a0e03_row5_col10\" class=\"data row5 col10\" >None</td>\n",
       "    </tr>\n",
       "  </tbody>\n",
       "</table>\n"
      ],
      "text/plain": [
       "<pandas.io.formats.style.Styler at 0x7f490f28d0c0>"
      ]
     },
     "execution_count": 4,
     "metadata": {},
     "output_type": "execute_result"
    }
   ],
   "source": [
    "t = p1_df.join(t_df, on='full_text').pivot(index='full_text', columns='discourse_type',values='discourse_type_num', aggregate_function='len').fill_null(0)\n",
    "t = t.join(t_df, on='full_text').group_by('score').mean().sort('score').to_pandas().style.background_gradient()\n",
    "t"
   ]
  },
  {
   "cell_type": "code",
   "execution_count": 5,
   "id": "aa96a908",
   "metadata": {
    "execution": {
     "iopub.execute_input": "2024-06-15T15:33:10.222100Z",
     "iopub.status.busy": "2024-06-15T15:33:10.221571Z",
     "iopub.status.idle": "2024-06-15T15:33:10.384407Z",
     "shell.execute_reply": "2024-06-15T15:33:10.383348Z"
    },
    "papermill": {
     "duration": 0.175338,
     "end_time": "2024-06-15T15:33:10.386648",
     "exception": false,
     "start_time": "2024-06-15T15:33:10.211310",
     "status": "completed"
    },
    "tags": []
   },
   "outputs": [
    {
     "data": {
      "text/html": [
       "<div><style>\n",
       ".dataframe > thead > tr,\n",
       ".dataframe > tbody > tr {\n",
       "  text-align: right;\n",
       "  white-space: pre-wrap;\n",
       "}\n",
       "</style>\n",
       "<small>shape: (126_102, 7)</small><table border=\"1\" class=\"dataframe\"><thead><tr><th>essay_id</th><th>full_text</th><th>discourse_start</th><th>discourse_text</th><th>discourse_type</th><th>score</th><th>prompt_name</th></tr><tr><td>str</td><td>str</td><td>i64</td><td>str</td><td>str</td><td>i64</td><td>str</td></tr></thead><tbody><tr><td>&quot;d5b6859&quot;</td><td>&quot;Cars have been…</td><td>0</td><td>&quot;Cars have been…</td><td>&quot;Lead&quot;</td><td>5</td><td>&quot;Car-free citie…</td></tr><tr><td>&quot;d5b6859&quot;</td><td>&quot;Cars have been…</td><td>164</td><td>&quot;ut, &quot;</td><td>&quot;Unannotated&quot;</td><td>5</td><td>&quot;Car-free citie…</td></tr><tr><td>&quot;d5b6859&quot;</td><td>&quot;Cars have been…</td><td>168</td><td>&quot;there are many…</td><td>&quot;Position&quot;</td><td>5</td><td>&quot;Car-free citie…</td></tr><tr><td>&quot;d5b6859&quot;</td><td>&quot;Cars have been…</td><td>210</td><td>&quot;uch as &quot;</td><td>&quot;Unannotated&quot;</td><td>5</td><td>&quot;Car-free citie…</td></tr><tr><td>&quot;d5b6859&quot;</td><td>&quot;Cars have been…</td><td>217</td><td>&quot;improving our …</td><td>&quot;Claim&quot;</td><td>5</td><td>&quot;Car-free citie…</td></tr><tr><td>&hellip;</td><td>&hellip;</td><td>&hellip;</td><td>&hellip;</td><td>&hellip;</td><td>&hellip;</td><td>&hellip;</td></tr><tr><td>&quot;ac8fa95&quot;</td><td>&quot;This goes out …</td><td>204</td><td>&quot;Because whats …</td><td>&quot;Evidence&quot;</td><td>2</td><td>&quot;Does the elect…</td></tr><tr><td>&quot;ac8fa95&quot;</td><td>&quot;This goes out …</td><td>440</td><td>&quot;Now that I&#x27;ve …</td><td>&quot;Evidence&quot;</td><td>2</td><td>&quot;Does the elect…</td></tr><tr><td>&quot;ac8fa95&quot;</td><td>&quot;This goes out …</td><td>823</td><td>&quot;Can voters con…</td><td>&quot;Claim&quot;</td><td>2</td><td>&quot;Does the elect…</td></tr><tr><td>&quot;ac8fa95&quot;</td><td>&quot;This goes out …</td><td>885</td><td>&quot;Do voters some…</td><td>&quot;Claim&quot;</td><td>2</td><td>&quot;Does the elect…</td></tr><tr><td>&quot;ac8fa95&quot;</td><td>&quot;This goes out …</td><td>981</td><td>&quot;At the most ba…</td><td>&quot;Concluding Sta…</td><td>2</td><td>&quot;Does the elect…</td></tr></tbody></table></div>"
      ],
      "text/plain": [
       "shape: (126_102, 7)\n",
       "┌──────────┬───────────────┬───────────────┬───────────────┬───────────────┬───────┬───────────────┐\n",
       "│ essay_id ┆ full_text     ┆ discourse_sta ┆ discourse_tex ┆ discourse_typ ┆ score ┆ prompt_name   │\n",
       "│ ---      ┆ ---           ┆ rt            ┆ t             ┆ e             ┆ ---   ┆ ---           │\n",
       "│ str      ┆ str           ┆ ---           ┆ ---           ┆ ---           ┆ i64   ┆ str           │\n",
       "│          ┆               ┆ i64           ┆ str           ┆ str           ┆       ┆               │\n",
       "╞══════════╪═══════════════╪═══════════════╪═══════════════╪═══════════════╪═══════╪═══════════════╡\n",
       "│ d5b6859  ┆ Cars have     ┆ 0             ┆ Cars have     ┆ Lead          ┆ 5     ┆ Car-free      │\n",
       "│          ┆ been around   ┆               ┆ been around   ┆               ┆       ┆ cities        │\n",
       "│          ┆ for awhile…   ┆               ┆ for awhile…   ┆               ┆       ┆               │\n",
       "│ d5b6859  ┆ Cars have     ┆ 164           ┆ ut,           ┆ Unannotated   ┆ 5     ┆ Car-free      │\n",
       "│          ┆ been around   ┆               ┆               ┆               ┆       ┆ cities        │\n",
       "│          ┆ for awhile…   ┆               ┆               ┆               ┆       ┆               │\n",
       "│ d5b6859  ┆ Cars have     ┆ 168           ┆ there are     ┆ Position      ┆ 5     ┆ Car-free      │\n",
       "│          ┆ been around   ┆               ┆ many          ┆               ┆       ┆ cities        │\n",
       "│          ┆ for awhile…   ┆               ┆ advantages to ┆               ┆       ┆               │\n",
       "│          ┆               ┆               ┆ les…          ┆               ┆       ┆               │\n",
       "│ d5b6859  ┆ Cars have     ┆ 210           ┆ uch as        ┆ Unannotated   ┆ 5     ┆ Car-free      │\n",
       "│          ┆ been around   ┆               ┆               ┆               ┆       ┆ cities        │\n",
       "│          ┆ for awhile…   ┆               ┆               ┆               ┆       ┆               │\n",
       "│ d5b6859  ┆ Cars have     ┆ 217           ┆ improving our ┆ Claim         ┆ 5     ┆ Car-free      │\n",
       "│          ┆ been around   ┆               ┆ cities and    ┆               ┆       ┆ cities        │\n",
       "│          ┆ for awhile…   ┆               ┆ suburbs…      ┆               ┆       ┆               │\n",
       "│ …        ┆ …             ┆ …             ┆ …             ┆ …             ┆ …     ┆ …             │\n",
       "│ ac8fa95  ┆ This goes out ┆ 204           ┆ Because whats ┆ Evidence      ┆ 2     ┆ Does the      │\n",
       "│          ┆ to the        ┆               ┆ the point of  ┆               ┆       ┆ electoral     │\n",
       "│          ┆ senator of …  ┆               ┆ all o…        ┆               ┆       ┆ college work? │\n",
       "│ ac8fa95  ┆ This goes out ┆ 440           ┆ Now that I've ┆ Evidence      ┆ 2     ┆ Does the      │\n",
       "│          ┆ to the        ┆               ┆ read it we    ┆               ┆       ┆ electoral     │\n",
       "│          ┆ senator of …  ┆               ┆ don't e…      ┆               ┆       ┆ college work? │\n",
       "│ ac8fa95  ┆ This goes out ┆ 823           ┆ Can voters    ┆ Claim         ┆ 2     ┆ Does the      │\n",
       "│          ┆ to the        ┆               ┆ control whom  ┆               ┆       ┆ electoral     │\n",
       "│          ┆ senator of …  ┆               ┆ their el…     ┆               ┆       ┆ college work? │\n",
       "│ ac8fa95  ┆ This goes out ┆ 885           ┆ Do voters     ┆ Claim         ┆ 2     ┆ Does the      │\n",
       "│          ┆ to the        ┆               ┆ sometimes get ┆               ┆       ┆ electoral     │\n",
       "│          ┆ senator of …  ┆               ┆ confused…     ┆               ┆       ┆ college work? │\n",
       "│ ac8fa95  ┆ This goes out ┆ 981           ┆ At the most   ┆ Concluding    ┆ 2     ┆ Does the      │\n",
       "│          ┆ to the        ┆               ┆ basic level   ┆ Statement     ┆       ┆ electoral     │\n",
       "│          ┆ senator of …  ┆               ┆ the elec…     ┆               ┆       ┆ college work? │\n",
       "└──────────┴───────────────┴───────────────┴───────────────┴───────────────┴───────┴───────────────┘"
      ]
     },
     "execution_count": 5,
     "metadata": {},
     "output_type": "execute_result"
    }
   ],
   "source": [
    "sen_discourse = p1_df.join(t_df, on='full_text').join(p2_df.select(['essay_id_comp', 'full_text', 'prompt_name']), on='full_text')\n",
    "sen_discourse = sen_discourse.select(['essay_id', 'full_text', 'discourse_start', 'discourse_text', 'discourse_type', 'score', 'prompt_name'])\n",
    "sen_discourse"
   ]
  },
  {
   "cell_type": "code",
   "execution_count": 6,
   "id": "87e40e5c",
   "metadata": {
    "execution": {
     "iopub.execute_input": "2024-06-15T15:33:10.408420Z",
     "iopub.status.busy": "2024-06-15T15:33:10.407552Z",
     "iopub.status.idle": "2024-06-15T15:33:13.280463Z",
     "shell.execute_reply": "2024-06-15T15:33:13.279466Z"
    },
    "papermill": {
     "duration": 2.886648,
     "end_time": "2024-06-15T15:33:13.282962",
     "exception": false,
     "start_time": "2024-06-15T15:33:10.396314",
     "status": "completed"
    },
    "tags": []
   },
   "outputs": [],
   "source": [
    "new_id = []\n",
    "for name, data in sen_discourse.group_by(['essay_id'], maintain_order=True):\n",
    "    for i in range(data.shape[0]):\n",
    "        new_id.append(data['essay_id'][i] + f'_{i}')\n",
    "        \n",
    "sen_discourse = sen_discourse.with_columns(essay_id=pl.Series(new_id))"
   ]
  },
  {
   "cell_type": "code",
   "execution_count": 7,
   "id": "9312f938",
   "metadata": {
    "execution": {
     "iopub.execute_input": "2024-06-15T15:33:13.303174Z",
     "iopub.status.busy": "2024-06-15T15:33:13.302317Z",
     "iopub.status.idle": "2024-06-15T15:33:13.316768Z",
     "shell.execute_reply": "2024-06-15T15:33:13.315829Z"
    },
    "papermill": {
     "duration": 0.027016,
     "end_time": "2024-06-15T15:33:13.319083",
     "exception": false,
     "start_time": "2024-06-15T15:33:13.292067",
     "status": "completed"
    },
    "tags": []
   },
   "outputs": [
    {
     "data": {
      "text/html": [
       "<div><style>\n",
       ".dataframe > thead > tr,\n",
       ".dataframe > tbody > tr {\n",
       "  text-align: right;\n",
       "  white-space: pre-wrap;\n",
       "}\n",
       "</style>\n",
       "<small>shape: (109_504, 7)</small><table border=\"1\" class=\"dataframe\"><thead><tr><th>essay_id</th><th>full_text</th><th>discourse_start</th><th>discourse_text</th><th>discourse_type</th><th>score</th><th>prompt_name</th></tr><tr><td>str</td><td>str</td><td>i64</td><td>str</td><td>str</td><td>i64</td><td>str</td></tr></thead><tbody><tr><td>&quot;d5b6859_0&quot;</td><td>&quot;Cars have been…</td><td>0</td><td>&quot;Cars have been…</td><td>&quot;Lead&quot;</td><td>5</td><td>&quot;Car-free citie…</td></tr><tr><td>&quot;d5b6859_2&quot;</td><td>&quot;Cars have been…</td><td>168</td><td>&quot;there are many…</td><td>&quot;Position&quot;</td><td>5</td><td>&quot;Car-free citie…</td></tr><tr><td>&quot;d5b6859_4&quot;</td><td>&quot;Cars have been…</td><td>217</td><td>&quot;improving our …</td><td>&quot;Claim&quot;</td><td>5</td><td>&quot;Car-free citie…</td></tr><tr><td>&quot;d5b6859_5&quot;</td><td>&quot;Cars have been…</td><td>251</td><td>&quot;improving safe…</td><td>&quot;Claim&quot;</td><td>5</td><td>&quot;Car-free citie…</td></tr><tr><td>&quot;d5b6859_7&quot;</td><td>&quot;Cars have been…</td><td>273</td><td>&quot;decreasing pol…</td><td>&quot;Claim&quot;</td><td>5</td><td>&quot;Car-free citie…</td></tr><tr><td>&hellip;</td><td>&hellip;</td><td>&hellip;</td><td>&hellip;</td><td>&hellip;</td><td>&hellip;</td><td>&hellip;</td></tr><tr><td>&quot;ac8fa95_2&quot;</td><td>&quot;This goes out …</td><td>204</td><td>&quot;Because whats …</td><td>&quot;Evidence&quot;</td><td>2</td><td>&quot;Does the elect…</td></tr><tr><td>&quot;ac8fa95_3&quot;</td><td>&quot;This goes out …</td><td>440</td><td>&quot;Now that I&#x27;ve …</td><td>&quot;Evidence&quot;</td><td>2</td><td>&quot;Does the elect…</td></tr><tr><td>&quot;ac8fa95_4&quot;</td><td>&quot;This goes out …</td><td>823</td><td>&quot;Can voters con…</td><td>&quot;Claim&quot;</td><td>2</td><td>&quot;Does the elect…</td></tr><tr><td>&quot;ac8fa95_5&quot;</td><td>&quot;This goes out …</td><td>885</td><td>&quot;Do voters some…</td><td>&quot;Claim&quot;</td><td>2</td><td>&quot;Does the elect…</td></tr><tr><td>&quot;ac8fa95_6&quot;</td><td>&quot;This goes out …</td><td>981</td><td>&quot;At the most ba…</td><td>&quot;Concluding Sta…</td><td>2</td><td>&quot;Does the elect…</td></tr></tbody></table></div>"
      ],
      "text/plain": [
       "shape: (109_504, 7)\n",
       "┌───────────┬───────────────┬───────────────┬───────────────┬───────────────┬───────┬──────────────┐\n",
       "│ essay_id  ┆ full_text     ┆ discourse_sta ┆ discourse_tex ┆ discourse_typ ┆ score ┆ prompt_name  │\n",
       "│ ---       ┆ ---           ┆ rt            ┆ t             ┆ e             ┆ ---   ┆ ---          │\n",
       "│ str       ┆ str           ┆ ---           ┆ ---           ┆ ---           ┆ i64   ┆ str          │\n",
       "│           ┆               ┆ i64           ┆ str           ┆ str           ┆       ┆              │\n",
       "╞═══════════╪═══════════════╪═══════════════╪═══════════════╪═══════════════╪═══════╪══════════════╡\n",
       "│ d5b6859_0 ┆ Cars have     ┆ 0             ┆ Cars have     ┆ Lead          ┆ 5     ┆ Car-free     │\n",
       "│           ┆ been around   ┆               ┆ been around   ┆               ┆       ┆ cities       │\n",
       "│           ┆ for awhile…   ┆               ┆ for awhile…   ┆               ┆       ┆              │\n",
       "│ d5b6859_2 ┆ Cars have     ┆ 168           ┆ there are     ┆ Position      ┆ 5     ┆ Car-free     │\n",
       "│           ┆ been around   ┆               ┆ many          ┆               ┆       ┆ cities       │\n",
       "│           ┆ for awhile…   ┆               ┆ advantages to ┆               ┆       ┆              │\n",
       "│           ┆               ┆               ┆ les…          ┆               ┆       ┆              │\n",
       "│ d5b6859_4 ┆ Cars have     ┆ 217           ┆ improving our ┆ Claim         ┆ 5     ┆ Car-free     │\n",
       "│           ┆ been around   ┆               ┆ cities and    ┆               ┆       ┆ cities       │\n",
       "│           ┆ for awhile…   ┆               ┆ suburbs…      ┆               ┆       ┆              │\n",
       "│ d5b6859_5 ┆ Cars have     ┆ 251           ┆ improving     ┆ Claim         ┆ 5     ┆ Car-free     │\n",
       "│           ┆ been around   ┆               ┆ safety,       ┆               ┆       ┆ cities       │\n",
       "│           ┆ for awhile…   ┆               ┆               ┆               ┆       ┆              │\n",
       "│ d5b6859_7 ┆ Cars have     ┆ 273           ┆ decreasing    ┆ Claim         ┆ 5     ┆ Car-free     │\n",
       "│           ┆ been around   ┆               ┆ pollution.    ┆               ┆       ┆ cities       │\n",
       "│           ┆ for awhile…   ┆               ┆               ┆               ┆       ┆              │\n",
       "│ …         ┆ …             ┆ …             ┆ …             ┆ …             ┆ …     ┆ …            │\n",
       "│ ac8fa95_2 ┆ This goes out ┆ 204           ┆ Because whats ┆ Evidence      ┆ 2     ┆ Does the     │\n",
       "│           ┆ to the        ┆               ┆ the point of  ┆               ┆       ┆ electoral    │\n",
       "│           ┆ senator of …  ┆               ┆ all o…        ┆               ┆       ┆ college      │\n",
       "│           ┆               ┆               ┆               ┆               ┆       ┆ work?        │\n",
       "│ ac8fa95_3 ┆ This goes out ┆ 440           ┆ Now that I've ┆ Evidence      ┆ 2     ┆ Does the     │\n",
       "│           ┆ to the        ┆               ┆ read it we    ┆               ┆       ┆ electoral    │\n",
       "│           ┆ senator of …  ┆               ┆ don't e…      ┆               ┆       ┆ college      │\n",
       "│           ┆               ┆               ┆               ┆               ┆       ┆ work?        │\n",
       "│ ac8fa95_4 ┆ This goes out ┆ 823           ┆ Can voters    ┆ Claim         ┆ 2     ┆ Does the     │\n",
       "│           ┆ to the        ┆               ┆ control whom  ┆               ┆       ┆ electoral    │\n",
       "│           ┆ senator of …  ┆               ┆ their el…     ┆               ┆       ┆ college      │\n",
       "│           ┆               ┆               ┆               ┆               ┆       ┆ work?        │\n",
       "│ ac8fa95_5 ┆ This goes out ┆ 885           ┆ Do voters     ┆ Claim         ┆ 2     ┆ Does the     │\n",
       "│           ┆ to the        ┆               ┆ sometimes get ┆               ┆       ┆ electoral    │\n",
       "│           ┆ senator of …  ┆               ┆ confused…     ┆               ┆       ┆ college      │\n",
       "│           ┆               ┆               ┆               ┆               ┆       ┆ work?        │\n",
       "│ ac8fa95_6 ┆ This goes out ┆ 981           ┆ At the most   ┆ Concluding    ┆ 2     ┆ Does the     │\n",
       "│           ┆ to the        ┆               ┆ basic level   ┆ Statement     ┆       ┆ electoral    │\n",
       "│           ┆ senator of …  ┆               ┆ the elec…     ┆               ┆       ┆ college      │\n",
       "│           ┆               ┆               ┆               ┆               ┆       ┆ work?        │\n",
       "└───────────┴───────────────┴───────────────┴───────────────┴───────────────┴───────┴──────────────┘"
      ]
     },
     "execution_count": 7,
     "metadata": {},
     "output_type": "execute_result"
    }
   ],
   "source": [
    "sen_discourse = sen_discourse.filter(pl.col('discourse_type') != 'Unannotated')\n",
    "sen_discourse"
   ]
  },
  {
   "cell_type": "code",
   "execution_count": 8,
   "id": "28ada98d",
   "metadata": {
    "execution": {
     "iopub.execute_input": "2024-06-15T15:33:13.340657Z",
     "iopub.status.busy": "2024-06-15T15:33:13.339480Z",
     "iopub.status.idle": "2024-06-15T15:33:13.623776Z",
     "shell.execute_reply": "2024-06-15T15:33:13.622673Z"
    },
    "papermill": {
     "duration": 0.297868,
     "end_time": "2024-06-15T15:33:13.626339",
     "exception": false,
     "start_time": "2024-06-15T15:33:13.328471",
     "status": "completed"
    },
    "tags": []
   },
   "outputs": [],
   "source": [
    "sen_discourse.write_csv('sen_discourse.csv')"
   ]
  },
  {
   "cell_type": "code",
   "execution_count": 9,
   "id": "988ef6f4",
   "metadata": {
    "execution": {
     "iopub.execute_input": "2024-06-15T15:33:13.648019Z",
     "iopub.status.busy": "2024-06-15T15:33:13.647146Z",
     "iopub.status.idle": "2024-06-15T15:33:13.809280Z",
     "shell.execute_reply": "2024-06-15T15:33:13.808178Z"
    },
    "papermill": {
     "duration": 0.175342,
     "end_time": "2024-06-15T15:33:13.811737",
     "exception": false,
     "start_time": "2024-06-15T15:33:13.636395",
     "status": "completed"
    },
    "tags": []
   },
   "outputs": [
    {
     "data": {
      "text/html": [
       "<div><style>\n",
       ".dataframe > thead > tr,\n",
       ".dataframe > tbody > tr {\n",
       "  text-align: right;\n",
       "  white-space: pre-wrap;\n",
       "}\n",
       "</style>\n",
       "<small>shape: (109_504, 8)</small><table border=\"1\" class=\"dataframe\"><thead><tr><th>essay_id</th><th>full_text</th><th>discourse_start</th><th>discourse_end</th><th>discourse_text</th><th>discourse_type</th><th>score</th><th>prompt_name</th></tr><tr><td>str</td><td>str</td><td>i64</td><td>i64</td><td>str</td><td>str</td><td>i64</td><td>str</td></tr></thead><tbody><tr><td>&quot;d5b6859&quot;</td><td>&quot;Cars have been…</td><td>0</td><td>163</td><td>&quot;Cars have been…</td><td>&quot;Lead&quot;</td><td>5</td><td>&quot;Car-free citie…</td></tr><tr><td>&quot;d5b6859&quot;</td><td>&quot;Cars have been…</td><td>168</td><td>209</td><td>&quot;there are many…</td><td>&quot;Position&quot;</td><td>5</td><td>&quot;Car-free citie…</td></tr><tr><td>&quot;d5b6859&quot;</td><td>&quot;Cars have been…</td><td>217</td><td>250</td><td>&quot;improving our …</td><td>&quot;Claim&quot;</td><td>5</td><td>&quot;Car-free citie…</td></tr><tr><td>&quot;d5b6859&quot;</td><td>&quot;Cars have been…</td><td>251</td><td>268</td><td>&quot;improving safe…</td><td>&quot;Claim&quot;</td><td>5</td><td>&quot;Car-free citie…</td></tr><tr><td>&quot;d5b6859&quot;</td><td>&quot;Cars have been…</td><td>273</td><td>294</td><td>&quot;decreasing pol…</td><td>&quot;Claim&quot;</td><td>5</td><td>&quot;Car-free citie…</td></tr><tr><td>&hellip;</td><td>&hellip;</td><td>&hellip;</td><td>&hellip;</td><td>&hellip;</td><td>&hellip;</td><td>&hellip;</td><td>&hellip;</td></tr><tr><td>&quot;ac8fa95&quot;</td><td>&quot;This goes out …</td><td>204</td><td>439</td><td>&quot;Because whats …</td><td>&quot;Evidence&quot;</td><td>2</td><td>&quot;Does the elect…</td></tr><tr><td>&quot;ac8fa95&quot;</td><td>&quot;This goes out …</td><td>440</td><td>822</td><td>&quot;Now that I&#x27;ve …</td><td>&quot;Evidence&quot;</td><td>2</td><td>&quot;Does the elect…</td></tr><tr><td>&quot;ac8fa95&quot;</td><td>&quot;This goes out …</td><td>823</td><td>884</td><td>&quot;Can voters con…</td><td>&quot;Claim&quot;</td><td>2</td><td>&quot;Does the elect…</td></tr><tr><td>&quot;ac8fa95&quot;</td><td>&quot;This goes out …</td><td>885</td><td>980</td><td>&quot;Do voters some…</td><td>&quot;Claim&quot;</td><td>2</td><td>&quot;Does the elect…</td></tr><tr><td>&quot;ac8fa95&quot;</td><td>&quot;This goes out …</td><td>981</td><td>1320</td><td>&quot;At the most ba…</td><td>&quot;Concluding Sta…</td><td>2</td><td>&quot;Does the elect…</td></tr></tbody></table></div>"
      ],
      "text/plain": [
       "shape: (109_504, 8)\n",
       "┌──────────┬─────────────┬─────────────┬────────────┬────────────┬────────────┬───────┬────────────┐\n",
       "│ essay_id ┆ full_text   ┆ discourse_s ┆ discourse_ ┆ discourse_ ┆ discourse_ ┆ score ┆ prompt_nam │\n",
       "│ ---      ┆ ---         ┆ tart        ┆ end        ┆ text       ┆ type       ┆ ---   ┆ e          │\n",
       "│ str      ┆ str         ┆ ---         ┆ ---        ┆ ---        ┆ ---        ┆ i64   ┆ ---        │\n",
       "│          ┆             ┆ i64         ┆ i64        ┆ str        ┆ str        ┆       ┆ str        │\n",
       "╞══════════╪═════════════╪═════════════╪════════════╪════════════╪════════════╪═══════╪════════════╡\n",
       "│ d5b6859  ┆ Cars have   ┆ 0           ┆ 163        ┆ Cars have  ┆ Lead       ┆ 5     ┆ Car-free   │\n",
       "│          ┆ been around ┆             ┆            ┆ been       ┆            ┆       ┆ cities     │\n",
       "│          ┆ for awhile… ┆             ┆            ┆ around for ┆            ┆       ┆            │\n",
       "│          ┆             ┆             ┆            ┆ awhile…    ┆            ┆       ┆            │\n",
       "│ d5b6859  ┆ Cars have   ┆ 168         ┆ 209        ┆ there are  ┆ Position   ┆ 5     ┆ Car-free   │\n",
       "│          ┆ been around ┆             ┆            ┆ many       ┆            ┆       ┆ cities     │\n",
       "│          ┆ for awhile… ┆             ┆            ┆ advantages ┆            ┆       ┆            │\n",
       "│          ┆             ┆             ┆            ┆ to les…    ┆            ┆       ┆            │\n",
       "│ d5b6859  ┆ Cars have   ┆ 217         ┆ 250        ┆ improving  ┆ Claim      ┆ 5     ┆ Car-free   │\n",
       "│          ┆ been around ┆             ┆            ┆ our cities ┆            ┆       ┆ cities     │\n",
       "│          ┆ for awhile… ┆             ┆            ┆ and        ┆            ┆       ┆            │\n",
       "│          ┆             ┆             ┆            ┆ suburbs…   ┆            ┆       ┆            │\n",
       "│ d5b6859  ┆ Cars have   ┆ 251         ┆ 268        ┆ improving  ┆ Claim      ┆ 5     ┆ Car-free   │\n",
       "│          ┆ been around ┆             ┆            ┆ safety,    ┆            ┆       ┆ cities     │\n",
       "│          ┆ for awhile… ┆             ┆            ┆            ┆            ┆       ┆            │\n",
       "│ d5b6859  ┆ Cars have   ┆ 273         ┆ 294        ┆ decreasing ┆ Claim      ┆ 5     ┆ Car-free   │\n",
       "│          ┆ been around ┆             ┆            ┆ pollution. ┆            ┆       ┆ cities     │\n",
       "│          ┆ for awhile… ┆             ┆            ┆            ┆            ┆       ┆            │\n",
       "│ …        ┆ …           ┆ …           ┆ …          ┆ …          ┆ …          ┆ …     ┆ …          │\n",
       "│ ac8fa95  ┆ This goes   ┆ 204         ┆ 439        ┆ Because    ┆ Evidence   ┆ 2     ┆ Does the   │\n",
       "│          ┆ out to the  ┆             ┆            ┆ whats the  ┆            ┆       ┆ electoral  │\n",
       "│          ┆ senator of  ┆             ┆            ┆ point of   ┆            ┆       ┆ college    │\n",
       "│          ┆ …           ┆             ┆            ┆ all o…     ┆            ┆       ┆ work?      │\n",
       "│ ac8fa95  ┆ This goes   ┆ 440         ┆ 822        ┆ Now that   ┆ Evidence   ┆ 2     ┆ Does the   │\n",
       "│          ┆ out to the  ┆             ┆            ┆ I've read  ┆            ┆       ┆ electoral  │\n",
       "│          ┆ senator of  ┆             ┆            ┆ it we      ┆            ┆       ┆ college    │\n",
       "│          ┆ …           ┆             ┆            ┆ don't e…   ┆            ┆       ┆ work?      │\n",
       "│ ac8fa95  ┆ This goes   ┆ 823         ┆ 884        ┆ Can voters ┆ Claim      ┆ 2     ┆ Does the   │\n",
       "│          ┆ out to the  ┆             ┆            ┆ control    ┆            ┆       ┆ electoral  │\n",
       "│          ┆ senator of  ┆             ┆            ┆ whom their ┆            ┆       ┆ college    │\n",
       "│          ┆ …           ┆             ┆            ┆ el…        ┆            ┆       ┆ work?      │\n",
       "│ ac8fa95  ┆ This goes   ┆ 885         ┆ 980        ┆ Do voters  ┆ Claim      ┆ 2     ┆ Does the   │\n",
       "│          ┆ out to the  ┆             ┆            ┆ sometimes  ┆            ┆       ┆ electoral  │\n",
       "│          ┆ senator of  ┆             ┆            ┆ get        ┆            ┆       ┆ college    │\n",
       "│          ┆ …           ┆             ┆            ┆ confused…  ┆            ┆       ┆ work?      │\n",
       "│ ac8fa95  ┆ This goes   ┆ 981         ┆ 1320       ┆ At the     ┆ Concluding ┆ 2     ┆ Does the   │\n",
       "│          ┆ out to the  ┆             ┆            ┆ most basic ┆ Statement  ┆       ┆ electoral  │\n",
       "│          ┆ senator of  ┆             ┆            ┆ level the  ┆            ┆       ┆ college    │\n",
       "│          ┆ …           ┆             ┆            ┆ elec…      ┆            ┆       ┆ work?      │\n",
       "└──────────┴─────────────┴─────────────┴────────────┴────────────┴────────────┴───────┴────────────┘"
      ]
     },
     "execution_count": 9,
     "metadata": {},
     "output_type": "execute_result"
    }
   ],
   "source": [
    "ol_df = p1_df.join(t_df, on='full_text').join(p2_df.select(['essay_id_comp', 'full_text', 'prompt_name']), on='full_text')\n",
    "ol_df = ol_df.select(['essay_id', 'full_text', 'discourse_start', 'discourse_end', 'discourse_text', 'discourse_type', 'score', 'prompt_name'])\n",
    "ol_df_8 = ol_df.clone()\n",
    "ol_df = ol_df.filter(pl.col('discourse_type') != \"Unannotated\")\n",
    "ol_df"
   ]
  },
  {
   "cell_type": "markdown",
   "id": "36bd7ac6",
   "metadata": {
    "papermill": {
     "duration": 0.01036,
     "end_time": "2024-06-15T15:33:13.832783",
     "exception": false,
     "start_time": "2024-06-15T15:33:13.822423",
     "status": "completed"
    },
    "tags": []
   },
   "source": [
    "## nko_sen contains all DT except unannotated"
   ]
  },
  {
   "cell_type": "code",
   "execution_count": 10,
   "id": "7e7e6553",
   "metadata": {
    "execution": {
     "iopub.execute_input": "2024-06-15T15:33:13.855148Z",
     "iopub.status.busy": "2024-06-15T15:33:13.854281Z",
     "iopub.status.idle": "2024-06-15T15:33:13.903037Z",
     "shell.execute_reply": "2024-06-15T15:33:13.901916Z"
    },
    "papermill": {
     "duration": 0.063002,
     "end_time": "2024-06-15T15:33:13.905772",
     "exception": false,
     "start_time": "2024-06-15T15:33:13.842770",
     "status": "completed"
    },
    "tags": []
   },
   "outputs": [
    {
     "data": {
      "text/html": [
       "<div><style>\n",
       ".dataframe > thead > tr,\n",
       ".dataframe > tbody > tr {\n",
       "  text-align: right;\n",
       "  white-space: pre-wrap;\n",
       "}\n",
       "</style>\n",
       "<small>shape: (109_504, 9)</small><table border=\"1\" class=\"dataframe\"><thead><tr><th>essay_id</th><th>full_text</th><th>discourse_start</th><th>discourse_end</th><th>discourse_text</th><th>discourse_type</th><th>score</th><th>prompt_name</th><th>s_token</th></tr><tr><td>str</td><td>str</td><td>i64</td><td>i64</td><td>str</td><td>str</td><td>i64</td><td>str</td><td>str</td></tr></thead><tbody><tr><td>&quot;d5b6859&quot;</td><td>&quot;Cars have been…</td><td>0</td><td>163</td><td>&quot;Cars have been…</td><td>&quot;Lead&quot;</td><td>5</td><td>&quot;Car-free citie…</td><td>&quot;[LEAD]&quot;</td></tr><tr><td>&quot;d5b6859&quot;</td><td>&quot;Cars have been…</td><td>168</td><td>209</td><td>&quot;there are many…</td><td>&quot;Position&quot;</td><td>5</td><td>&quot;Car-free citie…</td><td>&quot;[POSITION]&quot;</td></tr><tr><td>&quot;d5b6859&quot;</td><td>&quot;Cars have been…</td><td>217</td><td>250</td><td>&quot;improving our …</td><td>&quot;Claim&quot;</td><td>5</td><td>&quot;Car-free citie…</td><td>&quot;[CLAIM]&quot;</td></tr><tr><td>&quot;d5b6859&quot;</td><td>&quot;Cars have been…</td><td>251</td><td>268</td><td>&quot;improving safe…</td><td>&quot;Claim&quot;</td><td>5</td><td>&quot;Car-free citie…</td><td>&quot;[CLAIM]&quot;</td></tr><tr><td>&quot;d5b6859&quot;</td><td>&quot;Cars have been…</td><td>273</td><td>294</td><td>&quot;decreasing pol…</td><td>&quot;Claim&quot;</td><td>5</td><td>&quot;Car-free citie…</td><td>&quot;[CLAIM]&quot;</td></tr><tr><td>&hellip;</td><td>&hellip;</td><td>&hellip;</td><td>&hellip;</td><td>&hellip;</td><td>&hellip;</td><td>&hellip;</td><td>&hellip;</td><td>&hellip;</td></tr><tr><td>&quot;ac8fa95&quot;</td><td>&quot;This goes out …</td><td>204</td><td>439</td><td>&quot;Because whats …</td><td>&quot;Evidence&quot;</td><td>2</td><td>&quot;Does the elect…</td><td>&quot;[EVIDENCE]&quot;</td></tr><tr><td>&quot;ac8fa95&quot;</td><td>&quot;This goes out …</td><td>440</td><td>822</td><td>&quot;Now that I&#x27;ve …</td><td>&quot;Evidence&quot;</td><td>2</td><td>&quot;Does the elect…</td><td>&quot;[EVIDENCE]&quot;</td></tr><tr><td>&quot;ac8fa95&quot;</td><td>&quot;This goes out …</td><td>823</td><td>884</td><td>&quot;Can voters con…</td><td>&quot;Claim&quot;</td><td>2</td><td>&quot;Does the elect…</td><td>&quot;[CLAIM]&quot;</td></tr><tr><td>&quot;ac8fa95&quot;</td><td>&quot;This goes out …</td><td>885</td><td>980</td><td>&quot;Do voters some…</td><td>&quot;Claim&quot;</td><td>2</td><td>&quot;Does the elect…</td><td>&quot;[CLAIM]&quot;</td></tr><tr><td>&quot;ac8fa95&quot;</td><td>&quot;This goes out …</td><td>981</td><td>1320</td><td>&quot;At the most ba…</td><td>&quot;Concluding Sta…</td><td>2</td><td>&quot;Does the elect…</td><td>&quot;[CONCLUDE]&quot;</td></tr></tbody></table></div>"
      ],
      "text/plain": [
       "shape: (109_504, 9)\n",
       "┌──────────┬────────────┬────────────┬────────────┬───┬────────────┬───────┬───────────┬───────────┐\n",
       "│ essay_id ┆ full_text  ┆ discourse_ ┆ discourse_ ┆ … ┆ discourse_ ┆ score ┆ prompt_na ┆ s_token   │\n",
       "│ ---      ┆ ---        ┆ start      ┆ end        ┆   ┆ type       ┆ ---   ┆ me        ┆ ---       │\n",
       "│ str      ┆ str        ┆ ---        ┆ ---        ┆   ┆ ---        ┆ i64   ┆ ---       ┆ str       │\n",
       "│          ┆            ┆ i64        ┆ i64        ┆   ┆ str        ┆       ┆ str       ┆           │\n",
       "╞══════════╪════════════╪════════════╪════════════╪═══╪════════════╪═══════╪═══════════╪═══════════╡\n",
       "│ d5b6859  ┆ Cars have  ┆ 0          ┆ 163        ┆ … ┆ Lead       ┆ 5     ┆ Car-free  ┆ [LEAD]    │\n",
       "│          ┆ been       ┆            ┆            ┆   ┆            ┆       ┆ cities    ┆           │\n",
       "│          ┆ around for ┆            ┆            ┆   ┆            ┆       ┆           ┆           │\n",
       "│          ┆ awhile…    ┆            ┆            ┆   ┆            ┆       ┆           ┆           │\n",
       "│ d5b6859  ┆ Cars have  ┆ 168        ┆ 209        ┆ … ┆ Position   ┆ 5     ┆ Car-free  ┆ [POSITION │\n",
       "│          ┆ been       ┆            ┆            ┆   ┆            ┆       ┆ cities    ┆ ]         │\n",
       "│          ┆ around for ┆            ┆            ┆   ┆            ┆       ┆           ┆           │\n",
       "│          ┆ awhile…    ┆            ┆            ┆   ┆            ┆       ┆           ┆           │\n",
       "│ d5b6859  ┆ Cars have  ┆ 217        ┆ 250        ┆ … ┆ Claim      ┆ 5     ┆ Car-free  ┆ [CLAIM]   │\n",
       "│          ┆ been       ┆            ┆            ┆   ┆            ┆       ┆ cities    ┆           │\n",
       "│          ┆ around for ┆            ┆            ┆   ┆            ┆       ┆           ┆           │\n",
       "│          ┆ awhile…    ┆            ┆            ┆   ┆            ┆       ┆           ┆           │\n",
       "│ d5b6859  ┆ Cars have  ┆ 251        ┆ 268        ┆ … ┆ Claim      ┆ 5     ┆ Car-free  ┆ [CLAIM]   │\n",
       "│          ┆ been       ┆            ┆            ┆   ┆            ┆       ┆ cities    ┆           │\n",
       "│          ┆ around for ┆            ┆            ┆   ┆            ┆       ┆           ┆           │\n",
       "│          ┆ awhile…    ┆            ┆            ┆   ┆            ┆       ┆           ┆           │\n",
       "│ d5b6859  ┆ Cars have  ┆ 273        ┆ 294        ┆ … ┆ Claim      ┆ 5     ┆ Car-free  ┆ [CLAIM]   │\n",
       "│          ┆ been       ┆            ┆            ┆   ┆            ┆       ┆ cities    ┆           │\n",
       "│          ┆ around for ┆            ┆            ┆   ┆            ┆       ┆           ┆           │\n",
       "│          ┆ awhile…    ┆            ┆            ┆   ┆            ┆       ┆           ┆           │\n",
       "│ …        ┆ …          ┆ …          ┆ …          ┆ … ┆ …          ┆ …     ┆ …         ┆ …         │\n",
       "│ ac8fa95  ┆ This goes  ┆ 204        ┆ 439        ┆ … ┆ Evidence   ┆ 2     ┆ Does the  ┆ [EVIDENCE │\n",
       "│          ┆ out to the ┆            ┆            ┆   ┆            ┆       ┆ electoral ┆ ]         │\n",
       "│          ┆ senator of ┆            ┆            ┆   ┆            ┆       ┆ college   ┆           │\n",
       "│          ┆ …          ┆            ┆            ┆   ┆            ┆       ┆ work?     ┆           │\n",
       "│ ac8fa95  ┆ This goes  ┆ 440        ┆ 822        ┆ … ┆ Evidence   ┆ 2     ┆ Does the  ┆ [EVIDENCE │\n",
       "│          ┆ out to the ┆            ┆            ┆   ┆            ┆       ┆ electoral ┆ ]         │\n",
       "│          ┆ senator of ┆            ┆            ┆   ┆            ┆       ┆ college   ┆           │\n",
       "│          ┆ …          ┆            ┆            ┆   ┆            ┆       ┆ work?     ┆           │\n",
       "│ ac8fa95  ┆ This goes  ┆ 823        ┆ 884        ┆ … ┆ Claim      ┆ 2     ┆ Does the  ┆ [CLAIM]   │\n",
       "│          ┆ out to the ┆            ┆            ┆   ┆            ┆       ┆ electoral ┆           │\n",
       "│          ┆ senator of ┆            ┆            ┆   ┆            ┆       ┆ college   ┆           │\n",
       "│          ┆ …          ┆            ┆            ┆   ┆            ┆       ┆ work?     ┆           │\n",
       "│ ac8fa95  ┆ This goes  ┆ 885        ┆ 980        ┆ … ┆ Claim      ┆ 2     ┆ Does the  ┆ [CLAIM]   │\n",
       "│          ┆ out to the ┆            ┆            ┆   ┆            ┆       ┆ electoral ┆           │\n",
       "│          ┆ senator of ┆            ┆            ┆   ┆            ┆       ┆ college   ┆           │\n",
       "│          ┆ …          ┆            ┆            ┆   ┆            ┆       ┆ work?     ┆           │\n",
       "│ ac8fa95  ┆ This goes  ┆ 981        ┆ 1320       ┆ … ┆ Concluding ┆ 2     ┆ Does the  ┆ [CONCLUDE │\n",
       "│          ┆ out to the ┆            ┆            ┆   ┆ Statement  ┆       ┆ electoral ┆ ]         │\n",
       "│          ┆ senator of ┆            ┆            ┆   ┆            ┆       ┆ college   ┆           │\n",
       "│          ┆ …          ┆            ┆            ┆   ┆            ┆       ┆ work?     ┆           │\n",
       "└──────────┴────────────┴────────────┴────────────┴───┴────────────┴───────┴───────────┴───────────┘"
      ]
     },
     "execution_count": 10,
     "metadata": {},
     "output_type": "execute_result"
    }
   ],
   "source": [
    "nko_sen = ol_df.with_columns(pl.col('discourse_text').str.strip_chars()).filter((pl.col('discourse_text') != '')).filter(pl.col('discourse_text') != '.')\n",
    "nko_sen = nko_sen.with_columns(pl.col('discourse_type').replace(token_dt_map).alias('s_token'))\n",
    "nko_sen"
   ]
  },
  {
   "cell_type": "code",
   "execution_count": 11,
   "id": "1bc529bc",
   "metadata": {
    "execution": {
     "iopub.execute_input": "2024-06-15T15:33:13.928054Z",
     "iopub.status.busy": "2024-06-15T15:33:13.927415Z",
     "iopub.status.idle": "2024-06-15T15:33:18.141680Z",
     "shell.execute_reply": "2024-06-15T15:33:18.140781Z"
    },
    "papermill": {
     "duration": 4.228364,
     "end_time": "2024-06-15T15:33:18.144730",
     "exception": false,
     "start_time": "2024-06-15T15:33:13.916366",
     "status": "completed"
    },
    "tags": []
   },
   "outputs": [],
   "source": [
    "essay_id_list = []\n",
    "tokened_text = []\n",
    "for name, data in nko_sen.group_by(['essay_id', 'full_text'], maintain_order=True):\n",
    "    essay_id = name[0]\n",
    "    full_text = name[1]\n",
    "    dt_len = data.shape[0]\n",
    "    offset = 0\n",
    "    n_offset = 0\n",
    "    for i in range(dt_len):\n",
    "        \n",
    "        start_pos = data['discourse_start'][i]\n",
    "        s_token = data['s_token'][i]\n",
    "        n_offset = full_text[:start_pos + offset].count('\\n')\n",
    "        temp_offset = 0\n",
    "\n",
    "        if (n_offset % 2 == 1):\n",
    "            temp_offset += 1\n",
    "            \n",
    "        if full_text[start_pos + offset:][:2] == '\\n\\n':\n",
    "            temp_offset += 2\n",
    "            \n",
    "        if (full_text[start_pos + offset:][0] == ' '):\n",
    "            offset += 1\n",
    "            \n",
    "        if full_text[start_pos + offset:][0] == '.':\n",
    "            offset += 1\n",
    "            \n",
    "        full_text = full_text[:start_pos + offset + temp_offset] + s_token + full_text[start_pos + offset + temp_offset:]\n",
    "        offset += len(s_token)\n",
    "            \n",
    "    essay_id_list.append(essay_id)\n",
    "    tokened_text.append(full_text)"
   ]
  },
  {
   "cell_type": "code",
   "execution_count": 12,
   "id": "17ad43c3",
   "metadata": {
    "execution": {
     "iopub.execute_input": "2024-06-15T15:33:18.167212Z",
     "iopub.status.busy": "2024-06-15T15:33:18.166872Z",
     "iopub.status.idle": "2024-06-15T15:33:18.233043Z",
     "shell.execute_reply": "2024-06-15T15:33:18.232031Z"
    },
    "papermill": {
     "duration": 0.079628,
     "end_time": "2024-06-15T15:33:18.235252",
     "exception": false,
     "start_time": "2024-06-15T15:33:18.155624",
     "status": "completed"
    },
    "tags": []
   },
   "outputs": [
    {
     "data": {
      "text/html": [
       "<div><style>\n",
       ".dataframe > thead > tr,\n",
       ".dataframe > tbody > tr {\n",
       "  text-align: right;\n",
       "  white-space: pre-wrap;\n",
       "}\n",
       "</style>\n",
       "<small>shape: (12_871, 6)</small><table border=\"1\" class=\"dataframe\"><thead><tr><th>essay_id</th><th>full_text</th><th>prompt_name</th><th>score</th><th>kaggle_only</th><th>tokened_text</th></tr><tr><td>str</td><td>str</td><td>str</td><td>i64</td><td>bool</td><td>str</td></tr></thead><tbody><tr><td>&quot;000d118&quot;</td><td>&quot;Many people ha…</td><td>&quot;Car-free citie…</td><td>3</td><td>false</td><td>&quot;[LEAD]Many peo…</td></tr><tr><td>&quot;002ba53&quot;</td><td>&quot;Dear, State Se…</td><td>&quot;Does the elect…</td><td>3</td><td>false</td><td>&quot;Dear, State Se…</td></tr><tr><td>&quot;0030e86&quot;</td><td>&quot;If I were to c…</td><td>&quot;Does the elect…</td><td>4</td><td>false</td><td>&quot;[POSITION]If I…</td></tr><tr><td>&quot;0033bf4&quot;</td><td>&quot;What is the Se…</td><td>&quot;&quot;A Cowboy Who …</td><td>3</td><td>false</td><td>&quot;[LEAD]What is …</td></tr><tr><td>&quot;0036253&quot;</td><td>&quot;The challenge …</td><td>&quot;Exploring Venu…</td><td>2</td><td>false</td><td>&quot;The challenge …</td></tr><tr><td>&hellip;</td><td>&hellip;</td><td>&hellip;</td><td>&hellip;</td><td>&hellip;</td><td>&hellip;</td></tr><tr><td>&quot;ffc11a8&quot;</td><td>&quot;You should joi…</td><td>&quot;&quot;A Cowboy Who …</td><td>3</td><td>false</td><td>&quot;[POSITION]You …</td></tr><tr><td>&quot;ffc9095&quot;</td><td>&quot;Venus, an extr…</td><td>&quot;Exploring Venu…</td><td>3</td><td>false</td><td>&quot;[LEAD]Venus, a…</td></tr><tr><td>&quot;ffddf1f&quot;</td><td>&quot;Technology has…</td><td>&quot;Facial action …</td><td>4</td><td>false</td><td>&quot;[LEAD]Technolo…</td></tr><tr><td>&quot;fff016d&quot;</td><td>&quot;If you don&#x27;t l…</td><td>&quot;&quot;A Cowboy Who …</td><td>2</td><td>false</td><td>&quot;[LEAD]If you d…</td></tr><tr><td>&quot;fffb49b&quot;</td><td>&quot;In &quot;The Challe…</td><td>&quot;Exploring Venu…</td><td>1</td><td>false</td><td>&quot;[POSITION]In &quot;…</td></tr></tbody></table></div>"
      ],
      "text/plain": [
       "shape: (12_871, 6)\n",
       "┌──────────┬─────────────────────┬─────────────────────┬───────┬─────────────┬─────────────────────┐\n",
       "│ essay_id ┆ full_text           ┆ prompt_name         ┆ score ┆ kaggle_only ┆ tokened_text        │\n",
       "│ ---      ┆ ---                 ┆ ---                 ┆ ---   ┆ ---         ┆ ---                 │\n",
       "│ str      ┆ str                 ┆ str                 ┆ i64   ┆ bool        ┆ str                 │\n",
       "╞══════════╪═════════════════════╪═════════════════════╪═══════╪═════════════╪═════════════════════╡\n",
       "│ 000d118  ┆ Many people have    ┆ Car-free cities     ┆ 3     ┆ false       ┆ [LEAD]Many people   │\n",
       "│          ┆ car where they …    ┆                     ┆       ┆             ┆ have car where…     │\n",
       "│ 002ba53  ┆ Dear, State Senator ┆ Does the electoral  ┆ 3     ┆ false       ┆ Dear, State Senator │\n",
       "│          ┆                     ┆ college work?       ┆       ┆             ┆                     │\n",
       "│          ┆ This is a l…        ┆                     ┆       ┆             ┆ [POSITION]T…        │\n",
       "│ 0030e86  ┆ If I were to choose ┆ Does the electoral  ┆ 4     ┆ false       ┆ [POSITION]If I were │\n",
       "│          ┆ between keep…       ┆ college work?       ┆       ┆             ┆ to choose be…       │\n",
       "│ 0033bf4  ┆ What is the         ┆ \"A Cowboy Who Rode  ┆ 3     ┆ false       ┆ [LEAD]What is the   │\n",
       "│          ┆ Seagoing Cowboys    ┆ the Waves\"          ┆       ┆             ┆ Seagoing Cowbo…     │\n",
       "│          ┆ pro…                ┆                     ┆       ┆             ┆                     │\n",
       "│ 0036253  ┆ The challenge of    ┆ Exploring Venus     ┆ 2     ┆ false       ┆ The challenge of    │\n",
       "│          ┆ exploring Venus…    ┆                     ┆       ┆             ┆ exploring Venus…    │\n",
       "│ …        ┆ …                   ┆ …                   ┆ …     ┆ …           ┆ …                   │\n",
       "│ ffc11a8  ┆ You should join the ┆ \"A Cowboy Who Rode  ┆ 3     ┆ false       ┆ [POSITION]You       │\n",
       "│          ┆ Seagoing Cow…       ┆ the Waves\"          ┆       ┆             ┆ should join the Se… │\n",
       "│ ffc9095  ┆ Venus, an           ┆ Exploring Venus     ┆ 3     ┆ false       ┆ [LEAD]Venus, an     │\n",
       "│          ┆ extraordinary       ┆                     ┆       ┆             ┆ extraordinary pl…   │\n",
       "│          ┆ planet b…           ┆                     ┆       ┆             ┆                     │\n",
       "│ ffddf1f  ┆ Technology has      ┆ Facial action       ┆ 4     ┆ false       ┆ [LEAD]Technology    │\n",
       "│          ┆ changed a lot of …  ┆ coding system       ┆       ┆             ┆ has changed a l…    │\n",
       "│ fff016d  ┆ If you don't like   ┆ \"A Cowboy Who Rode  ┆ 2     ┆ false       ┆ [LEAD]If you don't  │\n",
       "│          ┆ sitting around…     ┆ the Waves\"          ┆       ┆             ┆ like sitting …      │\n",
       "│ fffb49b  ┆ In \"The Challenge   ┆ Exploring Venus     ┆ 1     ┆ false       ┆ [POSITION]In \"The   │\n",
       "│          ┆ of Exporing Ve…     ┆                     ┆       ┆             ┆ Challenge of E…     │\n",
       "└──────────┴─────────────────────┴─────────────────────┴───────┴─────────────┴─────────────────────┘"
      ]
     },
     "execution_count": 12,
     "metadata": {},
     "output_type": "execute_result"
    }
   ],
   "source": [
    "nko_sen = tp_df.join(pl.DataFrame({'essay_id': essay_id_list, 'tokened_text': tokened_text}), on='essay_id', how='inner')\n",
    "nko_sen"
   ]
  },
  {
   "cell_type": "markdown",
   "id": "fe8b42d8",
   "metadata": {
    "papermill": {
     "duration": 0.010565,
     "end_time": "2024-06-15T15:33:18.256706",
     "exception": false,
     "start_time": "2024-06-15T15:33:18.246141",
     "status": "completed"
    },
    "tags": []
   },
   "source": [
    "## nko_sen_8 contains all DT"
   ]
  },
  {
   "cell_type": "code",
   "execution_count": 13,
   "id": "766c28fc",
   "metadata": {
    "execution": {
     "iopub.execute_input": "2024-06-15T15:33:18.279253Z",
     "iopub.status.busy": "2024-06-15T15:33:18.278950Z",
     "iopub.status.idle": "2024-06-15T15:33:18.326745Z",
     "shell.execute_reply": "2024-06-15T15:33:18.325660Z"
    },
    "papermill": {
     "duration": 0.061893,
     "end_time": "2024-06-15T15:33:18.329157",
     "exception": false,
     "start_time": "2024-06-15T15:33:18.267264",
     "status": "completed"
    },
    "tags": []
   },
   "outputs": [
    {
     "data": {
      "text/html": [
       "<div><style>\n",
       ".dataframe > thead > tr,\n",
       ".dataframe > tbody > tr {\n",
       "  text-align: right;\n",
       "  white-space: pre-wrap;\n",
       "}\n",
       "</style>\n",
       "<small>shape: (124_972, 9)</small><table border=\"1\" class=\"dataframe\"><thead><tr><th>essay_id</th><th>full_text</th><th>discourse_start</th><th>discourse_end</th><th>discourse_text</th><th>discourse_type</th><th>score</th><th>prompt_name</th><th>s_token</th></tr><tr><td>str</td><td>str</td><td>i64</td><td>i64</td><td>str</td><td>str</td><td>i64</td><td>str</td><td>str</td></tr></thead><tbody><tr><td>&quot;d5b6859&quot;</td><td>&quot;Cars have been…</td><td>0</td><td>163</td><td>&quot;Cars have been…</td><td>&quot;Lead&quot;</td><td>5</td><td>&quot;Car-free citie…</td><td>&quot;[LEAD]&quot;</td></tr><tr><td>&quot;d5b6859&quot;</td><td>&quot;Cars have been…</td><td>164</td><td>167</td><td>&quot;ut,&quot;</td><td>&quot;Unannotated&quot;</td><td>5</td><td>&quot;Car-free citie…</td><td>&quot;[UNANNOTATED]&quot;</td></tr><tr><td>&quot;d5b6859&quot;</td><td>&quot;Cars have been…</td><td>168</td><td>209</td><td>&quot;there are many…</td><td>&quot;Position&quot;</td><td>5</td><td>&quot;Car-free citie…</td><td>&quot;[POSITION]&quot;</td></tr><tr><td>&quot;d5b6859&quot;</td><td>&quot;Cars have been…</td><td>210</td><td>216</td><td>&quot;uch as&quot;</td><td>&quot;Unannotated&quot;</td><td>5</td><td>&quot;Car-free citie…</td><td>&quot;[UNANNOTATED]&quot;</td></tr><tr><td>&quot;d5b6859&quot;</td><td>&quot;Cars have been…</td><td>217</td><td>250</td><td>&quot;improving our …</td><td>&quot;Claim&quot;</td><td>5</td><td>&quot;Car-free citie…</td><td>&quot;[CLAIM]&quot;</td></tr><tr><td>&hellip;</td><td>&hellip;</td><td>&hellip;</td><td>&hellip;</td><td>&hellip;</td><td>&hellip;</td><td>&hellip;</td><td>&hellip;</td><td>&hellip;</td></tr><tr><td>&quot;ac8fa95&quot;</td><td>&quot;This goes out …</td><td>204</td><td>439</td><td>&quot;Because whats …</td><td>&quot;Evidence&quot;</td><td>2</td><td>&quot;Does the elect…</td><td>&quot;[EVIDENCE]&quot;</td></tr><tr><td>&quot;ac8fa95&quot;</td><td>&quot;This goes out …</td><td>440</td><td>822</td><td>&quot;Now that I&#x27;ve …</td><td>&quot;Evidence&quot;</td><td>2</td><td>&quot;Does the elect…</td><td>&quot;[EVIDENCE]&quot;</td></tr><tr><td>&quot;ac8fa95&quot;</td><td>&quot;This goes out …</td><td>823</td><td>884</td><td>&quot;Can voters con…</td><td>&quot;Claim&quot;</td><td>2</td><td>&quot;Does the elect…</td><td>&quot;[CLAIM]&quot;</td></tr><tr><td>&quot;ac8fa95&quot;</td><td>&quot;This goes out …</td><td>885</td><td>980</td><td>&quot;Do voters some…</td><td>&quot;Claim&quot;</td><td>2</td><td>&quot;Does the elect…</td><td>&quot;[CLAIM]&quot;</td></tr><tr><td>&quot;ac8fa95&quot;</td><td>&quot;This goes out …</td><td>981</td><td>1320</td><td>&quot;At the most ba…</td><td>&quot;Concluding Sta…</td><td>2</td><td>&quot;Does the elect…</td><td>&quot;[CONCLUDE]&quot;</td></tr></tbody></table></div>"
      ],
      "text/plain": [
       "shape: (124_972, 9)\n",
       "┌──────────┬────────────┬────────────┬────────────┬───┬────────────┬───────┬───────────┬───────────┐\n",
       "│ essay_id ┆ full_text  ┆ discourse_ ┆ discourse_ ┆ … ┆ discourse_ ┆ score ┆ prompt_na ┆ s_token   │\n",
       "│ ---      ┆ ---        ┆ start      ┆ end        ┆   ┆ type       ┆ ---   ┆ me        ┆ ---       │\n",
       "│ str      ┆ str        ┆ ---        ┆ ---        ┆   ┆ ---        ┆ i64   ┆ ---       ┆ str       │\n",
       "│          ┆            ┆ i64        ┆ i64        ┆   ┆ str        ┆       ┆ str       ┆           │\n",
       "╞══════════╪════════════╪════════════╪════════════╪═══╪════════════╪═══════╪═══════════╪═══════════╡\n",
       "│ d5b6859  ┆ Cars have  ┆ 0          ┆ 163        ┆ … ┆ Lead       ┆ 5     ┆ Car-free  ┆ [LEAD]    │\n",
       "│          ┆ been       ┆            ┆            ┆   ┆            ┆       ┆ cities    ┆           │\n",
       "│          ┆ around for ┆            ┆            ┆   ┆            ┆       ┆           ┆           │\n",
       "│          ┆ awhile…    ┆            ┆            ┆   ┆            ┆       ┆           ┆           │\n",
       "│ d5b6859  ┆ Cars have  ┆ 164        ┆ 167        ┆ … ┆ Unannotate ┆ 5     ┆ Car-free  ┆ [UNANNOTA │\n",
       "│          ┆ been       ┆            ┆            ┆   ┆ d          ┆       ┆ cities    ┆ TED]      │\n",
       "│          ┆ around for ┆            ┆            ┆   ┆            ┆       ┆           ┆           │\n",
       "│          ┆ awhile…    ┆            ┆            ┆   ┆            ┆       ┆           ┆           │\n",
       "│ d5b6859  ┆ Cars have  ┆ 168        ┆ 209        ┆ … ┆ Position   ┆ 5     ┆ Car-free  ┆ [POSITION │\n",
       "│          ┆ been       ┆            ┆            ┆   ┆            ┆       ┆ cities    ┆ ]         │\n",
       "│          ┆ around for ┆            ┆            ┆   ┆            ┆       ┆           ┆           │\n",
       "│          ┆ awhile…    ┆            ┆            ┆   ┆            ┆       ┆           ┆           │\n",
       "│ d5b6859  ┆ Cars have  ┆ 210        ┆ 216        ┆ … ┆ Unannotate ┆ 5     ┆ Car-free  ┆ [UNANNOTA │\n",
       "│          ┆ been       ┆            ┆            ┆   ┆ d          ┆       ┆ cities    ┆ TED]      │\n",
       "│          ┆ around for ┆            ┆            ┆   ┆            ┆       ┆           ┆           │\n",
       "│          ┆ awhile…    ┆            ┆            ┆   ┆            ┆       ┆           ┆           │\n",
       "│ d5b6859  ┆ Cars have  ┆ 217        ┆ 250        ┆ … ┆ Claim      ┆ 5     ┆ Car-free  ┆ [CLAIM]   │\n",
       "│          ┆ been       ┆            ┆            ┆   ┆            ┆       ┆ cities    ┆           │\n",
       "│          ┆ around for ┆            ┆            ┆   ┆            ┆       ┆           ┆           │\n",
       "│          ┆ awhile…    ┆            ┆            ┆   ┆            ┆       ┆           ┆           │\n",
       "│ …        ┆ …          ┆ …          ┆ …          ┆ … ┆ …          ┆ …     ┆ …         ┆ …         │\n",
       "│ ac8fa95  ┆ This goes  ┆ 204        ┆ 439        ┆ … ┆ Evidence   ┆ 2     ┆ Does the  ┆ [EVIDENCE │\n",
       "│          ┆ out to the ┆            ┆            ┆   ┆            ┆       ┆ electoral ┆ ]         │\n",
       "│          ┆ senator of ┆            ┆            ┆   ┆            ┆       ┆ college   ┆           │\n",
       "│          ┆ …          ┆            ┆            ┆   ┆            ┆       ┆ work?     ┆           │\n",
       "│ ac8fa95  ┆ This goes  ┆ 440        ┆ 822        ┆ … ┆ Evidence   ┆ 2     ┆ Does the  ┆ [EVIDENCE │\n",
       "│          ┆ out to the ┆            ┆            ┆   ┆            ┆       ┆ electoral ┆ ]         │\n",
       "│          ┆ senator of ┆            ┆            ┆   ┆            ┆       ┆ college   ┆           │\n",
       "│          ┆ …          ┆            ┆            ┆   ┆            ┆       ┆ work?     ┆           │\n",
       "│ ac8fa95  ┆ This goes  ┆ 823        ┆ 884        ┆ … ┆ Claim      ┆ 2     ┆ Does the  ┆ [CLAIM]   │\n",
       "│          ┆ out to the ┆            ┆            ┆   ┆            ┆       ┆ electoral ┆           │\n",
       "│          ┆ senator of ┆            ┆            ┆   ┆            ┆       ┆ college   ┆           │\n",
       "│          ┆ …          ┆            ┆            ┆   ┆            ┆       ┆ work?     ┆           │\n",
       "│ ac8fa95  ┆ This goes  ┆ 885        ┆ 980        ┆ … ┆ Claim      ┆ 2     ┆ Does the  ┆ [CLAIM]   │\n",
       "│          ┆ out to the ┆            ┆            ┆   ┆            ┆       ┆ electoral ┆           │\n",
       "│          ┆ senator of ┆            ┆            ┆   ┆            ┆       ┆ college   ┆           │\n",
       "│          ┆ …          ┆            ┆            ┆   ┆            ┆       ┆ work?     ┆           │\n",
       "│ ac8fa95  ┆ This goes  ┆ 981        ┆ 1320       ┆ … ┆ Concluding ┆ 2     ┆ Does the  ┆ [CONCLUDE │\n",
       "│          ┆ out to the ┆            ┆            ┆   ┆ Statement  ┆       ┆ electoral ┆ ]         │\n",
       "│          ┆ senator of ┆            ┆            ┆   ┆            ┆       ┆ college   ┆           │\n",
       "│          ┆ …          ┆            ┆            ┆   ┆            ┆       ┆ work?     ┆           │\n",
       "└──────────┴────────────┴────────────┴────────────┴───┴────────────┴───────┴───────────┴───────────┘"
      ]
     },
     "execution_count": 13,
     "metadata": {},
     "output_type": "execute_result"
    }
   ],
   "source": [
    "nko_sen_8 = ol_df_8.with_columns(pl.col('discourse_text').str.strip_chars()).filter((pl.col('discourse_text') != '')).filter(pl.col('discourse_text') != '.')\n",
    "nko_sen_8 = nko_sen_8.with_columns(pl.col('discourse_type').replace(token_dt_map).alias('s_token'))\n",
    "nko_sen_8"
   ]
  },
  {
   "cell_type": "code",
   "execution_count": 14,
   "id": "3d3bb51c",
   "metadata": {
    "execution": {
     "iopub.execute_input": "2024-06-15T15:33:18.353239Z",
     "iopub.status.busy": "2024-06-15T15:33:18.352895Z",
     "iopub.status.idle": "2024-06-15T15:33:22.789908Z",
     "shell.execute_reply": "2024-06-15T15:33:22.789022Z"
    },
    "papermill": {
     "duration": 4.452185,
     "end_time": "2024-06-15T15:33:22.792561",
     "exception": false,
     "start_time": "2024-06-15T15:33:18.340376",
     "status": "completed"
    },
    "tags": []
   },
   "outputs": [],
   "source": [
    "essay_id_list = []\n",
    "tokened_text = []\n",
    "for name, data in nko_sen_8.group_by(['essay_id', 'full_text'], maintain_order=True):\n",
    "    essay_id = name[0]\n",
    "    full_text = name[1]\n",
    "    dt_len = data.shape[0]\n",
    "    offset = 0\n",
    "    n_offset = 0\n",
    "    for i in range(dt_len):\n",
    "        \n",
    "        start_pos = data['discourse_start'][i]\n",
    "        s_token = data['s_token'][i]\n",
    "        n_offset = full_text[:start_pos + offset].count('\\n')\n",
    "        temp_offset = 0\n",
    "\n",
    "        if (n_offset % 2 == 1):\n",
    "            temp_offset += 1\n",
    "            \n",
    "        if full_text[start_pos + offset:][:2] == '\\n\\n':\n",
    "            temp_offset += 2\n",
    "            \n",
    "        if (full_text[start_pos + offset:][0] == ' '):\n",
    "            offset += 1\n",
    "            \n",
    "        if full_text[start_pos + offset:][0] == '.':\n",
    "            offset += 1\n",
    "            \n",
    "        full_text = full_text[:start_pos + offset + temp_offset] + s_token + full_text[start_pos + offset + temp_offset:]\n",
    "        offset += len(s_token)\n",
    "            \n",
    "    essay_id_list.append(essay_id)\n",
    "    tokened_text.append(full_text)"
   ]
  },
  {
   "cell_type": "code",
   "execution_count": 15,
   "id": "03a791b8",
   "metadata": {
    "execution": {
     "iopub.execute_input": "2024-06-15T15:33:22.815889Z",
     "iopub.status.busy": "2024-06-15T15:33:22.815480Z",
     "iopub.status.idle": "2024-06-15T15:33:22.864468Z",
     "shell.execute_reply": "2024-06-15T15:33:22.863498Z"
    },
    "papermill": {
     "duration": 0.063214,
     "end_time": "2024-06-15T15:33:22.866584",
     "exception": false,
     "start_time": "2024-06-15T15:33:22.803370",
     "status": "completed"
    },
    "tags": []
   },
   "outputs": [
    {
     "data": {
      "text/html": [
       "<div><style>\n",
       ".dataframe > thead > tr,\n",
       ".dataframe > tbody > tr {\n",
       "  text-align: right;\n",
       "  white-space: pre-wrap;\n",
       "}\n",
       "</style>\n",
       "<small>shape: (12_871, 6)</small><table border=\"1\" class=\"dataframe\"><thead><tr><th>essay_id</th><th>full_text</th><th>prompt_name</th><th>score</th><th>kaggle_only</th><th>tokened_text</th></tr><tr><td>str</td><td>str</td><td>str</td><td>i64</td><td>bool</td><td>str</td></tr></thead><tbody><tr><td>&quot;000d118&quot;</td><td>&quot;Many people ha…</td><td>&quot;Car-free citie…</td><td>3</td><td>false</td><td>&quot;[LEAD]Many peo…</td></tr><tr><td>&quot;002ba53&quot;</td><td>&quot;Dear, State Se…</td><td>&quot;Does the elect…</td><td>3</td><td>false</td><td>&quot;[UNANNOTATED]D…</td></tr><tr><td>&quot;0030e86&quot;</td><td>&quot;If I were to c…</td><td>&quot;Does the elect…</td><td>4</td><td>false</td><td>&quot;[POSITION]If I…</td></tr><tr><td>&quot;0033bf4&quot;</td><td>&quot;What is the Se…</td><td>&quot;&quot;A Cowboy Who …</td><td>3</td><td>false</td><td>&quot;[LEAD]What is …</td></tr><tr><td>&quot;0036253&quot;</td><td>&quot;The challenge …</td><td>&quot;Exploring Venu…</td><td>2</td><td>false</td><td>&quot;[UNANNOTATED]T…</td></tr><tr><td>&hellip;</td><td>&hellip;</td><td>&hellip;</td><td>&hellip;</td><td>&hellip;</td><td>&hellip;</td></tr><tr><td>&quot;ffc11a8&quot;</td><td>&quot;You should joi…</td><td>&quot;&quot;A Cowboy Who …</td><td>3</td><td>false</td><td>&quot;[POSITION]You …</td></tr><tr><td>&quot;ffc9095&quot;</td><td>&quot;Venus, an extr…</td><td>&quot;Exploring Venu…</td><td>3</td><td>false</td><td>&quot;[LEAD]Venus, a…</td></tr><tr><td>&quot;ffddf1f&quot;</td><td>&quot;Technology has…</td><td>&quot;Facial action …</td><td>4</td><td>false</td><td>&quot;[LEAD]Technolo…</td></tr><tr><td>&quot;fff016d&quot;</td><td>&quot;If you don&#x27;t l…</td><td>&quot;&quot;A Cowboy Who …</td><td>2</td><td>false</td><td>&quot;[LEAD]If you d…</td></tr><tr><td>&quot;fffb49b&quot;</td><td>&quot;In &quot;The Challe…</td><td>&quot;Exploring Venu…</td><td>1</td><td>false</td><td>&quot;[POSITION]In &quot;…</td></tr></tbody></table></div>"
      ],
      "text/plain": [
       "shape: (12_871, 6)\n",
       "┌──────────┬─────────────────────┬─────────────────────┬───────┬─────────────┬─────────────────────┐\n",
       "│ essay_id ┆ full_text           ┆ prompt_name         ┆ score ┆ kaggle_only ┆ tokened_text        │\n",
       "│ ---      ┆ ---                 ┆ ---                 ┆ ---   ┆ ---         ┆ ---                 │\n",
       "│ str      ┆ str                 ┆ str                 ┆ i64   ┆ bool        ┆ str                 │\n",
       "╞══════════╪═════════════════════╪═════════════════════╪═══════╪═════════════╪═════════════════════╡\n",
       "│ 000d118  ┆ Many people have    ┆ Car-free cities     ┆ 3     ┆ false       ┆ [LEAD]Many people   │\n",
       "│          ┆ car where they …    ┆                     ┆       ┆             ┆ have car where…     │\n",
       "│ 002ba53  ┆ Dear, State Senator ┆ Does the electoral  ┆ 3     ┆ false       ┆ [UNANNOTATED]Dear,  │\n",
       "│          ┆                     ┆ college work?       ┆       ┆             ┆ State Senator…      │\n",
       "│          ┆ This is a l…        ┆                     ┆       ┆             ┆                     │\n",
       "│ 0030e86  ┆ If I were to choose ┆ Does the electoral  ┆ 4     ┆ false       ┆ [POSITION]If I were │\n",
       "│          ┆ between keep…       ┆ college work?       ┆       ┆             ┆ to choose be…       │\n",
       "│ 0033bf4  ┆ What is the         ┆ \"A Cowboy Who Rode  ┆ 3     ┆ false       ┆ [LEAD]What is the   │\n",
       "│          ┆ Seagoing Cowboys    ┆ the Waves\"          ┆       ┆             ┆ Seagoing Cowbo…     │\n",
       "│          ┆ pro…                ┆                     ┆       ┆             ┆                     │\n",
       "│ 0036253  ┆ The challenge of    ┆ Exploring Venus     ┆ 2     ┆ false       ┆ [UNANNOTATED]The    │\n",
       "│          ┆ exploring Venus…    ┆                     ┆       ┆             ┆ challenge of ex…    │\n",
       "│ …        ┆ …                   ┆ …                   ┆ …     ┆ …           ┆ …                   │\n",
       "│ ffc11a8  ┆ You should join the ┆ \"A Cowboy Who Rode  ┆ 3     ┆ false       ┆ [POSITION]You       │\n",
       "│          ┆ Seagoing Cow…       ┆ the Waves\"          ┆       ┆             ┆ should join the Se… │\n",
       "│ ffc9095  ┆ Venus, an           ┆ Exploring Venus     ┆ 3     ┆ false       ┆ [LEAD]Venus, an     │\n",
       "│          ┆ extraordinary       ┆                     ┆       ┆             ┆ extraordinary pl…   │\n",
       "│          ┆ planet b…           ┆                     ┆       ┆             ┆                     │\n",
       "│ ffddf1f  ┆ Technology has      ┆ Facial action       ┆ 4     ┆ false       ┆ [LEAD]Technology    │\n",
       "│          ┆ changed a lot of …  ┆ coding system       ┆       ┆             ┆ has changed a l…    │\n",
       "│ fff016d  ┆ If you don't like   ┆ \"A Cowboy Who Rode  ┆ 2     ┆ false       ┆ [LEAD]If you don't  │\n",
       "│          ┆ sitting around…     ┆ the Waves\"          ┆       ┆             ┆ like sitting …      │\n",
       "│ fffb49b  ┆ In \"The Challenge   ┆ Exploring Venus     ┆ 1     ┆ false       ┆ [POSITION]In \"The   │\n",
       "│          ┆ of Exporing Ve…     ┆                     ┆       ┆             ┆ Challenge of E…     │\n",
       "└──────────┴─────────────────────┴─────────────────────┴───────┴─────────────┴─────────────────────┘"
      ]
     },
     "execution_count": 15,
     "metadata": {},
     "output_type": "execute_result"
    }
   ],
   "source": [
    "nko_sen_8 = tp_df.join(pl.DataFrame({'essay_id': essay_id_list, 'tokened_text': tokened_text}), on='essay_id', how='inner')\n",
    "nko_sen_8"
   ]
  },
  {
   "cell_type": "markdown",
   "id": "cd4c697c",
   "metadata": {
    "papermill": {
     "duration": 0.010436,
     "end_time": "2024-06-15T15:33:22.887854",
     "exception": false,
     "start_time": "2024-06-15T15:33:22.877418",
     "status": "completed"
    },
    "tags": []
   },
   "source": [
    "## mlm bare for mlm predictions"
   ]
  },
  {
   "cell_type": "code",
   "execution_count": 16,
   "id": "6db5a924",
   "metadata": {
    "execution": {
     "iopub.execute_input": "2024-06-15T15:33:22.911253Z",
     "iopub.status.busy": "2024-06-15T15:33:22.910438Z",
     "iopub.status.idle": "2024-06-15T15:33:22.967490Z",
     "shell.execute_reply": "2024-06-15T15:33:22.966438Z"
    },
    "papermill": {
     "duration": 0.071516,
     "end_time": "2024-06-15T15:33:22.970373",
     "exception": false,
     "start_time": "2024-06-15T15:33:22.898857",
     "status": "completed"
    },
    "tags": []
   },
   "outputs": [
    {
     "data": {
      "text/html": [
       "<div><style>\n",
       ".dataframe > thead > tr,\n",
       ".dataframe > tbody > tr {\n",
       "  text-align: right;\n",
       "  white-space: pre-wrap;\n",
       "}\n",
       "</style>\n",
       "<small>shape: (12_871, 7)</small><table border=\"1\" class=\"dataframe\"><thead><tr><th>essay_id</th><th>full_text</th><th>prompt_name</th><th>score</th><th>kaggle_only</th><th>tokened_text</th><th>masked</th></tr><tr><td>str</td><td>str</td><td>str</td><td>i64</td><td>bool</td><td>str</td><td>str</td></tr></thead><tbody><tr><td>&quot;000d118&quot;</td><td>&quot;Many people ha…</td><td>&quot;Car-free citie…</td><td>3</td><td>false</td><td>&quot;[LEAD]Many peo…</td><td>&quot;[MASK]Many peo…</td></tr><tr><td>&quot;002ba53&quot;</td><td>&quot;Dear, State Se…</td><td>&quot;Does the elect…</td><td>3</td><td>false</td><td>&quot;[UNANNOTATED]D…</td><td>&quot;[MASK]Dear, St…</td></tr><tr><td>&quot;0030e86&quot;</td><td>&quot;If I were to c…</td><td>&quot;Does the elect…</td><td>4</td><td>false</td><td>&quot;[POSITION]If I…</td><td>&quot;[MASK]If I wer…</td></tr><tr><td>&quot;0033bf4&quot;</td><td>&quot;What is the Se…</td><td>&quot;&quot;A Cowboy Who …</td><td>3</td><td>false</td><td>&quot;[LEAD]What is …</td><td>&quot;[MASK]What is …</td></tr><tr><td>&quot;0036253&quot;</td><td>&quot;The challenge …</td><td>&quot;Exploring Venu…</td><td>2</td><td>false</td><td>&quot;[UNANNOTATED]T…</td><td>&quot;[MASK]The chal…</td></tr><tr><td>&hellip;</td><td>&hellip;</td><td>&hellip;</td><td>&hellip;</td><td>&hellip;</td><td>&hellip;</td><td>&hellip;</td></tr><tr><td>&quot;ffc11a8&quot;</td><td>&quot;You should joi…</td><td>&quot;&quot;A Cowboy Who …</td><td>3</td><td>false</td><td>&quot;[POSITION]You …</td><td>&quot;[MASK]You shou…</td></tr><tr><td>&quot;ffc9095&quot;</td><td>&quot;Venus, an extr…</td><td>&quot;Exploring Venu…</td><td>3</td><td>false</td><td>&quot;[LEAD]Venus, a…</td><td>&quot;[MASK]Venus, a…</td></tr><tr><td>&quot;ffddf1f&quot;</td><td>&quot;Technology has…</td><td>&quot;Facial action …</td><td>4</td><td>false</td><td>&quot;[LEAD]Technolo…</td><td>&quot;[MASK]Technolo…</td></tr><tr><td>&quot;fff016d&quot;</td><td>&quot;If you don&#x27;t l…</td><td>&quot;&quot;A Cowboy Who …</td><td>2</td><td>false</td><td>&quot;[LEAD]If you d…</td><td>&quot;[MASK]If you d…</td></tr><tr><td>&quot;fffb49b&quot;</td><td>&quot;In &quot;The Challe…</td><td>&quot;Exploring Venu…</td><td>1</td><td>false</td><td>&quot;[POSITION]In &quot;…</td><td>&quot;[MASK]In &quot;The …</td></tr></tbody></table></div>"
      ],
      "text/plain": [
       "shape: (12_871, 7)\n",
       "┌──────────┬────────────────┬────────────────┬───────┬─────────────┬───────────────┬───────────────┐\n",
       "│ essay_id ┆ full_text      ┆ prompt_name    ┆ score ┆ kaggle_only ┆ tokened_text  ┆ masked        │\n",
       "│ ---      ┆ ---            ┆ ---            ┆ ---   ┆ ---         ┆ ---           ┆ ---           │\n",
       "│ str      ┆ str            ┆ str            ┆ i64   ┆ bool        ┆ str           ┆ str           │\n",
       "╞══════════╪════════════════╪════════════════╪═══════╪═════════════╪═══════════════╪═══════════════╡\n",
       "│ 000d118  ┆ Many people    ┆ Car-free       ┆ 3     ┆ false       ┆ [LEAD]Many    ┆ [MASK]Many    │\n",
       "│          ┆ have car where ┆ cities         ┆       ┆             ┆ people have   ┆ people have   │\n",
       "│          ┆ they …         ┆                ┆       ┆             ┆ car where…    ┆ car where…    │\n",
       "│ 002ba53  ┆ Dear, State    ┆ Does the       ┆ 3     ┆ false       ┆ [UNANNOTATED] ┆ [MASK]Dear,   │\n",
       "│          ┆ Senator        ┆ electoral      ┆       ┆             ┆ Dear, State   ┆ State Senator │\n",
       "│          ┆                ┆ college work?  ┆       ┆             ┆ Senator…      ┆               │\n",
       "│          ┆ This is a l…   ┆                ┆       ┆             ┆               ┆ [MASK…        │\n",
       "│ 0030e86  ┆ If I were to   ┆ Does the       ┆ 4     ┆ false       ┆ [POSITION]If  ┆ [MASK]If I    │\n",
       "│          ┆ choose between ┆ electoral      ┆       ┆             ┆ I were to     ┆ were to       │\n",
       "│          ┆ keep…          ┆ college work?  ┆       ┆             ┆ choose be…    ┆ choose        │\n",
       "│          ┆                ┆                ┆       ┆             ┆               ┆ betwee…       │\n",
       "│ 0033bf4  ┆ What is the    ┆ \"A Cowboy Who  ┆ 3     ┆ false       ┆ [LEAD]What is ┆ [MASK]What is │\n",
       "│          ┆ Seagoing       ┆ Rode the       ┆       ┆             ┆ the Seagoing  ┆ the Seagoing  │\n",
       "│          ┆ Cowboys pro…   ┆ Waves\"         ┆       ┆             ┆ Cowbo…        ┆ Cowbo…        │\n",
       "│ 0036253  ┆ The challenge  ┆ Exploring      ┆ 2     ┆ false       ┆ [UNANNOTATED] ┆ [MASK]The     │\n",
       "│          ┆ of exploring   ┆ Venus          ┆       ┆             ┆ The challenge ┆ challenge of  │\n",
       "│          ┆ Venus…         ┆                ┆       ┆             ┆ of ex…        ┆ exploring…    │\n",
       "│ …        ┆ …              ┆ …              ┆ …     ┆ …           ┆ …             ┆ …             │\n",
       "│ ffc11a8  ┆ You should     ┆ \"A Cowboy Who  ┆ 3     ┆ false       ┆ [POSITION]You ┆ [MASK]You     │\n",
       "│          ┆ join the       ┆ Rode the       ┆       ┆             ┆ should join   ┆ should join   │\n",
       "│          ┆ Seagoing Cow…  ┆ Waves\"         ┆       ┆             ┆ the Se…       ┆ the Seagoi…   │\n",
       "│ ffc9095  ┆ Venus, an      ┆ Exploring      ┆ 3     ┆ false       ┆ [LEAD]Venus,  ┆ [MASK]Venus,  │\n",
       "│          ┆ extraordinary  ┆ Venus          ┆       ┆             ┆ an            ┆ an            │\n",
       "│          ┆ planet b…      ┆                ┆       ┆             ┆ extraordinary ┆ extraordinary │\n",
       "│          ┆                ┆                ┆       ┆             ┆ pl…           ┆ pl…           │\n",
       "│ ffddf1f  ┆ Technology has ┆ Facial action  ┆ 4     ┆ false       ┆ [LEAD]Technol ┆ [MASK]Technol │\n",
       "│          ┆ changed a lot  ┆ coding system  ┆       ┆             ┆ ogy has       ┆ ogy has       │\n",
       "│          ┆ of …           ┆                ┆       ┆             ┆ changed a l…  ┆ changed a l…  │\n",
       "│ fff016d  ┆ If you don't   ┆ \"A Cowboy Who  ┆ 2     ┆ false       ┆ [LEAD]If you  ┆ [MASK]If you  │\n",
       "│          ┆ like sitting   ┆ Rode the       ┆       ┆             ┆ don't like    ┆ don't like    │\n",
       "│          ┆ around…        ┆ Waves\"         ┆       ┆             ┆ sitting …     ┆ sitting …     │\n",
       "│ fffb49b  ┆ In \"The        ┆ Exploring      ┆ 1     ┆ false       ┆ [POSITION]In  ┆ [MASK]In \"The │\n",
       "│          ┆ Challenge of   ┆ Venus          ┆       ┆             ┆ \"The          ┆ Challenge of  │\n",
       "│          ┆ Exporing Ve…   ┆                ┆       ┆             ┆ Challenge of  ┆ Expor…        │\n",
       "│          ┆                ┆                ┆       ┆             ┆ E…            ┆               │\n",
       "└──────────┴────────────────┴────────────────┴───────┴─────────────┴───────────────┴───────────────┘"
      ]
     },
     "execution_count": 16,
     "metadata": {},
     "output_type": "execute_result"
    }
   ],
   "source": [
    "mlm_bare = nko_sen_8.with_columns(pl.col('tokened_text').str.replace_all(mlm_pat_1, mlm_pat_2).alias('masked'))\n",
    "mlm_bare"
   ]
  },
  {
   "cell_type": "code",
   "execution_count": 17,
   "id": "424dc574",
   "metadata": {
    "execution": {
     "iopub.execute_input": "2024-06-15T15:33:22.994437Z",
     "iopub.status.busy": "2024-06-15T15:33:22.994037Z",
     "iopub.status.idle": "2024-06-15T15:33:25.307417Z",
     "shell.execute_reply": "2024-06-15T15:33:25.306400Z"
    },
    "papermill": {
     "duration": 2.327504,
     "end_time": "2024-06-15T15:33:25.309564",
     "exception": false,
     "start_time": "2024-06-15T15:33:22.982060",
     "status": "completed"
    },
    "tags": []
   },
   "outputs": [
    {
     "data": {
      "application/vnd.jupyter.widget-view+json": {
       "model_id": "e80d1e33190f4be595f6eebe433f7e89",
       "version_major": 2,
       "version_minor": 0
      },
      "text/plain": [
       "tokenizer_config.json:   0%|          | 0.00/52.0 [00:00<?, ?B/s]"
      ]
     },
     "metadata": {},
     "output_type": "display_data"
    },
    {
     "data": {
      "application/vnd.jupyter.widget-view+json": {
       "model_id": "658c9b82ec5f45bcad0ade73cca6b54e",
       "version_major": 2,
       "version_minor": 0
      },
      "text/plain": [
       "config.json:   0%|          | 0.00/578 [00:00<?, ?B/s]"
      ]
     },
     "metadata": {},
     "output_type": "display_data"
    },
    {
     "data": {
      "application/vnd.jupyter.widget-view+json": {
       "model_id": "7c883ef2b7ac4965b1049263122a1cc3",
       "version_major": 2,
       "version_minor": 0
      },
      "text/plain": [
       "spm.model:   0%|          | 0.00/2.46M [00:00<?, ?B/s]"
      ]
     },
     "metadata": {},
     "output_type": "display_data"
    },
    {
     "name": "stderr",
     "output_type": "stream",
     "text": [
      "/opt/conda/lib/python3.10/site-packages/transformers/convert_slow_tokenizer.py:550: UserWarning: The sentencepiece tokenizer that you are converting to a fast tokenizer uses the byte fallback option which is not implemented in the fast tokenizers. In practice this means that the fast version of the tokenizer can produce unknown tokens whereas the sentencepiece version would have converted these unknown tokens into a sequence of byte tokens matching the original piece of text.\n",
      "  warnings.warn(\n"
     ]
    },
    {
     "data": {
      "text/plain": [
       "9"
      ]
     },
     "execution_count": 17,
     "metadata": {},
     "output_type": "execute_result"
    }
   ],
   "source": [
    "deberta_v3_tokenizer = AutoTokenizer.from_pretrained('microsoft/deberta-v3-small')\n",
    "deberta_v3_tokenizer_addition_tokens = [\n",
    "    '[UNANNOTATED]',\n",
    "    '[LEAD]',\n",
    "    '[POSITION]',\n",
    "    '[CLAIM]',\n",
    "    '[EVIDENCE]',\n",
    "    '[CONCLUDE]',\n",
    "    '[COUNTER]',\n",
    "    '[REBUTTAL]',\n",
    "]\n",
    "deberta_v3_tokenizer.add_special_tokens({'additional_special_tokens': ['[PARAGRAPH]'] + deberta_v3_tokenizer_addition_tokens})"
   ]
  },
  {
   "cell_type": "code",
   "execution_count": 18,
   "id": "2412575f",
   "metadata": {
    "execution": {
     "iopub.execute_input": "2024-06-15T15:33:25.336073Z",
     "iopub.status.busy": "2024-06-15T15:33:25.335007Z",
     "iopub.status.idle": "2024-06-15T15:33:25.342589Z",
     "shell.execute_reply": "2024-06-15T15:33:25.341813Z"
    },
    "papermill": {
     "duration": 0.022501,
     "end_time": "2024-06-15T15:33:25.344574",
     "exception": false,
     "start_time": "2024-06-15T15:33:25.322073",
     "status": "completed"
    },
    "tags": []
   },
   "outputs": [],
   "source": [
    "def get_deberta_v3_tokenized_labels_idx(txt):\n",
    "    tokened = deberta_v3_tokenizer(\n",
    "        txt,\n",
    "        add_special_tokens=True,\n",
    "        max_length=4096,\n",
    "        padding=\"max_length\",\n",
    "        truncation=True,\n",
    "        return_tensors='pt',\n",
    "        )\n",
    "    labels_idx = torch.flatten(torch.argwhere(tokened['input_ids'].squeeze() == 128000))\n",
    "    return labels_idx.tolist()\n",
    "\n",
    "\n",
    "def get_deberta_v3_tokenized_labels(txt, idx):\n",
    "    tokened = deberta_v3_tokenizer(\n",
    "        txt,\n",
    "        add_special_tokens=True,\n",
    "        max_length=4096,\n",
    "        padding=\"max_length\",\n",
    "        truncation=True,\n",
    "        return_tensors='pt',\n",
    "        )\n",
    "    labels = tokened['input_ids'].squeeze()[idx]\n",
    "    return labels.tolist()"
   ]
  },
  {
   "cell_type": "code",
   "execution_count": 19,
   "id": "2726fa5a",
   "metadata": {
    "execution": {
     "iopub.execute_input": "2024-06-15T15:33:25.369309Z",
     "iopub.status.busy": "2024-06-15T15:33:25.368962Z",
     "iopub.status.idle": "2024-06-15T15:36:11.043148Z",
     "shell.execute_reply": "2024-06-15T15:36:11.041878Z"
    },
    "papermill": {
     "duration": 165.702388,
     "end_time": "2024-06-15T15:36:11.059109",
     "exception": false,
     "start_time": "2024-06-15T15:33:25.356721",
     "status": "completed"
    },
    "tags": []
   },
   "outputs": [
    {
     "data": {
      "text/html": [
       "<div><style>\n",
       ".dataframe > thead > tr,\n",
       ".dataframe > tbody > tr {\n",
       "  text-align: right;\n",
       "  white-space: pre-wrap;\n",
       "}\n",
       "</style>\n",
       "<small>shape: (12_871, 9)</small><table border=\"1\" class=\"dataframe\"><thead><tr><th>essay_id</th><th>full_text</th><th>prompt_name</th><th>score</th><th>kaggle_only</th><th>tokened_text</th><th>masked</th><th>deberta_labels_idx</th><th>deberta_labels</th></tr><tr><td>str</td><td>str</td><td>str</td><td>i64</td><td>bool</td><td>str</td><td>str</td><td>list[i64]</td><td>list[i64]</td></tr></thead><tbody><tr><td>&quot;000d118&quot;</td><td>&quot;Many people ha…</td><td>&quot;Car-free citie…</td><td>3</td><td>false</td><td>&quot;[LEAD]Many peo…</td><td>&quot;[MASK]Many peo…</td><td>[1, 29, … 549]</td><td>[128003, 128002, … 128006]</td></tr><tr><td>&quot;002ba53&quot;</td><td>&quot;Dear, State Se…</td><td>&quot;Does the elect…</td><td>3</td><td>false</td><td>&quot;[UNANNOTATED]D…</td><td>&quot;[MASK]Dear, St…</td><td>[1, 6, … 415]</td><td>[128002, 128004, … 128009]</td></tr><tr><td>&quot;0030e86&quot;</td><td>&quot;If I were to c…</td><td>&quot;Does the elect…</td><td>4</td><td>false</td><td>&quot;[POSITION]If I…</td><td>&quot;[MASK]If I wer…</td><td>[1, 23, … 424]</td><td>[128004, 128005, … 128007]</td></tr><tr><td>&quot;0033bf4&quot;</td><td>&quot;What is the Se…</td><td>&quot;&quot;A Cowboy Who …</td><td>3</td><td>false</td><td>&quot;[LEAD]What is …</td><td>&quot;[MASK]What is …</td><td>[1, 62, … 332]</td><td>[128003, 128004, … 128007]</td></tr><tr><td>&quot;0036253&quot;</td><td>&quot;The challenge …</td><td>&quot;Exploring Venu…</td><td>2</td><td>false</td><td>&quot;[UNANNOTATED]T…</td><td>&quot;[MASK]The chal…</td><td>[1, 7, … 338]</td><td>[128002, 128003, … 128007]</td></tr><tr><td>&hellip;</td><td>&hellip;</td><td>&hellip;</td><td>&hellip;</td><td>&hellip;</td><td>&hellip;</td><td>&hellip;</td><td>&hellip;</td><td>&hellip;</td></tr><tr><td>&quot;ffc11a8&quot;</td><td>&quot;You should joi…</td><td>&quot;&quot;A Cowboy Who …</td><td>3</td><td>false</td><td>&quot;[POSITION]You …</td><td>&quot;[MASK]You shou…</td><td>[1, 9, … 321]</td><td>[128004, 128002, … 128007]</td></tr><tr><td>&quot;ffc9095&quot;</td><td>&quot;Venus, an extr…</td><td>&quot;Exploring Venu…</td><td>3</td><td>false</td><td>&quot;[LEAD]Venus, a…</td><td>&quot;[MASK]Venus, a…</td><td>[1, 80, … 374]</td><td>[128003, 128004, … 128007]</td></tr><tr><td>&quot;ffddf1f&quot;</td><td>&quot;Technology has…</td><td>&quot;Facial action …</td><td>4</td><td>false</td><td>&quot;[LEAD]Technolo…</td><td>&quot;[MASK]Technolo…</td><td>[1, 66, … 611]</td><td>[128003, 128004, … 128007]</td></tr><tr><td>&quot;fff016d&quot;</td><td>&quot;If you don&#x27;t l…</td><td>&quot;&quot;A Cowboy Who …</td><td>2</td><td>false</td><td>&quot;[LEAD]If you d…</td><td>&quot;[MASK]If you d…</td><td>[1, 27, … 177]</td><td>[128003, 128004, … 128007]</td></tr><tr><td>&quot;fffb49b&quot;</td><td>&quot;In &quot;The Challe…</td><td>&quot;Exploring Venu…</td><td>1</td><td>false</td><td>&quot;[POSITION]In &quot;…</td><td>&quot;[MASK]In &quot;The …</td><td>[1, 27, 259]</td><td>[128004, 128006, 128007]</td></tr></tbody></table></div>"
      ],
      "text/plain": [
       "shape: (12_871, 9)\n",
       "┌──────────┬────────────┬────────────┬───────┬───┬────────────┬────────────┬───────────┬───────────┐\n",
       "│ essay_id ┆ full_text  ┆ prompt_nam ┆ score ┆ … ┆ tokened_te ┆ masked     ┆ deberta_l ┆ deberta_l │\n",
       "│ ---      ┆ ---        ┆ e          ┆ ---   ┆   ┆ xt         ┆ ---        ┆ abels_idx ┆ abels     │\n",
       "│ str      ┆ str        ┆ ---        ┆ i64   ┆   ┆ ---        ┆ str        ┆ ---       ┆ ---       │\n",
       "│          ┆            ┆ str        ┆       ┆   ┆ str        ┆            ┆ list[i64] ┆ list[i64] │\n",
       "╞══════════╪════════════╪════════════╪═══════╪═══╪════════════╪════════════╪═══════════╪═══════════╡\n",
       "│ 000d118  ┆ Many       ┆ Car-free   ┆ 3     ┆ … ┆ [LEAD]Many ┆ [MASK]Many ┆ [1, 29, … ┆ [128003,  │\n",
       "│          ┆ people     ┆ cities     ┆       ┆   ┆ people     ┆ people     ┆ 549]      ┆ 128002, … │\n",
       "│          ┆ have car   ┆            ┆       ┆   ┆ have car   ┆ have car   ┆           ┆ 128006]   │\n",
       "│          ┆ where they ┆            ┆       ┆   ┆ where…     ┆ where…     ┆           ┆           │\n",
       "│          ┆ …          ┆            ┆       ┆   ┆            ┆            ┆           ┆           │\n",
       "│ 002ba53  ┆ Dear,      ┆ Does the   ┆ 3     ┆ … ┆ [UNANNOTAT ┆ [MASK]Dear ┆ [1, 6, …  ┆ [128002,  │\n",
       "│          ┆ State      ┆ electoral  ┆       ┆   ┆ ED]Dear,   ┆ , State    ┆ 415]      ┆ 128004, … │\n",
       "│          ┆ Senator    ┆ college    ┆       ┆   ┆ State      ┆ Senator    ┆           ┆ 128009]   │\n",
       "│          ┆            ┆ work?      ┆       ┆   ┆ Senator…   ┆            ┆           ┆           │\n",
       "│          ┆ This is a  ┆            ┆       ┆   ┆            ┆ [MASK…     ┆           ┆           │\n",
       "│          ┆ l…         ┆            ┆       ┆   ┆            ┆            ┆           ┆           │\n",
       "│ 0030e86  ┆ If I were  ┆ Does the   ┆ 4     ┆ … ┆ [POSITION] ┆ [MASK]If I ┆ [1, 23, … ┆ [128004,  │\n",
       "│          ┆ to choose  ┆ electoral  ┆       ┆   ┆ If I were  ┆ were to    ┆ 424]      ┆ 128005, … │\n",
       "│          ┆ between    ┆ college    ┆       ┆   ┆ to choose  ┆ choose     ┆           ┆ 128007]   │\n",
       "│          ┆ keep…      ┆ work?      ┆       ┆   ┆ be…        ┆ betwee…    ┆           ┆           │\n",
       "│ 0033bf4  ┆ What is    ┆ \"A Cowboy  ┆ 3     ┆ … ┆ [LEAD]What ┆ [MASK]What ┆ [1, 62, … ┆ [128003,  │\n",
       "│          ┆ the        ┆ Who Rode   ┆       ┆   ┆ is the     ┆ is the     ┆ 332]      ┆ 128004, … │\n",
       "│          ┆ Seagoing   ┆ the Waves\" ┆       ┆   ┆ Seagoing   ┆ Seagoing   ┆           ┆ 128007]   │\n",
       "│          ┆ Cowboys    ┆            ┆       ┆   ┆ Cowbo…     ┆ Cowbo…     ┆           ┆           │\n",
       "│          ┆ pro…       ┆            ┆       ┆   ┆            ┆            ┆           ┆           │\n",
       "│ 0036253  ┆ The        ┆ Exploring  ┆ 2     ┆ … ┆ [UNANNOTAT ┆ [MASK]The  ┆ [1, 7, …  ┆ [128002,  │\n",
       "│          ┆ challenge  ┆ Venus      ┆       ┆   ┆ ED]The     ┆ challenge  ┆ 338]      ┆ 128003, … │\n",
       "│          ┆ of         ┆            ┆       ┆   ┆ challenge  ┆ of         ┆           ┆ 128007]   │\n",
       "│          ┆ exploring  ┆            ┆       ┆   ┆ of ex…     ┆ exploring… ┆           ┆           │\n",
       "│          ┆ Venus…     ┆            ┆       ┆   ┆            ┆            ┆           ┆           │\n",
       "│ …        ┆ …          ┆ …          ┆ …     ┆ … ┆ …          ┆ …          ┆ …         ┆ …         │\n",
       "│ ffc11a8  ┆ You should ┆ \"A Cowboy  ┆ 3     ┆ … ┆ [POSITION] ┆ [MASK]You  ┆ [1, 9, …  ┆ [128004,  │\n",
       "│          ┆ join the   ┆ Who Rode   ┆       ┆   ┆ You should ┆ should     ┆ 321]      ┆ 128002, … │\n",
       "│          ┆ Seagoing   ┆ the Waves\" ┆       ┆   ┆ join the   ┆ join the   ┆           ┆ 128007]   │\n",
       "│          ┆ Cow…       ┆            ┆       ┆   ┆ Se…        ┆ Seagoi…    ┆           ┆           │\n",
       "│ ffc9095  ┆ Venus, an  ┆ Exploring  ┆ 3     ┆ … ┆ [LEAD]Venu ┆ [MASK]Venu ┆ [1, 80, … ┆ [128003,  │\n",
       "│          ┆ extraordin ┆ Venus      ┆       ┆   ┆ s, an extr ┆ s, an extr ┆ 374]      ┆ 128004, … │\n",
       "│          ┆ ary planet ┆            ┆       ┆   ┆ aordinary  ┆ aordinary  ┆           ┆ 128007]   │\n",
       "│          ┆ b…         ┆            ┆       ┆   ┆ pl…        ┆ pl…        ┆           ┆           │\n",
       "│ ffddf1f  ┆ Technology ┆ Facial     ┆ 4     ┆ … ┆ [LEAD]Tech ┆ [MASK]Tech ┆ [1, 66, … ┆ [128003,  │\n",
       "│          ┆ has        ┆ action     ┆       ┆   ┆ nology has ┆ nology has ┆ 611]      ┆ 128004, … │\n",
       "│          ┆ changed a  ┆ coding     ┆       ┆   ┆ changed a  ┆ changed a  ┆           ┆ 128007]   │\n",
       "│          ┆ lot of …   ┆ system     ┆       ┆   ┆ l…         ┆ l…         ┆           ┆           │\n",
       "│ fff016d  ┆ If you     ┆ \"A Cowboy  ┆ 2     ┆ … ┆ [LEAD]If   ┆ [MASK]If   ┆ [1, 27, … ┆ [128003,  │\n",
       "│          ┆ don't like ┆ Who Rode   ┆       ┆   ┆ you don't  ┆ you don't  ┆ 177]      ┆ 128004, … │\n",
       "│          ┆ sitting    ┆ the Waves\" ┆       ┆   ┆ like       ┆ like       ┆           ┆ 128007]   │\n",
       "│          ┆ around…    ┆            ┆       ┆   ┆ sitting …  ┆ sitting …  ┆           ┆           │\n",
       "│ fffb49b  ┆ In \"The    ┆ Exploring  ┆ 1     ┆ … ┆ [POSITION] ┆ [MASK]In   ┆ [1, 27,   ┆ [128004,  │\n",
       "│          ┆ Challenge  ┆ Venus      ┆       ┆   ┆ In \"The    ┆ \"The       ┆ 259]      ┆ 128006,   │\n",
       "│          ┆ of         ┆            ┆       ┆   ┆ Challenge  ┆ Challenge  ┆           ┆ 128007]   │\n",
       "│          ┆ Exporing   ┆            ┆       ┆   ┆ of E…      ┆ of Expor…  ┆           ┆           │\n",
       "│          ┆ Ve…        ┆            ┆       ┆   ┆            ┆            ┆           ┆           │\n",
       "└──────────┴────────────┴────────────┴───────┴───┴────────────┴────────────┴───────────┴───────────┘"
      ]
     },
     "execution_count": 19,
     "metadata": {},
     "output_type": "execute_result"
    }
   ],
   "source": [
    "mlm_bare = mlm_bare.with_columns(pl.col('masked').map_elements(get_deberta_v3_tokenized_labels_idx, return_dtype=pl.List(pl.Int64)).alias('deberta_labels_idx'))\n",
    "mlm_bare = mlm_bare.with_columns(pl.struct('tokened_text', 'deberta_labels_idx').map_elements(lambda x: get_deberta_v3_tokenized_labels(x['tokened_text'], x['deberta_labels_idx']), return_dtype=pl.List(pl.Int64)).alias('deberta_labels'))\n",
    "mlm_bare"
   ]
  },
  {
   "cell_type": "markdown",
   "id": "f7a1f441",
   "metadata": {
    "papermill": {
     "duration": 0.012579,
     "end_time": "2024-06-15T15:36:11.084567",
     "exception": false,
     "start_time": "2024-06-15T15:36:11.071988",
     "status": "completed"
    },
    "tags": []
   },
   "source": [
    "## masked_ko for infer"
   ]
  },
  {
   "cell_type": "code",
   "execution_count": 20,
   "id": "363be975",
   "metadata": {
    "execution": {
     "iopub.execute_input": "2024-06-15T15:36:11.111561Z",
     "iopub.status.busy": "2024-06-15T15:36:11.111157Z",
     "iopub.status.idle": "2024-06-15T15:38:03.111308Z",
     "shell.execute_reply": "2024-06-15T15:38:03.110412Z"
    },
    "papermill": {
     "duration": 112.029169,
     "end_time": "2024-06-15T15:38:03.126350",
     "exception": false,
     "start_time": "2024-06-15T15:36:11.097181",
     "status": "completed"
    },
    "tags": []
   },
   "outputs": [
    {
     "data": {
      "text/html": [
       "<div><style>\n",
       ".dataframe > thead > tr,\n",
       ".dataframe > tbody > tr {\n",
       "  text-align: right;\n",
       "  white-space: pre-wrap;\n",
       "}\n",
       "</style>\n",
       "<small>shape: (17_305, 7)</small><table border=\"1\" class=\"dataframe\"><thead><tr><th>essay_id</th><th>full_text</th><th>prompt_name</th><th>score</th><th>kaggle_only</th><th>masked</th><th>deberta_labels_idx</th></tr><tr><td>str</td><td>str</td><td>str</td><td>i64</td><td>bool</td><td>str</td><td>list[i64]</td></tr></thead><tbody><tr><td>&quot;000d118&quot;</td><td>&quot;Many people ha…</td><td>&quot;Car-free citie…</td><td>3</td><td>false</td><td>&quot;[MASK]Many peo…</td><td>[1, 10, … 596]</td></tr><tr><td>&quot;000fe60&quot;</td><td>&quot;I am a scienti…</td><td>&quot;The Face on Ma…</td><td>3</td><td>true</td><td>&quot;[MASK]I am a s…</td><td>[1, 18, … 379]</td></tr><tr><td>&quot;001ab80&quot;</td><td>&quot;People always …</td><td>&quot;Driverless car…</td><td>4</td><td>true</td><td>&quot;[MASK]People a…</td><td>[1, 31, … 637]</td></tr><tr><td>&quot;001bdc0&quot;</td><td>&quot;We all heard a…</td><td>&quot;Exploring Venu…</td><td>4</td><td>true</td><td>&quot;[MASK]We all h…</td><td>[1, 72, … 537]</td></tr><tr><td>&quot;002ba53&quot;</td><td>&quot;Dear, State Se…</td><td>&quot;Does the elect…</td><td>3</td><td>false</td><td>&quot;[MASK]Dear, St…</td><td>[1, 20, … 455]</td></tr><tr><td>&hellip;</td><td>&hellip;</td><td>&hellip;</td><td>&hellip;</td><td>&hellip;</td><td>&hellip;</td><td>&hellip;</td></tr><tr><td>&quot;ffd378d&quot;</td><td>&quot;the story &quot; Th…</td><td>&quot;Exploring Venu…</td><td>2</td><td>true</td><td>&quot;[MASK]the stor…</td><td>[1, 29, … 185]</td></tr><tr><td>&quot;ffddf1f&quot;</td><td>&quot;Technology has…</td><td>&quot;Facial action …</td><td>4</td><td>false</td><td>&quot;[MASK]Technolo…</td><td>[1, 14, … 682]</td></tr><tr><td>&quot;fff016d&quot;</td><td>&quot;If you don&#x27;t l…</td><td>&quot;&quot;A Cowboy Who …</td><td>2</td><td>false</td><td>&quot;[MASK]If you d…</td><td>[1, 27, … 249]</td></tr><tr><td>&quot;fffb49b&quot;</td><td>&quot;In &quot;The Challe…</td><td>&quot;Exploring Venu…</td><td>1</td><td>false</td><td>&quot;[MASK]In &quot;The …</td><td>[1, 46, … 267]</td></tr><tr><td>&quot;fffed3e&quot;</td><td>&quot;Venus is worth…</td><td>&quot;Exploring Venu…</td><td>2</td><td>true</td><td>&quot;[MASK]Venus is…</td><td>[1, 11, … 167]</td></tr></tbody></table></div>"
      ],
      "text/plain": [
       "shape: (17_305, 7)\n",
       "┌──────────┬────────────────┬────────────────┬───────┬─────────────┬───────────────┬───────────────┐\n",
       "│ essay_id ┆ full_text      ┆ prompt_name    ┆ score ┆ kaggle_only ┆ masked        ┆ deberta_label │\n",
       "│ ---      ┆ ---            ┆ ---            ┆ ---   ┆ ---         ┆ ---           ┆ s_idx         │\n",
       "│ str      ┆ str            ┆ str            ┆ i64   ┆ bool        ┆ str           ┆ ---           │\n",
       "│          ┆                ┆                ┆       ┆             ┆               ┆ list[i64]     │\n",
       "╞══════════╪════════════════╪════════════════╪═══════╪═════════════╪═══════════════╪═══════════════╡\n",
       "│ 000d118  ┆ Many people    ┆ Car-free       ┆ 3     ┆ false       ┆ [MASK]Many    ┆ [1, 10, …     │\n",
       "│          ┆ have car where ┆ cities         ┆       ┆             ┆ people have   ┆ 596]          │\n",
       "│          ┆ they …         ┆                ┆       ┆             ┆ car where…    ┆               │\n",
       "│ 000fe60  ┆ I am a         ┆ The Face on    ┆ 3     ┆ true        ┆ [MASK]I am a  ┆ [1, 18, …     │\n",
       "│          ┆ scientist at   ┆ Mars           ┆       ┆             ┆ scientist at  ┆ 379]          │\n",
       "│          ┆ NASA that is…  ┆                ┆       ┆             ┆ NASA t…       ┆               │\n",
       "│ 001ab80  ┆ People always  ┆ Driverless     ┆ 4     ┆ true        ┆ [MASK]People  ┆ [1, 31, …     │\n",
       "│          ┆ wish they had  ┆ cars           ┆       ┆             ┆ always wish   ┆ 637]          │\n",
       "│          ┆ the …          ┆                ┆       ┆             ┆ they ha…      ┆               │\n",
       "│ 001bdc0  ┆ We all heard   ┆ Exploring      ┆ 4     ┆ true        ┆ [MASK]We all  ┆ [1, 72, …     │\n",
       "│          ┆ about Venus,   ┆ Venus          ┆       ┆             ┆ heard about   ┆ 537]          │\n",
       "│          ┆ the pl…        ┆                ┆       ┆             ┆ Venus, …      ┆               │\n",
       "│ 002ba53  ┆ Dear, State    ┆ Does the       ┆ 3     ┆ false       ┆ [MASK]Dear,   ┆ [1, 20, …     │\n",
       "│          ┆ Senator        ┆ electoral      ┆       ┆             ┆ State Senator ┆ 455]          │\n",
       "│          ┆                ┆ college work?  ┆       ┆             ┆               ┆               │\n",
       "│          ┆ This is a l…   ┆                ┆       ┆             ┆ This …        ┆               │\n",
       "│ …        ┆ …              ┆ …              ┆ …     ┆ …           ┆ …             ┆ …             │\n",
       "│ ffd378d  ┆ the story \"    ┆ Exploring      ┆ 2     ┆ true        ┆ [MASK]the     ┆ [1, 29, …     │\n",
       "│          ┆ The Challenge  ┆ Venus          ┆       ┆             ┆ story \" The   ┆ 185]          │\n",
       "│          ┆ of Exp…        ┆                ┆       ┆             ┆ Challenge …   ┆               │\n",
       "│ ffddf1f  ┆ Technology has ┆ Facial action  ┆ 4     ┆ false       ┆ [MASK]Technol ┆ [1, 14, …     │\n",
       "│          ┆ changed a lot  ┆ coding system  ┆       ┆             ┆ ogy has       ┆ 682]          │\n",
       "│          ┆ of …           ┆                ┆       ┆             ┆ changed a l…  ┆               │\n",
       "│ fff016d  ┆ If you don't   ┆ \"A Cowboy Who  ┆ 2     ┆ false       ┆ [MASK]If you  ┆ [1, 27, …     │\n",
       "│          ┆ like sitting   ┆ Rode the       ┆       ┆             ┆ don't like    ┆ 249]          │\n",
       "│          ┆ around…        ┆ Waves\"         ┆       ┆             ┆ sitting …     ┆               │\n",
       "│ fffb49b  ┆ In \"The        ┆ Exploring      ┆ 1     ┆ false       ┆ [MASK]In \"The ┆ [1, 46, …     │\n",
       "│          ┆ Challenge of   ┆ Venus          ┆       ┆             ┆ Challenge of  ┆ 267]          │\n",
       "│          ┆ Exporing Ve…   ┆                ┆       ┆             ┆ Expor…        ┆               │\n",
       "│ fffed3e  ┆ Venus is       ┆ Exploring      ┆ 2     ┆ true        ┆ [MASK]Venus   ┆ [1, 11, …     │\n",
       "│          ┆ worthy place   ┆ Venus          ┆       ┆             ┆ is worthy     ┆ 167]          │\n",
       "│          ┆ to study b…    ┆                ┆       ┆             ┆ place to s…   ┆               │\n",
       "└──────────┴────────────────┴────────────────┴───────┴─────────────┴───────────────┴───────────────┘"
      ]
     },
     "execution_count": 20,
     "metadata": {},
     "output_type": "execute_result"
    }
   ],
   "source": [
    "# masked_ko = tp_df.filter(~pl.col('essay_id').is_in(train_dropped)).filter(pl.col('kaggle_only') == True)\n",
    "# masked_ko = masked_ko.with_columns(pl.col('full_text').str.replace_all('\\n\\n', '[PARAGRAPH]').alias('masked'))\n",
    "# masked_ko = masked_ko.with_columns(pl.col('masked').map_elements(sent_tokenize, return_dtype=pl.List(pl.String))).explode('masked')\n",
    "################################################################ replace with dt steps'\n",
    "\n",
    "masked = tp_df.filter(~pl.col('essay_id').is_in(train_dropped))\n",
    "masked = masked.with_columns(pl.col('full_text').str.split('.', inclusive=True).alias('masked'))\n",
    "masked = masked.explode('masked').with_columns(pl.col('masked').str.strip_chars_end())\n",
    "masked = masked.filter(pl.col('masked') != \"\").filter(pl.col('masked') != '.')\n",
    "masked = masked.with_columns(pl.concat_str([pl.lit('[MASK]'), pl.col('masked')]).alias('masked'))\n",
    "masked = masked.group_by(['essay_id', 'full_text', 'prompt_name', 'score', 'kaggle_only'], maintain_order=True).agg([\n",
    "    pl.col('masked').str.concat(' ')\n",
    "])\n",
    "masked = masked.with_columns(pl.col('masked').str.replace_all(mlm_pat_3_2, mlm_pat_4_2))\n",
    "masked = masked.with_columns(pl.col('masked').map_elements(get_deberta_v3_tokenized_labels_idx, return_dtype=pl.List(pl.Int64)).alias('deberta_labels_idx'))\n",
    "masked"
   ]
  },
  {
   "cell_type": "code",
   "execution_count": 21,
   "id": "0961bd18",
   "metadata": {
    "execution": {
     "iopub.execute_input": "2024-06-15T15:38:03.152181Z",
     "iopub.status.busy": "2024-06-15T15:38:03.151788Z",
     "iopub.status.idle": "2024-06-15T15:38:04.854358Z",
     "shell.execute_reply": "2024-06-15T15:38:04.853274Z"
    },
    "papermill": {
     "duration": 1.718845,
     "end_time": "2024-06-15T15:38:04.857087",
     "exception": false,
     "start_time": "2024-06-15T15:38:03.138242",
     "status": "completed"
    },
    "tags": []
   },
   "outputs": [],
   "source": [
    "mlm_bare.write_parquet('train_mlm_bare.parquet')\n",
    "masked.write_parquet('masked.parquet')"
   ]
  },
  {
   "cell_type": "code",
   "execution_count": null,
   "id": "b0c95204",
   "metadata": {
    "papermill": {
     "duration": 0.011642,
     "end_time": "2024-06-15T15:38:04.881162",
     "exception": false,
     "start_time": "2024-06-15T15:38:04.869520",
     "status": "completed"
    },
    "tags": []
   },
   "outputs": [],
   "source": []
  }
 ],
 "metadata": {
  "kaggle": {
   "accelerator": "none",
   "dataSources": [
    {
     "databundleVersionId": 8059942,
     "sourceId": 71485,
     "sourceType": "competition"
    },
    {
     "datasetId": 4902589,
     "sourceId": 8567314,
     "sourceType": "datasetVersion"
    },
    {
     "datasetId": 5092404,
     "sourceId": 8614944,
     "sourceType": "datasetVersion"
    },
    {
     "datasetId": 5075729,
     "sourceId": 8622787,
     "sourceType": "datasetVersion"
    },
    {
     "datasetId": 4977617,
     "sourceId": 8693767,
     "sourceType": "datasetVersion"
    },
    {
     "sourceId": 177401657,
     "sourceType": "kernelVersion"
    },
    {
     "sourceId": 181324015,
     "sourceType": "kernelVersion"
    },
    {
     "sourceId": 181500981,
     "sourceType": "kernelVersion"
    },
    {
     "sourceId": 182217740,
     "sourceType": "kernelVersion"
    },
    {
     "sourceId": 183652709,
     "sourceType": "kernelVersion"
    }
   ],
   "dockerImageVersionId": 30698,
   "isGpuEnabled": false,
   "isInternetEnabled": true,
   "language": "python",
   "sourceType": "notebook"
  },
  "kernelspec": {
   "display_name": "Python 3",
   "language": "python",
   "name": "python3"
  },
  "language_info": {
   "codemirror_mode": {
    "name": "ipython",
    "version": 3
   },
   "file_extension": ".py",
   "mimetype": "text/x-python",
   "name": "python",
   "nbconvert_exporter": "python",
   "pygments_lexer": "ipython3",
   "version": "3.10.13"
  },
  "papermill": {
   "default_parameters": {},
   "duration": 325.018119,
   "end_time": "2024-06-15T15:38:06.318038",
   "environment_variables": {},
   "exception": null,
   "input_path": "__notebook__.ipynb",
   "output_path": "__notebook__.ipynb",
   "parameters": {},
   "start_time": "2024-06-15T15:32:41.299919",
   "version": "2.5.0"
  },
  "widgets": {
   "application/vnd.jupyter.widget-state+json": {
    "state": {
     "10a422e10ae447e4a7e7d009e7ebb9e9": {
      "model_module": "@jupyter-widgets/base",
      "model_module_version": "1.2.0",
      "model_name": "LayoutModel",
      "state": {
       "_model_module": "@jupyter-widgets/base",
       "_model_module_version": "1.2.0",
       "_model_name": "LayoutModel",
       "_view_count": null,
       "_view_module": "@jupyter-widgets/base",
       "_view_module_version": "1.2.0",
       "_view_name": "LayoutView",
       "align_content": null,
       "align_items": null,
       "align_self": null,
       "border": null,
       "bottom": null,
       "display": null,
       "flex": null,
       "flex_flow": null,
       "grid_area": null,
       "grid_auto_columns": null,
       "grid_auto_flow": null,
       "grid_auto_rows": null,
       "grid_column": null,
       "grid_gap": null,
       "grid_row": null,
       "grid_template_areas": null,
       "grid_template_columns": null,
       "grid_template_rows": null,
       "height": null,
       "justify_content": null,
       "justify_items": null,
       "left": null,
       "margin": null,
       "max_height": null,
       "max_width": null,
       "min_height": null,
       "min_width": null,
       "object_fit": null,
       "object_position": null,
       "order": null,
       "overflow": null,
       "overflow_x": null,
       "overflow_y": null,
       "padding": null,
       "right": null,
       "top": null,
       "visibility": null,
       "width": null
      }
     },
     "1431a63d916e4c1ba26f6ca5584c4ad3": {
      "model_module": "@jupyter-widgets/controls",
      "model_module_version": "1.5.0",
      "model_name": "ProgressStyleModel",
      "state": {
       "_model_module": "@jupyter-widgets/controls",
       "_model_module_version": "1.5.0",
       "_model_name": "ProgressStyleModel",
       "_view_count": null,
       "_view_module": "@jupyter-widgets/base",
       "_view_module_version": "1.2.0",
       "_view_name": "StyleView",
       "bar_color": null,
       "description_width": ""
      }
     },
     "1a542120ce37414fbad1b4f23859df41": {
      "model_module": "@jupyter-widgets/controls",
      "model_module_version": "1.5.0",
      "model_name": "FloatProgressModel",
      "state": {
       "_dom_classes": [],
       "_model_module": "@jupyter-widgets/controls",
       "_model_module_version": "1.5.0",
       "_model_name": "FloatProgressModel",
       "_view_count": null,
       "_view_module": "@jupyter-widgets/controls",
       "_view_module_version": "1.5.0",
       "_view_name": "ProgressView",
       "bar_style": "success",
       "description": "",
       "description_tooltip": null,
       "layout": "IPY_MODEL_93374338945c4afb9d3bd16f9d010333",
       "max": 578.0,
       "min": 0.0,
       "orientation": "horizontal",
       "style": "IPY_MODEL_4628cf13475a4190b06463141e118654",
       "value": 578.0
      }
     },
     "239ed39807cc43069c6822175f62254f": {
      "model_module": "@jupyter-widgets/controls",
      "model_module_version": "1.5.0",
      "model_name": "HTMLModel",
      "state": {
       "_dom_classes": [],
       "_model_module": "@jupyter-widgets/controls",
       "_model_module_version": "1.5.0",
       "_model_name": "HTMLModel",
       "_view_count": null,
       "_view_module": "@jupyter-widgets/controls",
       "_view_module_version": "1.5.0",
       "_view_name": "HTMLView",
       "description": "",
       "description_tooltip": null,
       "layout": "IPY_MODEL_8c72fe24b0884112b5012a9eab9ee1d8",
       "placeholder": "​",
       "style": "IPY_MODEL_bce4f77f6ea14624bf69038d76b538b5",
       "value": " 52.0/52.0 [00:00&lt;00:00, 4.09kB/s]"
      }
     },
     "38c3b70abf8649be9c3df08101a308d5": {
      "model_module": "@jupyter-widgets/controls",
      "model_module_version": "1.5.0",
      "model_name": "DescriptionStyleModel",
      "state": {
       "_model_module": "@jupyter-widgets/controls",
       "_model_module_version": "1.5.0",
       "_model_name": "DescriptionStyleModel",
       "_view_count": null,
       "_view_module": "@jupyter-widgets/base",
       "_view_module_version": "1.2.0",
       "_view_name": "StyleView",
       "description_width": ""
      }
     },
     "3ac24c35d789499fa67dee9f9d6f165e": {
      "model_module": "@jupyter-widgets/controls",
      "model_module_version": "1.5.0",
      "model_name": "HTMLModel",
      "state": {
       "_dom_classes": [],
       "_model_module": "@jupyter-widgets/controls",
       "_model_module_version": "1.5.0",
       "_model_name": "HTMLModel",
       "_view_count": null,
       "_view_module": "@jupyter-widgets/controls",
       "_view_module_version": "1.5.0",
       "_view_name": "HTMLView",
       "description": "",
       "description_tooltip": null,
       "layout": "IPY_MODEL_d1bebee36fba4993955b7ff429c5cd19",
       "placeholder": "​",
       "style": "IPY_MODEL_d9f9649615cf4da9964c4dbc7d62b9f1",
       "value": " 578/578 [00:00&lt;00:00, 48.6kB/s]"
      }
     },
     "3ae5ad8bfcee46748fb4ce0b02f3a209": {
      "model_module": "@jupyter-widgets/controls",
      "model_module_version": "1.5.0",
      "model_name": "HTMLModel",
      "state": {
       "_dom_classes": [],
       "_model_module": "@jupyter-widgets/controls",
       "_model_module_version": "1.5.0",
       "_model_name": "HTMLModel",
       "_view_count": null,
       "_view_module": "@jupyter-widgets/controls",
       "_view_module_version": "1.5.0",
       "_view_name": "HTMLView",
       "description": "",
       "description_tooltip": null,
       "layout": "IPY_MODEL_50696d712ed747968bb6aff8dfb91cb9",
       "placeholder": "​",
       "style": "IPY_MODEL_97b56a48bf4a4c85a016e3d4a83cb176",
       "value": "config.json: 100%"
      }
     },
     "4628cf13475a4190b06463141e118654": {
      "model_module": "@jupyter-widgets/controls",
      "model_module_version": "1.5.0",
      "model_name": "ProgressStyleModel",
      "state": {
       "_model_module": "@jupyter-widgets/controls",
       "_model_module_version": "1.5.0",
       "_model_name": "ProgressStyleModel",
       "_view_count": null,
       "_view_module": "@jupyter-widgets/base",
       "_view_module_version": "1.2.0",
       "_view_name": "StyleView",
       "bar_color": null,
       "description_width": ""
      }
     },
     "50696d712ed747968bb6aff8dfb91cb9": {
      "model_module": "@jupyter-widgets/base",
      "model_module_version": "1.2.0",
      "model_name": "LayoutModel",
      "state": {
       "_model_module": "@jupyter-widgets/base",
       "_model_module_version": "1.2.0",
       "_model_name": "LayoutModel",
       "_view_count": null,
       "_view_module": "@jupyter-widgets/base",
       "_view_module_version": "1.2.0",
       "_view_name": "LayoutView",
       "align_content": null,
       "align_items": null,
       "align_self": null,
       "border": null,
       "bottom": null,
       "display": null,
       "flex": null,
       "flex_flow": null,
       "grid_area": null,
       "grid_auto_columns": null,
       "grid_auto_flow": null,
       "grid_auto_rows": null,
       "grid_column": null,
       "grid_gap": null,
       "grid_row": null,
       "grid_template_areas": null,
       "grid_template_columns": null,
       "grid_template_rows": null,
       "height": null,
       "justify_content": null,
       "justify_items": null,
       "left": null,
       "margin": null,
       "max_height": null,
       "max_width": null,
       "min_height": null,
       "min_width": null,
       "object_fit": null,
       "object_position": null,
       "order": null,
       "overflow": null,
       "overflow_x": null,
       "overflow_y": null,
       "padding": null,
       "right": null,
       "top": null,
       "visibility": null,
       "width": null
      }
     },
     "5482d4e047f94fe0a0b27a1843843dd2": {
      "model_module": "@jupyter-widgets/controls",
      "model_module_version": "1.5.0",
      "model_name": "HTMLModel",
      "state": {
       "_dom_classes": [],
       "_model_module": "@jupyter-widgets/controls",
       "_model_module_version": "1.5.0",
       "_model_name": "HTMLModel",
       "_view_count": null,
       "_view_module": "@jupyter-widgets/controls",
       "_view_module_version": "1.5.0",
       "_view_name": "HTMLView",
       "description": "",
       "description_tooltip": null,
       "layout": "IPY_MODEL_7fe88eb04cdf4ae4ac5b93a5065f2cc1",
       "placeholder": "​",
       "style": "IPY_MODEL_93cd747b81914c03bff21be5dbc5873c",
       "value": "spm.model: 100%"
      }
     },
     "616fb924ddd74ecfbf4147a96c9d0cbf": {
      "model_module": "@jupyter-widgets/controls",
      "model_module_version": "1.5.0",
      "model_name": "FloatProgressModel",
      "state": {
       "_dom_classes": [],
       "_model_module": "@jupyter-widgets/controls",
       "_model_module_version": "1.5.0",
       "_model_name": "FloatProgressModel",
       "_view_count": null,
       "_view_module": "@jupyter-widgets/controls",
       "_view_module_version": "1.5.0",
       "_view_name": "ProgressView",
       "bar_style": "success",
       "description": "",
       "description_tooltip": null,
       "layout": "IPY_MODEL_aea6b40c974c4623ba85d802a0b60d46",
       "max": 2464616.0,
       "min": 0.0,
       "orientation": "horizontal",
       "style": "IPY_MODEL_1431a63d916e4c1ba26f6ca5584c4ad3",
       "value": 2464616.0
      }
     },
     "62f6fa2333a04929b89586eef401371f": {
      "model_module": "@jupyter-widgets/controls",
      "model_module_version": "1.5.0",
      "model_name": "DescriptionStyleModel",
      "state": {
       "_model_module": "@jupyter-widgets/controls",
       "_model_module_version": "1.5.0",
       "_model_name": "DescriptionStyleModel",
       "_view_count": null,
       "_view_module": "@jupyter-widgets/base",
       "_view_module_version": "1.2.0",
       "_view_name": "StyleView",
       "description_width": ""
      }
     },
     "658c9b82ec5f45bcad0ade73cca6b54e": {
      "model_module": "@jupyter-widgets/controls",
      "model_module_version": "1.5.0",
      "model_name": "HBoxModel",
      "state": {
       "_dom_classes": [],
       "_model_module": "@jupyter-widgets/controls",
       "_model_module_version": "1.5.0",
       "_model_name": "HBoxModel",
       "_view_count": null,
       "_view_module": "@jupyter-widgets/controls",
       "_view_module_version": "1.5.0",
       "_view_name": "HBoxView",
       "box_style": "",
       "children": [
        "IPY_MODEL_3ae5ad8bfcee46748fb4ce0b02f3a209",
        "IPY_MODEL_1a542120ce37414fbad1b4f23859df41",
        "IPY_MODEL_3ac24c35d789499fa67dee9f9d6f165e"
       ],
       "layout": "IPY_MODEL_85c4a7406fc64c8c889ac0413444cbd2"
      }
     },
     "684364a91df144e4890fc6b6256e3eab": {
      "model_module": "@jupyter-widgets/base",
      "model_module_version": "1.2.0",
      "model_name": "LayoutModel",
      "state": {
       "_model_module": "@jupyter-widgets/base",
       "_model_module_version": "1.2.0",
       "_model_name": "LayoutModel",
       "_view_count": null,
       "_view_module": "@jupyter-widgets/base",
       "_view_module_version": "1.2.0",
       "_view_name": "LayoutView",
       "align_content": null,
       "align_items": null,
       "align_self": null,
       "border": null,
       "bottom": null,
       "display": null,
       "flex": null,
       "flex_flow": null,
       "grid_area": null,
       "grid_auto_columns": null,
       "grid_auto_flow": null,
       "grid_auto_rows": null,
       "grid_column": null,
       "grid_gap": null,
       "grid_row": null,
       "grid_template_areas": null,
       "grid_template_columns": null,
       "grid_template_rows": null,
       "height": null,
       "justify_content": null,
       "justify_items": null,
       "left": null,
       "margin": null,
       "max_height": null,
       "max_width": null,
       "min_height": null,
       "min_width": null,
       "object_fit": null,
       "object_position": null,
       "order": null,
       "overflow": null,
       "overflow_x": null,
       "overflow_y": null,
       "padding": null,
       "right": null,
       "top": null,
       "visibility": null,
       "width": null
      }
     },
     "6d880f546daa4aa2a4e1d1c97df8a7e6": {
      "model_module": "@jupyter-widgets/controls",
      "model_module_version": "1.5.0",
      "model_name": "HTMLModel",
      "state": {
       "_dom_classes": [],
       "_model_module": "@jupyter-widgets/controls",
       "_model_module_version": "1.5.0",
       "_model_name": "HTMLModel",
       "_view_count": null,
       "_view_module": "@jupyter-widgets/controls",
       "_view_module_version": "1.5.0",
       "_view_name": "HTMLView",
       "description": "",
       "description_tooltip": null,
       "layout": "IPY_MODEL_10a422e10ae447e4a7e7d009e7ebb9e9",
       "placeholder": "​",
       "style": "IPY_MODEL_38c3b70abf8649be9c3df08101a308d5",
       "value": " 2.46M/2.46M [00:00&lt;00:00, 18.4MB/s]"
      }
     },
     "7c883ef2b7ac4965b1049263122a1cc3": {
      "model_module": "@jupyter-widgets/controls",
      "model_module_version": "1.5.0",
      "model_name": "HBoxModel",
      "state": {
       "_dom_classes": [],
       "_model_module": "@jupyter-widgets/controls",
       "_model_module_version": "1.5.0",
       "_model_name": "HBoxModel",
       "_view_count": null,
       "_view_module": "@jupyter-widgets/controls",
       "_view_module_version": "1.5.0",
       "_view_name": "HBoxView",
       "box_style": "",
       "children": [
        "IPY_MODEL_5482d4e047f94fe0a0b27a1843843dd2",
        "IPY_MODEL_616fb924ddd74ecfbf4147a96c9d0cbf",
        "IPY_MODEL_6d880f546daa4aa2a4e1d1c97df8a7e6"
       ],
       "layout": "IPY_MODEL_ce9fd18d00874cdfb1b557f8af6b3d14"
      }
     },
     "7fe88eb04cdf4ae4ac5b93a5065f2cc1": {
      "model_module": "@jupyter-widgets/base",
      "model_module_version": "1.2.0",
      "model_name": "LayoutModel",
      "state": {
       "_model_module": "@jupyter-widgets/base",
       "_model_module_version": "1.2.0",
       "_model_name": "LayoutModel",
       "_view_count": null,
       "_view_module": "@jupyter-widgets/base",
       "_view_module_version": "1.2.0",
       "_view_name": "LayoutView",
       "align_content": null,
       "align_items": null,
       "align_self": null,
       "border": null,
       "bottom": null,
       "display": null,
       "flex": null,
       "flex_flow": null,
       "grid_area": null,
       "grid_auto_columns": null,
       "grid_auto_flow": null,
       "grid_auto_rows": null,
       "grid_column": null,
       "grid_gap": null,
       "grid_row": null,
       "grid_template_areas": null,
       "grid_template_columns": null,
       "grid_template_rows": null,
       "height": null,
       "justify_content": null,
       "justify_items": null,
       "left": null,
       "margin": null,
       "max_height": null,
       "max_width": null,
       "min_height": null,
       "min_width": null,
       "object_fit": null,
       "object_position": null,
       "order": null,
       "overflow": null,
       "overflow_x": null,
       "overflow_y": null,
       "padding": null,
       "right": null,
       "top": null,
       "visibility": null,
       "width": null
      }
     },
     "85c4a7406fc64c8c889ac0413444cbd2": {
      "model_module": "@jupyter-widgets/base",
      "model_module_version": "1.2.0",
      "model_name": "LayoutModel",
      "state": {
       "_model_module": "@jupyter-widgets/base",
       "_model_module_version": "1.2.0",
       "_model_name": "LayoutModel",
       "_view_count": null,
       "_view_module": "@jupyter-widgets/base",
       "_view_module_version": "1.2.0",
       "_view_name": "LayoutView",
       "align_content": null,
       "align_items": null,
       "align_self": null,
       "border": null,
       "bottom": null,
       "display": null,
       "flex": null,
       "flex_flow": null,
       "grid_area": null,
       "grid_auto_columns": null,
       "grid_auto_flow": null,
       "grid_auto_rows": null,
       "grid_column": null,
       "grid_gap": null,
       "grid_row": null,
       "grid_template_areas": null,
       "grid_template_columns": null,
       "grid_template_rows": null,
       "height": null,
       "justify_content": null,
       "justify_items": null,
       "left": null,
       "margin": null,
       "max_height": null,
       "max_width": null,
       "min_height": null,
       "min_width": null,
       "object_fit": null,
       "object_position": null,
       "order": null,
       "overflow": null,
       "overflow_x": null,
       "overflow_y": null,
       "padding": null,
       "right": null,
       "top": null,
       "visibility": null,
       "width": null
      }
     },
     "87f12f299f8c4ba18ca0f185f63ccd76": {
      "model_module": "@jupyter-widgets/base",
      "model_module_version": "1.2.0",
      "model_name": "LayoutModel",
      "state": {
       "_model_module": "@jupyter-widgets/base",
       "_model_module_version": "1.2.0",
       "_model_name": "LayoutModel",
       "_view_count": null,
       "_view_module": "@jupyter-widgets/base",
       "_view_module_version": "1.2.0",
       "_view_name": "LayoutView",
       "align_content": null,
       "align_items": null,
       "align_self": null,
       "border": null,
       "bottom": null,
       "display": null,
       "flex": null,
       "flex_flow": null,
       "grid_area": null,
       "grid_auto_columns": null,
       "grid_auto_flow": null,
       "grid_auto_rows": null,
       "grid_column": null,
       "grid_gap": null,
       "grid_row": null,
       "grid_template_areas": null,
       "grid_template_columns": null,
       "grid_template_rows": null,
       "height": null,
       "justify_content": null,
       "justify_items": null,
       "left": null,
       "margin": null,
       "max_height": null,
       "max_width": null,
       "min_height": null,
       "min_width": null,
       "object_fit": null,
       "object_position": null,
       "order": null,
       "overflow": null,
       "overflow_x": null,
       "overflow_y": null,
       "padding": null,
       "right": null,
       "top": null,
       "visibility": null,
       "width": null
      }
     },
     "8c72fe24b0884112b5012a9eab9ee1d8": {
      "model_module": "@jupyter-widgets/base",
      "model_module_version": "1.2.0",
      "model_name": "LayoutModel",
      "state": {
       "_model_module": "@jupyter-widgets/base",
       "_model_module_version": "1.2.0",
       "_model_name": "LayoutModel",
       "_view_count": null,
       "_view_module": "@jupyter-widgets/base",
       "_view_module_version": "1.2.0",
       "_view_name": "LayoutView",
       "align_content": null,
       "align_items": null,
       "align_self": null,
       "border": null,
       "bottom": null,
       "display": null,
       "flex": null,
       "flex_flow": null,
       "grid_area": null,
       "grid_auto_columns": null,
       "grid_auto_flow": null,
       "grid_auto_rows": null,
       "grid_column": null,
       "grid_gap": null,
       "grid_row": null,
       "grid_template_areas": null,
       "grid_template_columns": null,
       "grid_template_rows": null,
       "height": null,
       "justify_content": null,
       "justify_items": null,
       "left": null,
       "margin": null,
       "max_height": null,
       "max_width": null,
       "min_height": null,
       "min_width": null,
       "object_fit": null,
       "object_position": null,
       "order": null,
       "overflow": null,
       "overflow_x": null,
       "overflow_y": null,
       "padding": null,
       "right": null,
       "top": null,
       "visibility": null,
       "width": null
      }
     },
     "93374338945c4afb9d3bd16f9d010333": {
      "model_module": "@jupyter-widgets/base",
      "model_module_version": "1.2.0",
      "model_name": "LayoutModel",
      "state": {
       "_model_module": "@jupyter-widgets/base",
       "_model_module_version": "1.2.0",
       "_model_name": "LayoutModel",
       "_view_count": null,
       "_view_module": "@jupyter-widgets/base",
       "_view_module_version": "1.2.0",
       "_view_name": "LayoutView",
       "align_content": null,
       "align_items": null,
       "align_self": null,
       "border": null,
       "bottom": null,
       "display": null,
       "flex": null,
       "flex_flow": null,
       "grid_area": null,
       "grid_auto_columns": null,
       "grid_auto_flow": null,
       "grid_auto_rows": null,
       "grid_column": null,
       "grid_gap": null,
       "grid_row": null,
       "grid_template_areas": null,
       "grid_template_columns": null,
       "grid_template_rows": null,
       "height": null,
       "justify_content": null,
       "justify_items": null,
       "left": null,
       "margin": null,
       "max_height": null,
       "max_width": null,
       "min_height": null,
       "min_width": null,
       "object_fit": null,
       "object_position": null,
       "order": null,
       "overflow": null,
       "overflow_x": null,
       "overflow_y": null,
       "padding": null,
       "right": null,
       "top": null,
       "visibility": null,
       "width": null
      }
     },
     "93cd747b81914c03bff21be5dbc5873c": {
      "model_module": "@jupyter-widgets/controls",
      "model_module_version": "1.5.0",
      "model_name": "DescriptionStyleModel",
      "state": {
       "_model_module": "@jupyter-widgets/controls",
       "_model_module_version": "1.5.0",
       "_model_name": "DescriptionStyleModel",
       "_view_count": null,
       "_view_module": "@jupyter-widgets/base",
       "_view_module_version": "1.2.0",
       "_view_name": "StyleView",
       "description_width": ""
      }
     },
     "97b56a48bf4a4c85a016e3d4a83cb176": {
      "model_module": "@jupyter-widgets/controls",
      "model_module_version": "1.5.0",
      "model_name": "DescriptionStyleModel",
      "state": {
       "_model_module": "@jupyter-widgets/controls",
       "_model_module_version": "1.5.0",
       "_model_name": "DescriptionStyleModel",
       "_view_count": null,
       "_view_module": "@jupyter-widgets/base",
       "_view_module_version": "1.2.0",
       "_view_name": "StyleView",
       "description_width": ""
      }
     },
     "aea6b40c974c4623ba85d802a0b60d46": {
      "model_module": "@jupyter-widgets/base",
      "model_module_version": "1.2.0",
      "model_name": "LayoutModel",
      "state": {
       "_model_module": "@jupyter-widgets/base",
       "_model_module_version": "1.2.0",
       "_model_name": "LayoutModel",
       "_view_count": null,
       "_view_module": "@jupyter-widgets/base",
       "_view_module_version": "1.2.0",
       "_view_name": "LayoutView",
       "align_content": null,
       "align_items": null,
       "align_self": null,
       "border": null,
       "bottom": null,
       "display": null,
       "flex": null,
       "flex_flow": null,
       "grid_area": null,
       "grid_auto_columns": null,
       "grid_auto_flow": null,
       "grid_auto_rows": null,
       "grid_column": null,
       "grid_gap": null,
       "grid_row": null,
       "grid_template_areas": null,
       "grid_template_columns": null,
       "grid_template_rows": null,
       "height": null,
       "justify_content": null,
       "justify_items": null,
       "left": null,
       "margin": null,
       "max_height": null,
       "max_width": null,
       "min_height": null,
       "min_width": null,
       "object_fit": null,
       "object_position": null,
       "order": null,
       "overflow": null,
       "overflow_x": null,
       "overflow_y": null,
       "padding": null,
       "right": null,
       "top": null,
       "visibility": null,
       "width": null
      }
     },
     "bc6582de08fb4d4eab4c0bc59bde0de2": {
      "model_module": "@jupyter-widgets/controls",
      "model_module_version": "1.5.0",
      "model_name": "FloatProgressModel",
      "state": {
       "_dom_classes": [],
       "_model_module": "@jupyter-widgets/controls",
       "_model_module_version": "1.5.0",
       "_model_name": "FloatProgressModel",
       "_view_count": null,
       "_view_module": "@jupyter-widgets/controls",
       "_view_module_version": "1.5.0",
       "_view_name": "ProgressView",
       "bar_style": "success",
       "description": "",
       "description_tooltip": null,
       "layout": "IPY_MODEL_684364a91df144e4890fc6b6256e3eab",
       "max": 52.0,
       "min": 0.0,
       "orientation": "horizontal",
       "style": "IPY_MODEL_dbd6fd6d2e874a868cea00f09362c317",
       "value": 52.0
      }
     },
     "bce4f77f6ea14624bf69038d76b538b5": {
      "model_module": "@jupyter-widgets/controls",
      "model_module_version": "1.5.0",
      "model_name": "DescriptionStyleModel",
      "state": {
       "_model_module": "@jupyter-widgets/controls",
       "_model_module_version": "1.5.0",
       "_model_name": "DescriptionStyleModel",
       "_view_count": null,
       "_view_module": "@jupyter-widgets/base",
       "_view_module_version": "1.2.0",
       "_view_name": "StyleView",
       "description_width": ""
      }
     },
     "ce9fd18d00874cdfb1b557f8af6b3d14": {
      "model_module": "@jupyter-widgets/base",
      "model_module_version": "1.2.0",
      "model_name": "LayoutModel",
      "state": {
       "_model_module": "@jupyter-widgets/base",
       "_model_module_version": "1.2.0",
       "_model_name": "LayoutModel",
       "_view_count": null,
       "_view_module": "@jupyter-widgets/base",
       "_view_module_version": "1.2.0",
       "_view_name": "LayoutView",
       "align_content": null,
       "align_items": null,
       "align_self": null,
       "border": null,
       "bottom": null,
       "display": null,
       "flex": null,
       "flex_flow": null,
       "grid_area": null,
       "grid_auto_columns": null,
       "grid_auto_flow": null,
       "grid_auto_rows": null,
       "grid_column": null,
       "grid_gap": null,
       "grid_row": null,
       "grid_template_areas": null,
       "grid_template_columns": null,
       "grid_template_rows": null,
       "height": null,
       "justify_content": null,
       "justify_items": null,
       "left": null,
       "margin": null,
       "max_height": null,
       "max_width": null,
       "min_height": null,
       "min_width": null,
       "object_fit": null,
       "object_position": null,
       "order": null,
       "overflow": null,
       "overflow_x": null,
       "overflow_y": null,
       "padding": null,
       "right": null,
       "top": null,
       "visibility": null,
       "width": null
      }
     },
     "d1bebee36fba4993955b7ff429c5cd19": {
      "model_module": "@jupyter-widgets/base",
      "model_module_version": "1.2.0",
      "model_name": "LayoutModel",
      "state": {
       "_model_module": "@jupyter-widgets/base",
       "_model_module_version": "1.2.0",
       "_model_name": "LayoutModel",
       "_view_count": null,
       "_view_module": "@jupyter-widgets/base",
       "_view_module_version": "1.2.0",
       "_view_name": "LayoutView",
       "align_content": null,
       "align_items": null,
       "align_self": null,
       "border": null,
       "bottom": null,
       "display": null,
       "flex": null,
       "flex_flow": null,
       "grid_area": null,
       "grid_auto_columns": null,
       "grid_auto_flow": null,
       "grid_auto_rows": null,
       "grid_column": null,
       "grid_gap": null,
       "grid_row": null,
       "grid_template_areas": null,
       "grid_template_columns": null,
       "grid_template_rows": null,
       "height": null,
       "justify_content": null,
       "justify_items": null,
       "left": null,
       "margin": null,
       "max_height": null,
       "max_width": null,
       "min_height": null,
       "min_width": null,
       "object_fit": null,
       "object_position": null,
       "order": null,
       "overflow": null,
       "overflow_x": null,
       "overflow_y": null,
       "padding": null,
       "right": null,
       "top": null,
       "visibility": null,
       "width": null
      }
     },
     "d27b02029c2e49b88ec46fe4a5307a82": {
      "model_module": "@jupyter-widgets/base",
      "model_module_version": "1.2.0",
      "model_name": "LayoutModel",
      "state": {
       "_model_module": "@jupyter-widgets/base",
       "_model_module_version": "1.2.0",
       "_model_name": "LayoutModel",
       "_view_count": null,
       "_view_module": "@jupyter-widgets/base",
       "_view_module_version": "1.2.0",
       "_view_name": "LayoutView",
       "align_content": null,
       "align_items": null,
       "align_self": null,
       "border": null,
       "bottom": null,
       "display": null,
       "flex": null,
       "flex_flow": null,
       "grid_area": null,
       "grid_auto_columns": null,
       "grid_auto_flow": null,
       "grid_auto_rows": null,
       "grid_column": null,
       "grid_gap": null,
       "grid_row": null,
       "grid_template_areas": null,
       "grid_template_columns": null,
       "grid_template_rows": null,
       "height": null,
       "justify_content": null,
       "justify_items": null,
       "left": null,
       "margin": null,
       "max_height": null,
       "max_width": null,
       "min_height": null,
       "min_width": null,
       "object_fit": null,
       "object_position": null,
       "order": null,
       "overflow": null,
       "overflow_x": null,
       "overflow_y": null,
       "padding": null,
       "right": null,
       "top": null,
       "visibility": null,
       "width": null
      }
     },
     "d9f9649615cf4da9964c4dbc7d62b9f1": {
      "model_module": "@jupyter-widgets/controls",
      "model_module_version": "1.5.0",
      "model_name": "DescriptionStyleModel",
      "state": {
       "_model_module": "@jupyter-widgets/controls",
       "_model_module_version": "1.5.0",
       "_model_name": "DescriptionStyleModel",
       "_view_count": null,
       "_view_module": "@jupyter-widgets/base",
       "_view_module_version": "1.2.0",
       "_view_name": "StyleView",
       "description_width": ""
      }
     },
     "dbd6fd6d2e874a868cea00f09362c317": {
      "model_module": "@jupyter-widgets/controls",
      "model_module_version": "1.5.0",
      "model_name": "ProgressStyleModel",
      "state": {
       "_model_module": "@jupyter-widgets/controls",
       "_model_module_version": "1.5.0",
       "_model_name": "ProgressStyleModel",
       "_view_count": null,
       "_view_module": "@jupyter-widgets/base",
       "_view_module_version": "1.2.0",
       "_view_name": "StyleView",
       "bar_color": null,
       "description_width": ""
      }
     },
     "e80d1e33190f4be595f6eebe433f7e89": {
      "model_module": "@jupyter-widgets/controls",
      "model_module_version": "1.5.0",
      "model_name": "HBoxModel",
      "state": {
       "_dom_classes": [],
       "_model_module": "@jupyter-widgets/controls",
       "_model_module_version": "1.5.0",
       "_model_name": "HBoxModel",
       "_view_count": null,
       "_view_module": "@jupyter-widgets/controls",
       "_view_module_version": "1.5.0",
       "_view_name": "HBoxView",
       "box_style": "",
       "children": [
        "IPY_MODEL_ee80b3ca87594ce086d11d5268a3c9c3",
        "IPY_MODEL_bc6582de08fb4d4eab4c0bc59bde0de2",
        "IPY_MODEL_239ed39807cc43069c6822175f62254f"
       ],
       "layout": "IPY_MODEL_d27b02029c2e49b88ec46fe4a5307a82"
      }
     },
     "ee80b3ca87594ce086d11d5268a3c9c3": {
      "model_module": "@jupyter-widgets/controls",
      "model_module_version": "1.5.0",
      "model_name": "HTMLModel",
      "state": {
       "_dom_classes": [],
       "_model_module": "@jupyter-widgets/controls",
       "_model_module_version": "1.5.0",
       "_model_name": "HTMLModel",
       "_view_count": null,
       "_view_module": "@jupyter-widgets/controls",
       "_view_module_version": "1.5.0",
       "_view_name": "HTMLView",
       "description": "",
       "description_tooltip": null,
       "layout": "IPY_MODEL_87f12f299f8c4ba18ca0f185f63ccd76",
       "placeholder": "​",
       "style": "IPY_MODEL_62f6fa2333a04929b89586eef401371f",
       "value": "tokenizer_config.json: 100%"
      }
     }
    },
    "version_major": 2,
    "version_minor": 0
   }
  }
 },
 "nbformat": 4,
 "nbformat_minor": 5
}
